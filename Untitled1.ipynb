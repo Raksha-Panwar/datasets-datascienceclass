{
 "cells": [
  {
   "cell_type": "code",
   "execution_count": null,
   "id": "61670ece",
   "metadata": {},
   "outputs": [],
   "source": [
    "s=0\n",
    "t=int(input())\n",
    "for i in range (t):\n",
    "    n=int(input())\n",
    "    while n :\n",
    "        a=n%10\n",
    "        s=s+a\n",
    "        n=int(n/10)\n",
    "    print(s)"
   ]
  },
  {
   "cell_type": "code",
   "execution_count": null,
   "id": "a731c9c4",
   "metadata": {},
   "outputs": [],
   "source": []
  }
 ],
 "metadata": {
  "kernelspec": {
   "display_name": "Python 3 (ipykernel)",
   "language": "python",
   "name": "python3"
  },
  "language_info": {
   "codemirror_mode": {
    "name": "ipython",
    "version": 3
   },
   "file_extension": ".py",
   "mimetype": "text/x-python",
   "name": "python",
   "nbconvert_exporter": "python",
   "pygments_lexer": "ipython3",
   "version": "3.8.8"
  }
 },
 "nbformat": 4,
 "nbformat_minor": 5
}
