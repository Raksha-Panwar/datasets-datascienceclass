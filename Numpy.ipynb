{
 "cells": [
  {
   "cell_type": "markdown",
   "id": "6961b415",
   "metadata": {},
   "source": [
    "# numpy: package for multidimensional array"
   ]
  },
  {
   "cell_type": "code",
   "execution_count": 25,
   "id": "a6bc7118",
   "metadata": {},
   "outputs": [],
   "source": [
    "#shift tab to check document"
   ]
  },
  {
   "cell_type": "code",
   "execution_count": 4,
   "id": "2b3bccaa",
   "metadata": {},
   "outputs": [],
   "source": [
    "# Numpy: Numerical python"
   ]
  },
  {
   "cell_type": "code",
   "execution_count": 1,
   "id": "29fa6486",
   "metadata": {},
   "outputs": [],
   "source": [
    "import numpy as np"
   ]
  },
  {
   "cell_type": "code",
   "execution_count": 3,
   "id": "c3c27770",
   "metadata": {},
   "outputs": [
    {
     "data": {
      "text/plain": [
       "array([2, 4, 6, 8])"
      ]
     },
     "execution_count": 3,
     "metadata": {},
     "output_type": "execute_result"
    }
   ],
   "source": [
    "arr=np.array([2,4,6,8])\n",
    "arr"
   ]
  },
  {
   "cell_type": "code",
   "execution_count": 5,
   "id": "9f307fe5",
   "metadata": {},
   "outputs": [],
   "source": [
    "list = [2,5,9]"
   ]
  },
  {
   "cell_type": "code",
   "execution_count": 7,
   "id": "bf8ccdb6",
   "metadata": {},
   "outputs": [
    {
     "data": {
      "text/plain": [
       "array([2, 5, 9])"
      ]
     },
     "execution_count": 7,
     "metadata": {},
     "output_type": "execute_result"
    }
   ],
   "source": [
    "arr1= np.array(list)\n",
    "arr1"
   ]
  },
  {
   "cell_type": "code",
   "execution_count": 19,
   "id": "8e484c7e",
   "metadata": {},
   "outputs": [
    {
     "name": "stdout",
     "output_type": "stream",
     "text": [
      "<class 'tuple'>\n"
     ]
    },
    {
     "data": {
      "text/plain": [
       "array([2, 5, 7])"
      ]
     },
     "execution_count": 19,
     "metadata": {},
     "output_type": "execute_result"
    }
   ],
   "source": [
    "print(type((2,5,7)))\n",
    "arr2=np.array((2,5,7))\n",
    "arr2"
   ]
  },
  {
   "cell_type": "code",
   "execution_count": 5,
   "id": "5aec7c77",
   "metadata": {},
   "outputs": [
    {
     "data": {
      "text/plain": [
       "array({'a': 1, 'b': 2, 'c': 5, 'd': 7}, dtype=object)"
      ]
     },
     "execution_count": 5,
     "metadata": {},
     "output_type": "execute_result"
    }
   ],
   "source": [
    "ar=np.array({'a':1,'b':2,'c':5,'d':7})\n",
    "ar"
   ]
  },
  {
   "cell_type": "markdown",
   "id": "f033ded6",
   "metadata": {},
   "source": [
    "### np.array takes only one argument"
   ]
  },
  {
   "cell_type": "code",
   "execution_count": 12,
   "id": "ba8f10f6",
   "metadata": {},
   "outputs": [],
   "source": [
    "list3 = [[1,2,3],[4,5,6],[7,8,9]]"
   ]
  },
  {
   "cell_type": "code",
   "execution_count": 13,
   "id": "ff605303",
   "metadata": {},
   "outputs": [
    {
     "data": {
      "text/plain": [
       "array([[1, 2, 3],\n",
       "       [4, 5, 6],\n",
       "       [7, 8, 9]])"
      ]
     },
     "execution_count": 13,
     "metadata": {},
     "output_type": "execute_result"
    }
   ],
   "source": [
    "arr3=np.array(list2)\n",
    "arr3"
   ]
  },
  {
   "cell_type": "code",
   "execution_count": 24,
   "id": "c8d0692c",
   "metadata": {},
   "outputs": [
    {
     "data": {
      "text/plain": [
       "array([0, 1, 2, 3, 4, 5, 6])"
      ]
     },
     "execution_count": 24,
     "metadata": {},
     "output_type": "execute_result"
    }
   ],
   "source": [
    "np.arange(7)"
   ]
  },
  {
   "cell_type": "code",
   "execution_count": 20,
   "id": "22406e12",
   "metadata": {},
   "outputs": [
    {
     "data": {
      "text/plain": [
       "array([2, 3, 4, 5, 6, 7, 8, 9])"
      ]
     },
     "execution_count": 20,
     "metadata": {},
     "output_type": "execute_result"
    }
   ],
   "source": [
    "np.arange(2,10)"
   ]
  },
  {
   "cell_type": "code",
   "execution_count": 22,
   "id": "2ed3a1d9",
   "metadata": {
    "scrolled": true
   },
   "outputs": [
    {
     "data": {
      "text/plain": [
       "array([ 2,  5,  8, 11, 14, 17])"
      ]
     },
     "execution_count": 22,
     "metadata": {},
     "output_type": "execute_result"
    }
   ],
   "source": [
    "np.arange(2,19,3)"
   ]
  },
  {
   "cell_type": "code",
   "execution_count": 20,
   "id": "3c2c7215",
   "metadata": {},
   "outputs": [
    {
     "ename": "TypeError",
     "evalue": "arange: scalar arguments expected instead of a tuple.",
     "output_type": "error",
     "traceback": [
      "\u001b[1;31m---------------------------------------------------------------------------\u001b[0m",
      "\u001b[1;31mTypeError\u001b[0m                                 Traceback (most recent call last)",
      "Cell \u001b[1;32mIn[20], line 1\u001b[0m\n\u001b[1;32m----> 1\u001b[0m \u001b[43mnp\u001b[49m\u001b[38;5;241;43m.\u001b[39;49m\u001b[43marange\u001b[49m\u001b[43m(\u001b[49m\u001b[43m(\u001b[49m\u001b[38;5;241;43m2\u001b[39;49m\u001b[43m,\u001b[49m\u001b[38;5;241;43m19\u001b[39;49m\u001b[43m,\u001b[49m\u001b[38;5;241;43m3\u001b[39;49m\u001b[43m)\u001b[49m\u001b[43m)\u001b[49m\n",
      "\u001b[1;31mTypeError\u001b[0m: arange: scalar arguments expected instead of a tuple."
     ]
    }
   ],
   "source": [
    "np.arange((2,19,3))"
   ]
  },
  {
   "cell_type": "code",
   "execution_count": 4,
   "id": "a3aeec70",
   "metadata": {},
   "outputs": [
    {
     "data": {
      "text/plain": [
       "array([ 0.,  1.,  2.,  3.,  4.,  5.,  6.,  7.,  8.,  9., 10., 11., 12.,\n",
       "       13., 14., 15., 16., 17., 18., 19., 20., 21., 22., 23., 24., 25.,\n",
       "       26., 27., 28., 29., 30., 31., 32.])"
      ]
     },
     "execution_count": 4,
     "metadata": {},
     "output_type": "execute_result"
    }
   ],
   "source": [
    "np.arange(33,dtype='float')"
   ]
  },
  {
   "cell_type": "code",
   "execution_count": 5,
   "id": "308778e5",
   "metadata": {},
   "outputs": [
    {
     "data": {
      "text/plain": [
       "array([19., 20., 21., 22., 23., 24., 25., 26., 27., 28., 29., 30., 31.,\n",
       "       32.])"
      ]
     },
     "execution_count": 5,
     "metadata": {},
     "output_type": "execute_result"
    }
   ],
   "source": [
    "np.arange(19,33,dtype='float')"
   ]
  },
  {
   "cell_type": "code",
   "execution_count": 6,
   "id": "8606c576",
   "metadata": {},
   "outputs": [
    {
     "ename": "AttributeError",
     "evalue": "module 'numpy' has no attribute 'range'",
     "output_type": "error",
     "traceback": [
      "\u001b[1;31m---------------------------------------------------------------------------\u001b[0m",
      "\u001b[1;31mAttributeError\u001b[0m                            Traceback (most recent call last)",
      "Cell \u001b[1;32mIn[6], line 1\u001b[0m\n\u001b[1;32m----> 1\u001b[0m \u001b[43mnp\u001b[49m\u001b[38;5;241;43m.\u001b[39;49m\u001b[43mrange\u001b[49m(\u001b[38;5;241m12\u001b[39m)\n",
      "File \u001b[1;32mC:\\ProgramData\\anaconda3\\lib\\site-packages\\numpy\\__init__.py:311\u001b[0m, in \u001b[0;36m__getattr__\u001b[1;34m(attr)\u001b[0m\n\u001b[0;32m    308\u001b[0m     \u001b[38;5;28;01mfrom\u001b[39;00m \u001b[38;5;21;01m.\u001b[39;00m\u001b[38;5;21;01mtesting\u001b[39;00m \u001b[38;5;28;01mimport\u001b[39;00m Tester\n\u001b[0;32m    309\u001b[0m     \u001b[38;5;28;01mreturn\u001b[39;00m Tester\n\u001b[1;32m--> 311\u001b[0m \u001b[38;5;28;01mraise\u001b[39;00m \u001b[38;5;167;01mAttributeError\u001b[39;00m(\u001b[38;5;124m\"\u001b[39m\u001b[38;5;124mmodule \u001b[39m\u001b[38;5;132;01m{!r}\u001b[39;00m\u001b[38;5;124m has no attribute \u001b[39m\u001b[38;5;124m\"\u001b[39m\n\u001b[0;32m    312\u001b[0m                      \u001b[38;5;124m\"\u001b[39m\u001b[38;5;132;01m{!r}\u001b[39;00m\u001b[38;5;124m\"\u001b[39m\u001b[38;5;241m.\u001b[39mformat(\u001b[38;5;18m__name__\u001b[39m, attr))\n",
      "\u001b[1;31mAttributeError\u001b[0m: module 'numpy' has no attribute 'range'"
     ]
    }
   ],
   "source": [
    "np.range(12)"
   ]
  },
  {
   "cell_type": "code",
   "execution_count": 28,
   "id": "58fc74f1",
   "metadata": {
    "scrolled": true
   },
   "outputs": [
    {
     "data": {
      "text/plain": [
       "array([0., 0., 0., 0., 0., 0., 0., 0., 0., 0., 0., 0., 0.])"
      ]
     },
     "execution_count": 28,
     "metadata": {},
     "output_type": "execute_result"
    }
   ],
   "source": [
    "np.zeros(13)"
   ]
  },
  {
   "cell_type": "code",
   "execution_count": 27,
   "id": "3ea37438",
   "metadata": {
    "scrolled": false
   },
   "outputs": [
    {
     "data": {
      "text/plain": [
       "array([0, 0, 0, 0, 0, 0, 0, 0, 0, 0, 0, 0, 0])"
      ]
     },
     "execution_count": 27,
     "metadata": {},
     "output_type": "execute_result"
    }
   ],
   "source": [
    "np.zeros(13,int)"
   ]
  },
  {
   "cell_type": "code",
   "execution_count": 2,
   "id": "9a5e5a68",
   "metadata": {},
   "outputs": [],
   "source": [
    "import numpy as np"
   ]
  },
  {
   "cell_type": "code",
   "execution_count": 11,
   "id": "16662ec4",
   "metadata": {},
   "outputs": [
    {
     "data": {
      "text/plain": [
       "array([[0., 0., 0., 0., 0., 0., 0.],\n",
       "       [0., 0., 0., 0., 0., 0., 0.],\n",
       "       [0., 0., 0., 0., 0., 0., 0.]])"
      ]
     },
     "execution_count": 11,
     "metadata": {},
     "output_type": "execute_result"
    }
   ],
   "source": [
    "np.zeros((3,7))"
   ]
  },
  {
   "cell_type": "code",
   "execution_count": 9,
   "id": "bbf8d228",
   "metadata": {},
   "outputs": [
    {
     "ename": "TypeError",
     "evalue": "Cannot interpret '7' as a data type",
     "output_type": "error",
     "traceback": [
      "\u001b[1;31m---------------------------------------------------------------------------\u001b[0m",
      "\u001b[1;31mTypeError\u001b[0m                                 Traceback (most recent call last)",
      "Cell \u001b[1;32mIn[9], line 1\u001b[0m\n\u001b[1;32m----> 1\u001b[0m \u001b[43mnp\u001b[49m\u001b[38;5;241;43m.\u001b[39;49m\u001b[43mzeros\u001b[49m\u001b[43m(\u001b[49m\u001b[38;5;241;43m3\u001b[39;49m\u001b[43m,\u001b[49m\u001b[38;5;241;43m7\u001b[39;49m\u001b[43m,\u001b[49m\u001b[38;5;28;43mint\u001b[39;49m\u001b[43m)\u001b[49m\n",
      "\u001b[1;31mTypeError\u001b[0m: Cannot interpret '7' as a data type"
     ]
    }
   ],
   "source": [
    "np.zeros(3,7,int)"
   ]
  },
  {
   "cell_type": "code",
   "execution_count": 8,
   "id": "596cd128",
   "metadata": {},
   "outputs": [
    {
     "data": {
      "text/plain": [
       "array([[0, 0, 0, 0, 0, 0, 0],\n",
       "       [0, 0, 0, 0, 0, 0, 0],\n",
       "       [0, 0, 0, 0, 0, 0, 0]])"
      ]
     },
     "execution_count": 8,
     "metadata": {},
     "output_type": "execute_result"
    }
   ],
   "source": [
    "np.zeros((3,7),int)\n"
   ]
  },
  {
   "cell_type": "code",
   "execution_count": 12,
   "id": "b3c786f2",
   "metadata": {},
   "outputs": [
    {
     "data": {
      "text/plain": [
       "array([[False, False, False, False, False, False, False],\n",
       "       [False, False, False, False, False, False, False],\n",
       "       [False, False, False, False, False, False, False]])"
      ]
     },
     "execution_count": 12,
     "metadata": {},
     "output_type": "execute_result"
    }
   ],
   "source": [
    "np.zeros((3,7),bool)"
   ]
  },
  {
   "cell_type": "code",
   "execution_count": 3,
   "id": "c2fb1f64",
   "metadata": {},
   "outputs": [
    {
     "data": {
      "text/plain": [
       "array([1, 1, 1, 1, 1, 1, 1, 1, 1, 1])"
      ]
     },
     "execution_count": 3,
     "metadata": {},
     "output_type": "execute_result"
    }
   ],
   "source": [
    "np.ones(10,int)"
   ]
  },
  {
   "cell_type": "code",
   "execution_count": 4,
   "id": "b1e646b8",
   "metadata": {},
   "outputs": [
    {
     "data": {
      "text/plain": [
       "array([[1., 1., 1.],\n",
       "       [1., 1., 1.]])"
      ]
     },
     "execution_count": 4,
     "metadata": {},
     "output_type": "execute_result"
    }
   ],
   "source": [
    "np.ones((2,3))"
   ]
  },
  {
   "cell_type": "code",
   "execution_count": 5,
   "id": "55dd4ec7",
   "metadata": {
    "scrolled": true
   },
   "outputs": [
    {
     "data": {
      "text/plain": [
       "array([[1, 1, 1],\n",
       "       [1, 1, 1]])"
      ]
     },
     "execution_count": 5,
     "metadata": {},
     "output_type": "execute_result"
    }
   ],
   "source": [
    "np.ones((2,3),int)"
   ]
  },
  {
   "cell_type": "code",
   "execution_count": 14,
   "id": "b2e5c13d",
   "metadata": {},
   "outputs": [
    {
     "data": {
      "text/plain": [
       "array([[[1, 1, 1],\n",
       "        [1, 1, 1],\n",
       "        [1, 1, 1],\n",
       "        [1, 1, 1],\n",
       "        [1, 1, 1]],\n",
       "\n",
       "       [[1, 1, 1],\n",
       "        [1, 1, 1],\n",
       "        [1, 1, 1],\n",
       "        [1, 1, 1],\n",
       "        [1, 1, 1]]])"
      ]
     },
     "execution_count": 14,
     "metadata": {},
     "output_type": "execute_result"
    }
   ],
   "source": [
    "np.ones((2,5,3),int)"
   ]
  },
  {
   "cell_type": "markdown",
   "id": "001630a1",
   "metadata": {},
   "source": [
    "### linspace creates 5 elements with equal difference in range 0 to 1"
   ]
  },
  {
   "cell_type": "code",
   "execution_count": 6,
   "id": "4ac0da90",
   "metadata": {},
   "outputs": [
    {
     "data": {
      "text/plain": [
       "array([0.  , 0.25, 0.5 , 0.75, 1.  ])"
      ]
     },
     "execution_count": 6,
     "metadata": {},
     "output_type": "execute_result"
    }
   ],
   "source": [
    "np.linspace(0,1,5)"
   ]
  },
  {
   "cell_type": "code",
   "execution_count": 2,
   "id": "82670317",
   "metadata": {},
   "outputs": [
    {
     "data": {
      "text/plain": [
       "array([0.        , 0.66666667, 1.33333333, 2.        , 2.66666667,\n",
       "       3.33333333, 4.        ])"
      ]
     },
     "execution_count": 2,
     "metadata": {},
     "output_type": "execute_result"
    }
   ],
   "source": [
    "np.linspace(0,4,7)"
   ]
  },
  {
   "cell_type": "markdown",
   "id": "ecbab814",
   "metadata": {},
   "source": [
    "### identity matrixx"
   ]
  },
  {
   "cell_type": "code",
   "execution_count": 45,
   "id": "78f79312",
   "metadata": {},
   "outputs": [
    {
     "data": {
      "text/plain": [
       "array([[1., 0., 0., 0., 0.],\n",
       "       [0., 1., 0., 0., 0.],\n",
       "       [0., 0., 1., 0., 0.],\n",
       "       [0., 0., 0., 1., 0.],\n",
       "       [0., 0., 0., 0., 1.]])"
      ]
     },
     "execution_count": 45,
     "metadata": {},
     "output_type": "execute_result"
    }
   ],
   "source": [
    "a=np.eye(5)\n",
    "a"
   ]
  },
  {
   "cell_type": "markdown",
   "id": "3c42ea82",
   "metadata": {},
   "source": [
    "### transpose of array"
   ]
  },
  {
   "cell_type": "code",
   "execution_count": 48,
   "id": "72474cf3",
   "metadata": {},
   "outputs": [
    {
     "data": {
      "text/plain": [
       "array([[1., 0., 0., 0., 0.],\n",
       "       [0., 1., 0., 0., 0.],\n",
       "       [0., 0., 1., 0., 0.],\n",
       "       [0., 0., 0., 1., 0.],\n",
       "       [0., 0., 0., 0., 1.]])"
      ]
     },
     "execution_count": 48,
     "metadata": {},
     "output_type": "execute_result"
    }
   ],
   "source": [
    "b=a.T\n",
    "b"
   ]
  },
  {
   "cell_type": "code",
   "execution_count": 19,
   "id": "39f9b31f",
   "metadata": {},
   "outputs": [
    {
     "data": {
      "text/plain": [
       "array([[1. , 1. , 0. ],\n",
       "       [4. , 2. , 3. ],\n",
       "       [8. , 0. , 4.8]])"
      ]
     },
     "execution_count": 19,
     "metadata": {},
     "output_type": "execute_result"
    }
   ],
   "source": [
    "ar=np.array([[1, 4, 8.],\n",
    "       [1., 2., 0.],\n",
    "       [0., 3., 4.8]])\n",
    "ar.T        "
   ]
  },
  {
   "cell_type": "code",
   "execution_count": 18,
   "id": "a1633825",
   "metadata": {},
   "outputs": [
    {
     "data": {
      "text/plain": [
       "array([[1, 1, 0],\n",
       "       [4, 2, 3],\n",
       "       [8, 0, 4]])"
      ]
     },
     "execution_count": 18,
     "metadata": {},
     "output_type": "execute_result"
    }
   ],
   "source": [
    "ar=np.array([[1, 4, 8],\n",
    "       [1, 2, 0],\n",
    "       [0, 3, 4]])\n",
    "ar.T "
   ]
  },
  {
   "cell_type": "markdown",
   "id": "25d54831",
   "metadata": {},
   "source": [
    "### creates random multiple dimensional array between range 0 to 1"
   ]
  },
  {
   "cell_type": "code",
   "execution_count": 21,
   "id": "c8899e03",
   "metadata": {},
   "outputs": [
    {
     "ename": "TypeError",
     "evalue": "'module' object is not callable",
     "output_type": "error",
     "traceback": [
      "\u001b[1;31m---------------------------------------------------------------------------\u001b[0m",
      "\u001b[1;31mTypeError\u001b[0m                                 Traceback (most recent call last)",
      "Cell \u001b[1;32mIn[21], line 1\u001b[0m\n\u001b[1;32m----> 1\u001b[0m \u001b[43mnp\u001b[49m\u001b[38;5;241;43m.\u001b[39;49m\u001b[43mrandom\u001b[49m\u001b[43m(\u001b[49m\u001b[38;5;241;43m7\u001b[39;49m\u001b[43m)\u001b[49m\n",
      "\u001b[1;31mTypeError\u001b[0m: 'module' object is not callable"
     ]
    }
   ],
   "source": [
    "np.random(7)"
   ]
  },
  {
   "cell_type": "code",
   "execution_count": 3,
   "id": "18934f38",
   "metadata": {},
   "outputs": [
    {
     "ename": "TypeError",
     "evalue": "'module' object is not callable",
     "output_type": "error",
     "traceback": [
      "\u001b[1;31m---------------------------------------------------------------------------\u001b[0m",
      "\u001b[1;31mTypeError\u001b[0m                                 Traceback (most recent call last)",
      "Cell \u001b[1;32mIn[3], line 1\u001b[0m\n\u001b[1;32m----> 1\u001b[0m \u001b[43mnp\u001b[49m\u001b[38;5;241;43m.\u001b[39;49m\u001b[43mrandom\u001b[49m\u001b[43m(\u001b[49m\u001b[43m)\u001b[49m\n",
      "\u001b[1;31mTypeError\u001b[0m: 'module' object is not callable"
     ]
    }
   ],
   "source": [
    "np.random()"
   ]
  },
  {
   "cell_type": "code",
   "execution_count": 7,
   "id": "34c2e908",
   "metadata": {},
   "outputs": [
    {
     "data": {
      "text/plain": [
       "0"
      ]
     },
     "execution_count": 7,
     "metadata": {},
     "output_type": "execute_result"
    }
   ],
   "source": [
    "np.random.randint(7)"
   ]
  },
  {
   "cell_type": "code",
   "execution_count": 51,
   "id": "e54937a0",
   "metadata": {},
   "outputs": [
    {
     "data": {
      "text/plain": [
       "15"
      ]
     },
     "execution_count": 51,
     "metadata": {},
     "output_type": "execute_result"
    }
   ],
   "source": [
    "np.random.randint(7,17)"
   ]
  },
  {
   "cell_type": "code",
   "execution_count": 29,
   "id": "b13e92b8",
   "metadata": {},
   "outputs": [
    {
     "data": {
      "text/plain": [
       "array([12, 16,  7])"
      ]
     },
     "execution_count": 29,
     "metadata": {},
     "output_type": "execute_result"
    }
   ],
   "source": [
    "np.random.randint(7,17,3)"
   ]
  },
  {
   "cell_type": "code",
   "execution_count": 43,
   "id": "650e1a6a",
   "metadata": {},
   "outputs": [
    {
     "ename": "AttributeError",
     "evalue": "module 'numpy.random' has no attribute 'randfloat'",
     "output_type": "error",
     "traceback": [
      "\u001b[1;31m---------------------------------------------------------------------------\u001b[0m",
      "\u001b[1;31mAttributeError\u001b[0m                            Traceback (most recent call last)",
      "Cell \u001b[1;32mIn[43], line 1\u001b[0m\n\u001b[1;32m----> 1\u001b[0m \u001b[43mnp\u001b[49m\u001b[38;5;241;43m.\u001b[39;49m\u001b[43mrandom\u001b[49m\u001b[38;5;241;43m.\u001b[39;49m\u001b[43mrandfloat\u001b[49m(\u001b[38;5;241m7\u001b[39m)\n",
      "\u001b[1;31mAttributeError\u001b[0m: module 'numpy.random' has no attribute 'randfloat'"
     ]
    }
   ],
   "source": [
    "np.random.randfloat(7)"
   ]
  },
  {
   "cell_type": "code",
   "execution_count": 30,
   "id": "caf2de7c",
   "metadata": {},
   "outputs": [
    {
     "data": {
      "text/plain": [
       "0.8443980989772946"
      ]
     },
     "execution_count": 30,
     "metadata": {},
     "output_type": "execute_result"
    }
   ],
   "source": [
    "np.random.rand()"
   ]
  },
  {
   "cell_type": "code",
   "execution_count": 53,
   "id": "0ae9bbf0",
   "metadata": {},
   "outputs": [
    {
     "data": {
      "text/plain": [
       "array([0.2401639 , 0.69260111, 0.82852286, 0.57058877])"
      ]
     },
     "execution_count": 53,
     "metadata": {},
     "output_type": "execute_result"
    }
   ],
   "source": [
    "np.random.rand(4)"
   ]
  },
  {
   "cell_type": "code",
   "execution_count": 18,
   "id": "c99e5e7b",
   "metadata": {},
   "outputs": [
    {
     "data": {
      "text/plain": [
       "array([[0.06586349, 0.5904037 , 0.5072304 , 0.18581179],\n",
       "       [0.67492958, 0.51459608, 0.40632418, 0.13163054]])"
      ]
     },
     "execution_count": 18,
     "metadata": {},
     "output_type": "execute_result"
    }
   ],
   "source": [
    "np.random.rand(2,4)"
   ]
  },
  {
   "cell_type": "markdown",
   "id": "3f27243c",
   "metadata": {},
   "source": [
    "### creates +ive and -ive random multiple dimensional array between range 0 to 1"
   ]
  },
  {
   "cell_type": "code",
   "execution_count": 54,
   "id": "d27eb9d8",
   "metadata": {},
   "outputs": [
    {
     "data": {
      "text/plain": [
       "array([ 1.3459981 , -3.29926823, -0.36667053,  0.06307697, -1.37939462])"
      ]
     },
     "execution_count": 54,
     "metadata": {},
     "output_type": "execute_result"
    }
   ],
   "source": [
    "np.random.randn(5)"
   ]
  },
  {
   "cell_type": "code",
   "execution_count": 19,
   "id": "5a98eca8",
   "metadata": {
    "scrolled": true
   },
   "outputs": [
    {
     "data": {
      "text/plain": [
       "array([[-0.42188931,  0.85929972, -0.65025117, -1.78303297, -1.96206034],\n",
       "       [ 0.29590774,  1.29844781,  0.11498361,  0.85296701, -0.8937523 ]])"
      ]
     },
     "execution_count": 19,
     "metadata": {},
     "output_type": "execute_result"
    }
   ],
   "source": [
    "np.random.randn(2,5)"
   ]
  },
  {
   "cell_type": "markdown",
   "id": "54b36fe4",
   "metadata": {},
   "source": [
    "### gives random integer . 2nd is optional else 2nd arg must be greater than first . 3rd is number of elements "
   ]
  },
  {
   "cell_type": "code",
   "execution_count": 21,
   "id": "4826f09e",
   "metadata": {},
   "outputs": [
    {
     "data": {
      "text/plain": [
       "86"
      ]
     },
     "execution_count": 21,
     "metadata": {},
     "output_type": "execute_result"
    }
   ],
   "source": [
    "np.random.randint(87)"
   ]
  },
  {
   "cell_type": "code",
   "execution_count": 26,
   "id": "47365044",
   "metadata": {
    "scrolled": true
   },
   "outputs": [
    {
     "data": {
      "text/plain": [
       "32"
      ]
     },
     "execution_count": 26,
     "metadata": {},
     "output_type": "execute_result"
    }
   ],
   "source": [
    "np.random.randint(9,87)"
   ]
  },
  {
   "cell_type": "code",
   "execution_count": 30,
   "id": "d2d67ffa",
   "metadata": {},
   "outputs": [
    {
     "ename": "ValueError",
     "evalue": "low >= high",
     "output_type": "error",
     "traceback": [
      "\u001b[1;31m---------------------------------------------------------------------------\u001b[0m",
      "\u001b[1;31mValueError\u001b[0m                                Traceback (most recent call last)",
      "Cell \u001b[1;32mIn[30], line 1\u001b[0m\n\u001b[1;32m----> 1\u001b[0m \u001b[43mnp\u001b[49m\u001b[38;5;241;43m.\u001b[39;49m\u001b[43mrandom\u001b[49m\u001b[38;5;241;43m.\u001b[39;49m\u001b[43mrandint\u001b[49m\u001b[43m(\u001b[49m\u001b[38;5;241;43m23\u001b[39;49m\u001b[43m,\u001b[49m\u001b[38;5;241;43m8\u001b[39;49m\u001b[43m)\u001b[49m\n",
      "File \u001b[1;32mmtrand.pyx:746\u001b[0m, in \u001b[0;36mnumpy.random.mtrand.RandomState.randint\u001b[1;34m()\u001b[0m\n",
      "File \u001b[1;32m_bounded_integers.pyx:1338\u001b[0m, in \u001b[0;36mnumpy.random._bounded_integers._rand_int32\u001b[1;34m()\u001b[0m\n",
      "\u001b[1;31mValueError\u001b[0m: low >= high"
     ]
    }
   ],
   "source": [
    "np.random.randint(23,8)"
   ]
  },
  {
   "cell_type": "code",
   "execution_count": 31,
   "id": "74f0ca70",
   "metadata": {},
   "outputs": [
    {
     "data": {
      "text/plain": [
       "array([15, 29, 24, 66, 22, 67, 66, 55, 20, 31, 17, 34, 72, 65, 36, 19, 38])"
      ]
     },
     "execution_count": 31,
     "metadata": {},
     "output_type": "execute_result"
    }
   ],
   "source": [
    "np.random.randint(14,75,17)"
   ]
  },
  {
   "cell_type": "code",
   "execution_count": 35,
   "id": "47689e98",
   "metadata": {},
   "outputs": [
    {
     "data": {
      "text/plain": [
       "array([29, 25, 36, 23, 49, 40, 31, 48, 63, 64, 43, 55, 46, 19, 44, 59, 39,\n",
       "       29, 37, 27, 54, 29, 16, 42, 54])"
      ]
     },
     "execution_count": 35,
     "metadata": {},
     "output_type": "execute_result"
    }
   ],
   "source": [
    "arr2= np.random.randint(13,67,25)\n",
    "arr2"
   ]
  },
  {
   "cell_type": "code",
   "execution_count": 57,
   "id": "d06171f4",
   "metadata": {},
   "outputs": [
    {
     "data": {
      "text/plain": [
       "array([ 0,  1,  2,  3,  4,  5,  6,  7,  8,  9, 10, 11, 12, 13, 14, 15, 16,\n",
       "       17, 18, 19, 20, 21, 22, 23, 24, 25, 26, 27, 28, 29])"
      ]
     },
     "execution_count": 57,
     "metadata": {},
     "output_type": "execute_result"
    }
   ],
   "source": [
    "arr3=np.arange(30)\n",
    "arr3"
   ]
  },
  {
   "cell_type": "markdown",
   "id": "83804f1e",
   "metadata": {},
   "source": [
    "### 9*7 = 63 which is range of array or total length of array else throws errror"
   ]
  },
  {
   "cell_type": "code",
   "execution_count": 58,
   "id": "1f3d23f0",
   "metadata": {},
   "outputs": [
    {
     "data": {
      "text/plain": [
       "array([[ 0,  1,  2,  3,  4],\n",
       "       [ 5,  6,  7,  8,  9],\n",
       "       [10, 11, 12, 13, 14],\n",
       "       [15, 16, 17, 18, 19],\n",
       "       [20, 21, 22, 23, 24],\n",
       "       [25, 26, 27, 28, 29]])"
      ]
     },
     "execution_count": 58,
     "metadata": {},
     "output_type": "execute_result"
    }
   ],
   "source": [
    "arr4=arr3.reshape(6,5)\n",
    "arr4"
   ]
  },
  {
   "cell_type": "code",
   "execution_count": 44,
   "id": "0a5819e7",
   "metadata": {},
   "outputs": [
    {
     "ename": "ValueError",
     "evalue": "cannot reshape array of size 63 into shape (9,8)",
     "output_type": "error",
     "traceback": [
      "\u001b[1;31m---------------------------------------------------------------------------\u001b[0m",
      "\u001b[1;31mValueError\u001b[0m                                Traceback (most recent call last)",
      "Cell \u001b[1;32mIn[44], line 1\u001b[0m\n\u001b[1;32m----> 1\u001b[0m \u001b[43marr3\u001b[49m\u001b[38;5;241;43m.\u001b[39;49m\u001b[43mreshape\u001b[49m\u001b[43m(\u001b[49m\u001b[38;5;241;43m9\u001b[39;49m\u001b[43m,\u001b[49m\u001b[38;5;241;43m8\u001b[39;49m\u001b[43m)\u001b[49m\n",
      "\u001b[1;31mValueError\u001b[0m: cannot reshape array of size 63 into shape (9,8)"
     ]
    }
   ],
   "source": [
    "arr3.reshape(9,8)"
   ]
  },
  {
   "cell_type": "code",
   "execution_count": 60,
   "id": "6f6ae86e",
   "metadata": {},
   "outputs": [
    {
     "data": {
      "text/plain": [
       "29"
      ]
     },
     "execution_count": 60,
     "metadata": {},
     "output_type": "execute_result"
    }
   ],
   "source": [
    "arr3.max()"
   ]
  },
  {
   "cell_type": "markdown",
   "id": "740858a1",
   "metadata": {},
   "source": [
    "### gives index of max element in array"
   ]
  },
  {
   "cell_type": "code",
   "execution_count": 62,
   "id": "8821da93",
   "metadata": {},
   "outputs": [
    {
     "data": {
      "text/plain": [
       "29"
      ]
     },
     "execution_count": 62,
     "metadata": {},
     "output_type": "execute_result"
    }
   ],
   "source": [
    "arr3.argmax()"
   ]
  },
  {
   "cell_type": "code",
   "execution_count": 63,
   "id": "9ab3d29e",
   "metadata": {},
   "outputs": [
    {
     "data": {
      "text/plain": [
       "0"
      ]
     },
     "execution_count": 63,
     "metadata": {},
     "output_type": "execute_result"
    }
   ],
   "source": [
    "arr3.argmin()"
   ]
  },
  {
   "cell_type": "markdown",
   "id": "b80566c5",
   "metadata": {},
   "source": [
    "### transposed the matrixx"
   ]
  },
  {
   "cell_type": "code",
   "execution_count": 52,
   "id": "2544d9e9",
   "metadata": {},
   "outputs": [
    {
     "data": {
      "text/plain": [
       "array([[ 0,  7, 14, 21, 28, 35, 42, 49, 56],\n",
       "       [ 1,  8, 15, 22, 29, 36, 43, 50, 57],\n",
       "       [ 2,  9, 16, 23, 30, 37, 44, 51, 58],\n",
       "       [ 3, 10, 17, 24, 31, 38, 45, 52, 59],\n",
       "       [ 4, 11, 18, 25, 32, 39, 46, 53, 60],\n",
       "       [ 5, 12, 19, 26, 33, 40, 47, 54, 61],\n",
       "       [ 6, 13, 20, 27, 34, 41, 48, 55, 62]])"
      ]
     },
     "execution_count": 52,
     "metadata": {},
     "output_type": "execute_result"
    }
   ],
   "source": [
    "arr5=arr4.T\n",
    "arr5"
   ]
  },
  {
   "cell_type": "code",
   "execution_count": 54,
   "id": "8f0f6e7e",
   "metadata": {},
   "outputs": [
    {
     "data": {
      "text/plain": [
       "array([ 3,  4,  5,  6,  7,  8,  9, 10, 11, 12, 13, 14, 15, 16, 17, 18, 19,\n",
       "       20, 21, 22, 23, 24, 25, 26, 27, 28, 29, 30, 31, 32, 33, 34, 35, 36,\n",
       "       37, 38, 39, 40, 41, 42, 43, 44, 45, 46, 47, 48, 49, 50, 51, 52, 53,\n",
       "       54, 55, 56, 57, 58, 59, 60, 61, 62, 63, 64, 65, 66, 67, 68, 69, 70,\n",
       "       71, 72, 73, 74, 75, 76, 77, 78])"
      ]
     },
     "execution_count": 54,
     "metadata": {},
     "output_type": "execute_result"
    }
   ],
   "source": [
    "sample_array=np.arange(3,79)\n",
    "sample_array"
   ]
  },
  {
   "cell_type": "markdown",
   "id": "82b89110",
   "metadata": {},
   "source": [
    "### multiple assignments by 1 element at once "
   ]
  },
  {
   "cell_type": "code",
   "execution_count": 56,
   "id": "f021893d",
   "metadata": {},
   "outputs": [
    {
     "data": {
      "text/plain": [
       "array([  3,   4,   5, 100, 100, 100, 100, 100, 100, 100, 100, 100, 100,\n",
       "       100, 100, 100, 100,  20,  21,  22,  23,  24,  25,  26,  27,  28,\n",
       "        29,  30,  31,  32,  33,  34,  35,  36,  37,  38,  39,  40,  41,\n",
       "        42,  43,  44,  45,  46,  47,  48,  49,  50,  51,  52,  53,  54,\n",
       "        55,  56,  57,  58,  59,  60,  61,  62,  63,  64,  65,  66,  67,\n",
       "        68,  69,  70,  71,  72,  73,  74,  75,  76,  77,  78])"
      ]
     },
     "execution_count": 56,
     "metadata": {},
     "output_type": "execute_result"
    }
   ],
   "source": [
    "sample_array[3:17]=100\n",
    "sample_array"
   ]
  },
  {
   "cell_type": "code",
   "execution_count": 59,
   "id": "96d7eece",
   "metadata": {},
   "outputs": [
    {
     "data": {
      "text/plain": [
       "array([100,  20,  21,  22,  23,  24,  25,  26,  27])"
      ]
     },
     "execution_count": 59,
     "metadata": {},
     "output_type": "execute_result"
    }
   ],
   "source": [
    "sample_array2=sample_array[16:25]\n",
    "sample_array2"
   ]
  },
  {
   "cell_type": "code",
   "execution_count": 60,
   "id": "df58ca81",
   "metadata": {},
   "outputs": [
    {
     "data": {
      "text/plain": [
       "array([220, 220, 220, 220, 220, 220, 220, 220, 220])"
      ]
     },
     "execution_count": 60,
     "metadata": {},
     "output_type": "execute_result"
    }
   ],
   "source": [
    "sample_array2[:]=220\n",
    "sample_array2"
   ]
  },
  {
   "cell_type": "code",
   "execution_count": 2,
   "id": "24e87732",
   "metadata": {},
   "outputs": [],
   "source": [
    "import numpy as np"
   ]
  },
  {
   "cell_type": "markdown",
   "id": "76b0f81c",
   "metadata": {},
   "source": [
    "### always takes elements as a list not as a tuple or anything else can use [ ] or ( )"
   ]
  },
  {
   "cell_type": "code",
   "execution_count": 32,
   "id": "190ba5f2",
   "metadata": {},
   "outputs": [
    {
     "data": {
      "text/plain": [
       "array([[34, 56, 78, 66],\n",
       "       [98, 76, 65, 44],\n",
       "       [54, 32, 11, 77],\n",
       "       [23, 43, 57, 85]])"
      ]
     },
     "execution_count": 32,
     "metadata": {},
     "output_type": "execute_result"
    }
   ],
   "source": [
    "multiar=np.array(([34,56,78,66],[98,76,65,44],[54,32,11,77],[23,43,57,85]))\n",
    "multiar"
   ]
  },
  {
   "cell_type": "code",
   "execution_count": 9,
   "id": "ae330b48",
   "metadata": {},
   "outputs": [
    {
     "data": {
      "text/plain": [
       "77"
      ]
     },
     "execution_count": 9,
     "metadata": {},
     "output_type": "execute_result"
    }
   ],
   "source": [
    "multiar[2,3]"
   ]
  },
  {
   "cell_type": "code",
   "execution_count": 71,
   "id": "bf5e0aa8",
   "metadata": {},
   "outputs": [
    {
     "data": {
      "text/plain": [
       "array([23, 43, 57, 85])"
      ]
     },
     "execution_count": 71,
     "metadata": {},
     "output_type": "execute_result"
    }
   ],
   "source": [
    "multiar[3]"
   ]
  },
  {
   "cell_type": "code",
   "execution_count": 73,
   "id": "64872a4e",
   "metadata": {},
   "outputs": [
    {
     "data": {
      "text/plain": [
       "array([[23, 43, 57, 85]])"
      ]
     },
     "execution_count": 73,
     "metadata": {},
     "output_type": "execute_result"
    }
   ],
   "source": [
    "multiar[3:]"
   ]
  },
  {
   "cell_type": "code",
   "execution_count": 72,
   "id": "c929c766",
   "metadata": {},
   "outputs": [
    {
     "data": {
      "text/plain": [
       "array([23, 43, 57, 85])"
      ]
     },
     "execution_count": 72,
     "metadata": {},
     "output_type": "execute_result"
    }
   ],
   "source": [
    "multiar[3,:]"
   ]
  },
  {
   "cell_type": "code",
   "execution_count": 74,
   "id": "bb168f9d",
   "metadata": {},
   "outputs": [
    {
     "data": {
      "text/plain": [
       "array([23, 43, 57, 85])"
      ]
     },
     "execution_count": 74,
     "metadata": {},
     "output_type": "execute_result"
    }
   ],
   "source": [
    "multiar[3][:]"
   ]
  },
  {
   "cell_type": "code",
   "execution_count": 69,
   "id": "9dd3d866",
   "metadata": {},
   "outputs": [
    {
     "ename": "NameError",
     "evalue": "name 'multiar' is not defined",
     "output_type": "error",
     "traceback": [
      "\u001b[1;31m---------------------------------------------------------------------------\u001b[0m",
      "\u001b[1;31mNameError\u001b[0m                                 Traceback (most recent call last)",
      "Cell \u001b[1;32mIn[69], line 1\u001b[0m\n\u001b[1;32m----> 1\u001b[0m \u001b[43mmultiar\u001b[49m[[\u001b[38;5;241m3\u001b[39m][:]]\n",
      "\u001b[1;31mNameError\u001b[0m: name 'multiar' is not defined"
     ]
    }
   ],
   "source": [
    "multiar[[3][:]]"
   ]
  },
  {
   "cell_type": "markdown",
   "id": "061b3d6a",
   "metadata": {},
   "source": [
    "### 1st to 2nd column , all rows"
   ]
  },
  {
   "cell_type": "code",
   "execution_count": 34,
   "id": "5a7c9803",
   "metadata": {
    "scrolled": true
   },
   "outputs": [
    {
     "data": {
      "text/plain": [
       "array([[56, 78],\n",
       "       [76, 65],\n",
       "       [32, 11],\n",
       "       [43, 57]])"
      ]
     },
     "execution_count": 34,
     "metadata": {},
     "output_type": "execute_result"
    }
   ],
   "source": [
    "multiar[:,1:3]"
   ]
  },
  {
   "cell_type": "markdown",
   "id": "91ac1760",
   "metadata": {},
   "source": [
    "### brackets are imp, else gives error as total are 3 indexes"
   ]
  },
  {
   "cell_type": "code",
   "execution_count": 37,
   "id": "38bb28ea",
   "metadata": {},
   "outputs": [
    {
     "ename": "IndexError",
     "evalue": "too many indices for array: array is 2-dimensional, but 3 were indexed",
     "output_type": "error",
     "traceback": [
      "\u001b[1;31m---------------------------------------------------------------------------\u001b[0m",
      "\u001b[1;31mIndexError\u001b[0m                                Traceback (most recent call last)",
      "Cell \u001b[1;32mIn[37], line 1\u001b[0m\n\u001b[1;32m----> 1\u001b[0m \u001b[43mmultiar\u001b[49m\u001b[43m[\u001b[49m\u001b[43m:\u001b[49m\u001b[43m,\u001b[49m\u001b[38;5;241;43m2\u001b[39;49m\u001b[43m,\u001b[49m\u001b[38;5;241;43m1\u001b[39;49m\u001b[43m]\u001b[49m\n",
      "\u001b[1;31mIndexError\u001b[0m: too many indices for array: array is 2-dimensional, but 3 were indexed"
     ]
    }
   ],
   "source": [
    "multiar[:,2,1]"
   ]
  },
  {
   "cell_type": "markdown",
   "id": "deefed6c",
   "metadata": {},
   "source": [
    "### all rows for columns 3 and 1 (excluding 2). first 3 and then 1. order matters"
   ]
  },
  {
   "cell_type": "code",
   "execution_count": 32,
   "id": "af6a81dc",
   "metadata": {},
   "outputs": [
    {
     "data": {
      "text/plain": [
       "array([[66, 56],\n",
       "       [44, 76],\n",
       "       [77, 32],\n",
       "       [85, 43]])"
      ]
     },
     "execution_count": 32,
     "metadata": {},
     "output_type": "execute_result"
    }
   ],
   "source": [
    "multiar[:,(3,1)]"
   ]
  },
  {
   "cell_type": "markdown",
   "id": "260154b0",
   "metadata": {},
   "source": [
    "### all rows for columns 1 and 2. first 1 and then 2"
   ]
  },
  {
   "cell_type": "code",
   "execution_count": 39,
   "id": "1e5b64b6",
   "metadata": {},
   "outputs": [
    {
     "data": {
      "text/plain": [
       "array([[56, 78],\n",
       "       [76, 65],\n",
       "       [32, 11],\n",
       "       [43, 57]])"
      ]
     },
     "execution_count": 39,
     "metadata": {},
     "output_type": "execute_result"
    }
   ],
   "source": [
    "multiar[:,(1,2)]"
   ]
  },
  {
   "cell_type": "code",
   "execution_count": 4,
   "id": "caa54730",
   "metadata": {},
   "outputs": [
    {
     "data": {
      "text/plain": [
       "array([[34, 56, 78, 66],\n",
       "       [98, 76, 65, 44],\n",
       "       [54, 32, 11, 77],\n",
       "       [23, 43, 57, 85]])"
      ]
     },
     "execution_count": 4,
     "metadata": {},
     "output_type": "execute_result"
    }
   ],
   "source": [
    "multiar"
   ]
  },
  {
   "cell_type": "code",
   "execution_count": 5,
   "id": "b9802243",
   "metadata": {},
   "outputs": [
    {
     "data": {
      "text/plain": [
       "44"
      ]
     },
     "execution_count": 5,
     "metadata": {},
     "output_type": "execute_result"
    }
   ],
   "source": [
    "multiar[(1,3)]"
   ]
  },
  {
   "cell_type": "code",
   "execution_count": 7,
   "id": "19839365",
   "metadata": {},
   "outputs": [],
   "source": [
    "# element at :\n",
    "# 2nd(1) row and 2nd(1) column  &  4th(3) row and 3rd(2) column"
   ]
  },
  {
   "cell_type": "code",
   "execution_count": 75,
   "id": "14b7055f",
   "metadata": {},
   "outputs": [
    {
     "data": {
      "text/plain": [
       "array([76, 57])"
      ]
     },
     "execution_count": 75,
     "metadata": {},
     "output_type": "execute_result"
    }
   ],
   "source": [
    "multiar[(1,3),(1,2)]"
   ]
  },
  {
   "cell_type": "code",
   "execution_count": 50,
   "id": "19946c69",
   "metadata": {},
   "outputs": [
    {
     "name": "stdout",
     "output_type": "stream",
     "text": [
      "[3, 2, 45, 23, 67, 53, 75, 92]\n",
      "[ 5  6  7  8  9 10 11 12]\n"
     ]
    }
   ],
   "source": [
    "Arr1=[3,2,45,23,67,53,75,92]\n",
    "print(Arr1)\n",
    "Arr2=np.arange(5,13)\n",
    "print(Arr2)"
   ]
  },
  {
   "cell_type": "code",
   "execution_count": 52,
   "id": "16c53dc9",
   "metadata": {},
   "outputs": [],
   "source": [
    "### adds 1st element of arr1 with 1st element of arr2"
   ]
  },
  {
   "cell_type": "code",
   "execution_count": 51,
   "id": "def58735",
   "metadata": {},
   "outputs": [
    {
     "data": {
      "text/plain": [
       "array([  8,   8,  52,  31,  76,  63,  86, 104])"
      ]
     },
     "execution_count": 51,
     "metadata": {},
     "output_type": "execute_result"
    }
   ],
   "source": [
    "Arr1 + Arr2"
   ]
  },
  {
   "cell_type": "code",
   "execution_count": 9,
   "id": "c75a1013",
   "metadata": {},
   "outputs": [
    {
     "name": "stdout",
     "output_type": "stream",
     "text": [
      "[3, 2, 45, 23, 67, 53, 75, 92]\n",
      "[ 5  6  7  8  9 10 11]\n"
     ]
    }
   ],
   "source": [
    "Ar1=[3,2,45,23,67,53,75,92]\n",
    "print(Ar1)\n",
    "Ar2=np.arange(5,12)\n",
    "print(Ar2)"
   ]
  },
  {
   "cell_type": "code",
   "execution_count": 10,
   "id": "be4b8ede",
   "metadata": {},
   "outputs": [
    {
     "ename": "ValueError",
     "evalue": "operands could not be broadcast together with shapes (8,) (7,) ",
     "output_type": "error",
     "traceback": [
      "\u001b[1;31m---------------------------------------------------------------------------\u001b[0m",
      "\u001b[1;31mValueError\u001b[0m                                Traceback (most recent call last)",
      "Cell \u001b[1;32mIn[10], line 1\u001b[0m\n\u001b[1;32m----> 1\u001b[0m \u001b[43mAr1\u001b[49m\u001b[43m \u001b[49m\u001b[38;5;241;43m+\u001b[39;49m\u001b[43m \u001b[49m\u001b[43mAr2\u001b[49m\n",
      "\u001b[1;31mValueError\u001b[0m: operands could not be broadcast together with shapes (8,) (7,) "
     ]
    }
   ],
   "source": [
    "Ar1 + Ar2"
   ]
  },
  {
   "cell_type": "code",
   "execution_count": 53,
   "id": "5f5f9b42",
   "metadata": {},
   "outputs": [
    {
     "data": {
      "text/plain": [
       "array([2.00855369e+01, 7.38905610e+00, 3.49342711e+19, 9.74480345e+09,\n",
       "       1.25236317e+29, 1.04137594e+23, 3.73324200e+32, 9.01762841e+39])"
      ]
     },
     "execution_count": 53,
     "metadata": {},
     "output_type": "execute_result"
    }
   ],
   "source": [
    "np.exp(Arr1)"
   ]
  },
  {
   "cell_type": "code",
   "execution_count": 54,
   "id": "3ea45377",
   "metadata": {},
   "outputs": [
    {
     "data": {
      "text/plain": [
       "array([1.73205081, 1.41421356, 6.70820393, 4.79583152, 8.18535277,\n",
       "       7.28010989, 8.66025404, 9.59166305])"
      ]
     },
     "execution_count": 54,
     "metadata": {},
     "output_type": "execute_result"
    }
   ],
   "source": [
    "np.sqrt(Arr1)"
   ]
  },
  {
   "cell_type": "code",
   "execution_count": 55,
   "id": "0e7962cf",
   "metadata": {},
   "outputs": [
    {
     "data": {
      "text/plain": [
       "array([1.09861229, 0.69314718, 3.80666249, 3.13549422, 4.20469262,\n",
       "       3.97029191, 4.31748811, 4.52178858])"
      ]
     },
     "execution_count": 55,
     "metadata": {},
     "output_type": "execute_result"
    }
   ],
   "source": [
    "np.log(Arr1)"
   ]
  },
  {
   "cell_type": "code",
   "execution_count": 56,
   "id": "9a9dca04",
   "metadata": {},
   "outputs": [
    {
     "data": {
      "text/plain": [
       "92"
      ]
     },
     "execution_count": 56,
     "metadata": {},
     "output_type": "execute_result"
    }
   ],
   "source": [
    "np.max(Arr1)"
   ]
  },
  {
   "cell_type": "code",
   "execution_count": 59,
   "id": "f8982604",
   "metadata": {},
   "outputs": [
    {
     "data": {
      "text/plain": [
       "7"
      ]
     },
     "execution_count": 59,
     "metadata": {},
     "output_type": "execute_result"
    }
   ],
   "source": [
    "np.argmax(Arr1)"
   ]
  },
  {
   "cell_type": "code",
   "execution_count": 57,
   "id": "64e209ef",
   "metadata": {},
   "outputs": [
    {
     "data": {
      "text/plain": [
       "2"
      ]
     },
     "execution_count": 57,
     "metadata": {},
     "output_type": "execute_result"
    }
   ],
   "source": [
    "np.min(Arr1)"
   ]
  },
  {
   "cell_type": "code",
   "execution_count": 60,
   "id": "7d098708",
   "metadata": {},
   "outputs": [
    {
     "data": {
      "text/plain": [
       "1"
      ]
     },
     "execution_count": 60,
     "metadata": {},
     "output_type": "execute_result"
    }
   ],
   "source": [
    "np.argmin(Arr1)"
   ]
  },
  {
   "cell_type": "code",
   "execution_count": 61,
   "id": "962d5f67",
   "metadata": {},
   "outputs": [
    {
     "data": {
      "text/plain": [
       "array([   9,    4, 2025,  529, 4489, 2809, 5625, 8464])"
      ]
     },
     "execution_count": 61,
     "metadata": {},
     "output_type": "execute_result"
    }
   ],
   "source": [
    "np.square(Arr1)"
   ]
  },
  {
   "cell_type": "markdown",
   "id": "a32c009e",
   "metadata": {},
   "source": [
    "### standard deviation"
   ]
  },
  {
   "cell_type": "code",
   "execution_count": 62,
   "id": "c8f8ae34",
   "metadata": {},
   "outputs": [
    {
     "data": {
      "text/plain": [
       "31.132780152116194"
      ]
     },
     "execution_count": 62,
     "metadata": {},
     "output_type": "execute_result"
    }
   ],
   "source": [
    "np.std(Arr1)"
   ]
  },
  {
   "cell_type": "markdown",
   "id": "f08c94e6",
   "metadata": {},
   "source": [
    "### variance"
   ]
  },
  {
   "cell_type": "code",
   "execution_count": 63,
   "id": "4e8bd727",
   "metadata": {},
   "outputs": [
    {
     "data": {
      "text/plain": [
       "969.25"
      ]
     },
     "execution_count": 63,
     "metadata": {},
     "output_type": "execute_result"
    }
   ],
   "source": [
    "np.var(Arr1)"
   ]
  },
  {
   "cell_type": "code",
   "execution_count": 67,
   "id": "cbfab850",
   "metadata": {
    "scrolled": true
   },
   "outputs": [
    {
     "data": {
      "text/plain": [
       "45.0"
      ]
     },
     "execution_count": 67,
     "metadata": {},
     "output_type": "execute_result"
    }
   ],
   "source": [
    "np.mean(Arr1)"
   ]
  },
  {
   "cell_type": "code",
   "execution_count": 68,
   "id": "d6d1ade7",
   "metadata": {},
   "outputs": [
    {
     "data": {
      "text/plain": [
       "array([ 2,  3, 23, 45, 53, 67, 75, 92])"
      ]
     },
     "execution_count": 68,
     "metadata": {},
     "output_type": "execute_result"
    }
   ],
   "source": [
    "np.sort(Arr1)"
   ]
  },
  {
   "cell_type": "code",
   "execution_count": 65,
   "id": "6af0b84a",
   "metadata": {},
   "outputs": [
    {
     "data": {
      "text/plain": [
       "49.0"
      ]
     },
     "execution_count": 65,
     "metadata": {},
     "output_type": "execute_result"
    }
   ],
   "source": [
    "np.median(Arr1)"
   ]
  },
  {
   "cell_type": "code",
   "execution_count": 66,
   "id": "2701e9a8",
   "metadata": {},
   "outputs": [
    {
     "ename": "AttributeError",
     "evalue": "module 'numpy' has no attribute 'mode'",
     "output_type": "error",
     "traceback": [
      "\u001b[1;31m---------------------------------------------------------------------------\u001b[0m",
      "\u001b[1;31mAttributeError\u001b[0m                            Traceback (most recent call last)",
      "Cell \u001b[1;32mIn[66], line 1\u001b[0m\n\u001b[1;32m----> 1\u001b[0m \u001b[43mnp\u001b[49m\u001b[38;5;241;43m.\u001b[39;49m\u001b[43mmode\u001b[49m(Arr1)\n",
      "File \u001b[1;32mC:\\ProgramData\\anaconda3\\lib\\site-packages\\numpy\\__init__.py:311\u001b[0m, in \u001b[0;36m__getattr__\u001b[1;34m(attr)\u001b[0m\n\u001b[0;32m    308\u001b[0m     \u001b[38;5;28;01mfrom\u001b[39;00m \u001b[38;5;21;01m.\u001b[39;00m\u001b[38;5;21;01mtesting\u001b[39;00m \u001b[38;5;28;01mimport\u001b[39;00m Tester\n\u001b[0;32m    309\u001b[0m     \u001b[38;5;28;01mreturn\u001b[39;00m Tester\n\u001b[1;32m--> 311\u001b[0m \u001b[38;5;28;01mraise\u001b[39;00m \u001b[38;5;167;01mAttributeError\u001b[39;00m(\u001b[38;5;124m\"\u001b[39m\u001b[38;5;124mmodule \u001b[39m\u001b[38;5;132;01m{!r}\u001b[39;00m\u001b[38;5;124m has no attribute \u001b[39m\u001b[38;5;124m\"\u001b[39m\n\u001b[0;32m    312\u001b[0m                      \u001b[38;5;124m\"\u001b[39m\u001b[38;5;132;01m{!r}\u001b[39;00m\u001b[38;5;124m\"\u001b[39m\u001b[38;5;241m.\u001b[39mformat(\u001b[38;5;18m__name__\u001b[39m, attr))\n",
      "\u001b[1;31mAttributeError\u001b[0m: module 'numpy' has no attribute 'mode'"
     ]
    }
   ],
   "source": [
    "np.mode(Arr1)"
   ]
  },
  {
   "cell_type": "code",
   "execution_count": 86,
   "id": "0bdb698d",
   "metadata": {},
   "outputs": [
    {
     "data": {
      "text/plain": [
       "array([[ 1.17889525, -0.24175871,  1.17534069,  0.57921285,  1.2977842 ,\n",
       "         0.30359675,  0.12018671],\n",
       "       [ 1.1245672 ,  1.3225105 , -0.30305408, -0.33742329,  0.79964701,\n",
       "        -0.89003749,  1.30952703],\n",
       "       [ 0.85402675,  1.08438612,  2.50995082, -1.69675992,  0.73939341,\n",
       "        -0.71943503,  0.48387704],\n",
       "       [ 0.36554773, -0.87076573, -2.5411204 , -0.01200144,  0.73432542,\n",
       "         1.12457949, -0.77280926],\n",
       "       [ 0.04766683,  0.40690271,  0.92497585,  0.79834685, -1.57971692,\n",
       "         0.45736912,  1.17327087]])"
      ]
     },
     "execution_count": 86,
     "metadata": {},
     "output_type": "execute_result"
    }
   ],
   "source": [
    "np.random.randn(5,7)\n"
   ]
  },
  {
   "cell_type": "code",
   "execution_count": 79,
   "id": "472091b4",
   "metadata": {},
   "outputs": [],
   "source": [
    "Arr3=[45.12345,32.3425,65.3,47.78,32,62.986,87.000,32.3425]"
   ]
  },
  {
   "cell_type": "code",
   "execution_count": 80,
   "id": "67b3a83e",
   "metadata": {},
   "outputs": [
    {
     "data": {
      "text/plain": [
       "array([45., 32., 65., 48., 32., 63., 87., 32.])"
      ]
     },
     "execution_count": 80,
     "metadata": {},
     "output_type": "execute_result"
    }
   ],
   "source": [
    "np.round(Arr3)"
   ]
  },
  {
   "cell_type": "code",
   "execution_count": 81,
   "id": "f840977c",
   "metadata": {},
   "outputs": [
    {
     "data": {
      "text/plain": [
       "array([45.12, 32.34, 65.3 , 47.78, 32.  , 62.99, 87.  , 32.34])"
      ]
     },
     "execution_count": 81,
     "metadata": {},
     "output_type": "execute_result"
    }
   ],
   "source": [
    "np.round(Arr3,decimals=2)"
   ]
  },
  {
   "cell_type": "code",
   "execution_count": 82,
   "id": "e31bc293",
   "metadata": {},
   "outputs": [
    {
     "data": {
      "text/plain": [
       "array([32.     , 32.3425 , 45.12345, 47.78   , 62.986  , 65.3    ,\n",
       "       87.     ])"
      ]
     },
     "execution_count": 82,
     "metadata": {},
     "output_type": "execute_result"
    }
   ],
   "source": [
    "np.unique(Arr3)"
   ]
  },
  {
   "cell_type": "code",
   "execution_count": 11,
   "id": "1615b17e",
   "metadata": {},
   "outputs": [],
   "source": [
    "sports=[\"cricket\",'football',\"basketball\",'crick','basketball']"
   ]
  },
  {
   "cell_type": "markdown",
   "id": "43194ce3",
   "metadata": {},
   "source": [
    "### gives unqiue and arranges them alphabetically"
   ]
  },
  {
   "cell_type": "code",
   "execution_count": 84,
   "id": "8bdcea16",
   "metadata": {},
   "outputs": [
    {
     "data": {
      "text/plain": [
       "array(['basketball', 'crick', 'cricket', 'football'], dtype='<U10')"
      ]
     },
     "execution_count": 84,
     "metadata": {},
     "output_type": "execute_result"
    }
   ],
   "source": [
    "np.unique(sports)"
   ]
  },
  {
   "cell_type": "code",
   "execution_count": 12,
   "id": "e209c553",
   "metadata": {},
   "outputs": [
    {
     "ename": "AttributeError",
     "evalue": "module 'numpy' has no attribute 'nunique'",
     "output_type": "error",
     "traceback": [
      "\u001b[1;31m---------------------------------------------------------------------------\u001b[0m",
      "\u001b[1;31mAttributeError\u001b[0m                            Traceback (most recent call last)",
      "Cell \u001b[1;32mIn[12], line 1\u001b[0m\n\u001b[1;32m----> 1\u001b[0m \u001b[43mnp\u001b[49m\u001b[38;5;241;43m.\u001b[39;49m\u001b[43mnunique\u001b[49m(sports)\n",
      "File \u001b[1;32mC:\\ProgramData\\anaconda3\\lib\\site-packages\\numpy\\__init__.py:311\u001b[0m, in \u001b[0;36m__getattr__\u001b[1;34m(attr)\u001b[0m\n\u001b[0;32m    308\u001b[0m     \u001b[38;5;28;01mfrom\u001b[39;00m \u001b[38;5;21;01m.\u001b[39;00m\u001b[38;5;21;01mtesting\u001b[39;00m \u001b[38;5;28;01mimport\u001b[39;00m Tester\n\u001b[0;32m    309\u001b[0m     \u001b[38;5;28;01mreturn\u001b[39;00m Tester\n\u001b[1;32m--> 311\u001b[0m \u001b[38;5;28;01mraise\u001b[39;00m \u001b[38;5;167;01mAttributeError\u001b[39;00m(\u001b[38;5;124m\"\u001b[39m\u001b[38;5;124mmodule \u001b[39m\u001b[38;5;132;01m{!r}\u001b[39;00m\u001b[38;5;124m has no attribute \u001b[39m\u001b[38;5;124m\"\u001b[39m\n\u001b[0;32m    312\u001b[0m                      \u001b[38;5;124m\"\u001b[39m\u001b[38;5;132;01m{!r}\u001b[39;00m\u001b[38;5;124m\"\u001b[39m\u001b[38;5;241m.\u001b[39mformat(\u001b[38;5;18m__name__\u001b[39m, attr))\n",
      "\u001b[1;31mAttributeError\u001b[0m: module 'numpy' has no attribute 'nunique'"
     ]
    }
   ],
   "source": [
    "np.nunique(sports)"
   ]
  },
  {
   "cell_type": "code",
   "execution_count": null,
   "id": "2475d55f",
   "metadata": {},
   "outputs": [],
   "source": []
  }
 ],
 "metadata": {
  "kernelspec": {
   "display_name": "Python 3 (ipykernel)",
   "language": "python",
   "name": "python3"
  },
  "language_info": {
   "codemirror_mode": {
    "name": "ipython",
    "version": 3
   },
   "file_extension": ".py",
   "mimetype": "text/x-python",
   "name": "python",
   "nbconvert_exporter": "python",
   "pygments_lexer": "ipython3",
   "version": "3.10.9"
  }
 },
 "nbformat": 4,
 "nbformat_minor": 5
}
