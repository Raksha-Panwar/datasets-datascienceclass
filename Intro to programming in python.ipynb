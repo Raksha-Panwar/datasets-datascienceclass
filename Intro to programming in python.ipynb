{
 "cells": [
  {
   "cell_type": "code",
   "execution_count": 1,
   "id": "9f9699a8",
   "metadata": {},
   "outputs": [],
   "source": [
    "l1=[3,4,7]\n",
    "l2=[2,6,9]\n"
   ]
  },
  {
   "cell_type": "code",
   "execution_count": 4,
   "id": "5d685915",
   "metadata": {},
   "outputs": [],
   "source": [
    "### zip"
   ]
  },
  {
   "cell_type": "code",
   "execution_count": 3,
   "id": "4fcbb369",
   "metadata": {},
   "outputs": [
    {
     "data": {
      "text/plain": [
       "<zip at 0x21392ba7780>"
      ]
     },
     "execution_count": 3,
     "metadata": {},
     "output_type": "execute_result"
    }
   ],
   "source": [
    "l3=zip(l1,l2)\n",
    "l3"
   ]
  },
  {
   "cell_type": "code",
   "execution_count": 5,
   "id": "0122a31f",
   "metadata": {},
   "outputs": [],
   "source": [
    "### map"
   ]
  },
  {
   "cell_type": "code",
   "execution_count": 14,
   "id": "b77903e2",
   "metadata": {},
   "outputs": [
    {
     "name": "stdout",
     "output_type": "stream",
     "text": [
      "<map object at 0x00000213927C0220>\n"
     ]
    }
   ],
   "source": [
    "l4=map(float(),l1)\n",
    "print(l4)"
   ]
  },
  {
   "cell_type": "code",
   "execution_count": 18,
   "id": "62fa7a3c",
   "metadata": {},
   "outputs": [
    {
     "ename": "TypeError",
     "evalue": "can only concatenate list (not \"int\") to list",
     "output_type": "error",
     "traceback": [
      "\u001b[1;31m---------------------------------------------------------------------------\u001b[0m",
      "\u001b[1;31mTypeError\u001b[0m                                 Traceback (most recent call last)",
      "Cell \u001b[1;32mIn[18], line 1\u001b[0m\n\u001b[1;32m----> 1\u001b[0m samplemap\u001b[38;5;241m=\u001b[39m\u001b[38;5;28mmap\u001b[39m(\u001b[43ml1\u001b[49m\u001b[38;5;241;43m+\u001b[39;49m\u001b[38;5;241;43m5\u001b[39;49m,l1)\n",
      "\u001b[1;31mTypeError\u001b[0m: can only concatenate list (not \"int\") to list"
     ]
    }
   ],
   "source": [
    "samplemap=map(l1+5,l1)"
   ]
  },
  {
   "cell_type": "code",
   "execution_count": 19,
   "id": "9c225b1b",
   "metadata": {},
   "outputs": [],
   "source": [
    "## string functions"
   ]
  },
  {
   "cell_type": "code",
   "execution_count": 23,
   "id": "3c0cddc0",
   "metadata": {},
   "outputs": [],
   "source": [
    "st=\"Python learning\""
   ]
  },
  {
   "cell_type": "markdown",
   "id": "de543643",
   "metadata": {},
   "source": [
    "### finds substring and returns its index else returns -1"
   ]
  },
  {
   "cell_type": "code",
   "execution_count": 25,
   "id": "82115118",
   "metadata": {
    "scrolled": true
   },
   "outputs": [
    {
     "data": {
      "text/plain": [
       "2"
      ]
     },
     "execution_count": 25,
     "metadata": {},
     "output_type": "execute_result"
    }
   ],
   "source": [
    "st.find('thon')"
   ]
  },
  {
   "cell_type": "code",
   "execution_count": 26,
   "id": "fe15fb3a",
   "metadata": {},
   "outputs": [
    {
     "data": {
      "text/plain": [
       "-1"
      ]
     },
     "execution_count": 26,
     "metadata": {},
     "output_type": "execute_result"
    }
   ],
   "source": [
    "st.find('this')"
   ]
  },
  {
   "cell_type": "markdown",
   "id": "465f8fee",
   "metadata": {},
   "source": [
    "### splits according to space else according to given letter or substring  "
   ]
  },
  {
   "cell_type": "code",
   "execution_count": 27,
   "id": "ddb12cef",
   "metadata": {},
   "outputs": [
    {
     "data": {
      "text/plain": [
       "['Python', 'learning']"
      ]
     },
     "execution_count": 27,
     "metadata": {},
     "output_type": "execute_result"
    }
   ],
   "source": [
    "st.split()"
   ]
  },
  {
   "cell_type": "code",
   "execution_count": 31,
   "id": "84641429",
   "metadata": {},
   "outputs": [
    {
     "data": {
      "text/plain": [
       "['Python', 'learning']"
      ]
     },
     "execution_count": 31,
     "metadata": {},
     "output_type": "execute_result"
    }
   ],
   "source": [
    "st.split(' ')"
   ]
  },
  {
   "cell_type": "code",
   "execution_count": 28,
   "id": "45929099",
   "metadata": {
    "scrolled": true
   },
   "outputs": [
    {
     "data": {
      "text/plain": [
       "['Pytho', ' lear', 'i', 'g']"
      ]
     },
     "execution_count": 28,
     "metadata": {},
     "output_type": "execute_result"
    }
   ],
   "source": [
    "st.split('n')"
   ]
  },
  {
   "cell_type": "code",
   "execution_count": 32,
   "id": "83be1737",
   "metadata": {},
   "outputs": [
    {
     "data": {
      "text/plain": [
       "['Python learning']"
      ]
     },
     "execution_count": 32,
     "metadata": {},
     "output_type": "execute_result"
    }
   ],
   "source": [
    "st.split('z')"
   ]
  },
  {
   "cell_type": "code",
   "execution_count": 33,
   "id": "ab3ccc10",
   "metadata": {},
   "outputs": [
    {
     "data": {
      "text/plain": [
       "['Python learning']"
      ]
     },
     "execution_count": 33,
     "metadata": {},
     "output_type": "execute_result"
    }
   ],
   "source": [
    "st.split('zoo')"
   ]
  },
  {
   "cell_type": "code",
   "execution_count": 34,
   "id": "e196969e",
   "metadata": {},
   "outputs": [],
   "source": [
    "### join adds strings"
   ]
  },
  {
   "cell_type": "code",
   "execution_count": 35,
   "id": "8b8bb380",
   "metadata": {},
   "outputs": [
    {
     "data": {
      "text/plain": [
       "'sPython learningtPython learningePython learningpPython learnings'"
      ]
     },
     "execution_count": 35,
     "metadata": {},
     "output_type": "execute_result"
    }
   ],
   "source": [
    "st.join(\"steps\")"
   ]
  },
  {
   "cell_type": "code",
   "execution_count": 39,
   "id": "3b8f16bd",
   "metadata": {},
   "outputs": [
    {
     "data": {
      "text/plain": [
       "'Python learning'"
      ]
     },
     "execution_count": 39,
     "metadata": {},
     "output_type": "execute_result"
    }
   ],
   "source": [
    "st"
   ]
  },
  {
   "cell_type": "code",
   "execution_count": 38,
   "id": "1a0fa8a2",
   "metadata": {},
   "outputs": [
    {
     "data": {
      "text/plain": [
       "'\\n'"
      ]
     },
     "execution_count": 38,
     "metadata": {},
     "output_type": "execute_result"
    }
   ],
   "source": [
    "st.join('\\n')"
   ]
  },
  {
   "cell_type": "code",
   "execution_count": 40,
   "id": "c5e595f8",
   "metadata": {},
   "outputs": [
    {
     "data": {
      "text/plain": [
       "8"
      ]
     },
     "execution_count": 40,
     "metadata": {},
     "output_type": "execute_result"
    }
   ],
   "source": [
    "2**3"
   ]
  },
  {
   "cell_type": "markdown",
   "id": "b402d4cf",
   "metadata": {},
   "source": [
    "### loop if enters a name if not correct then again ask to enter until found in list or dictionary etc"
   ]
  },
  {
   "cell_type": "code",
   "execution_count": 2,
   "id": "1e056d54",
   "metadata": {},
   "outputs": [],
   "source": [
    "namelist = {\"names\":[\"raksha\",\"riya\",\"simran\",\"shiv\",\"adarsh\"]}\n",
    "# print(namelist[\"names\"])\n",
    "def findname():\n",
    "    name=input(\"enter a name\")\n",
    "    for i in namelist[\"names\"]:\n",
    "        print(i)\n",
    "        if name == i:\n",
    "            print(\"found in dictionary\")\n",
    "            break\n",
    "    else:\n",
    "        print(\"Not found, pls re-enter\")\n",
    "        findname()"
   ]
  },
  {
   "cell_type": "code",
   "execution_count": 3,
   "id": "374cf223",
   "metadata": {},
   "outputs": [
    {
     "name": "stdout",
     "output_type": "stream",
     "text": [
      "enter a nametris\n",
      "raksha\n",
      "riya\n",
      "simran\n",
      "shiv\n",
      "adarsh\n",
      "Not found, pls re-enter\n",
      "enter a namelaxman\n",
      "raksha\n",
      "riya\n",
      "simran\n",
      "shiv\n",
      "adarsh\n",
      "Not found, pls re-enter\n",
      "enter a nameriya\n",
      "raksha\n",
      "riya\n",
      "found in dictionary\n"
     ]
    }
   ],
   "source": [
    "findname()"
   ]
  },
  {
   "cell_type": "markdown",
   "id": "5bfaf1d6",
   "metadata": {},
   "source": [
    "### write a list of int and print cube and square "
   ]
  },
  {
   "cell_type": "code",
   "execution_count": 9,
   "id": "6af803b2",
   "metadata": {},
   "outputs": [
    {
     "name": "stdout",
     "output_type": "stream",
     "text": [
      "\n",
      "1\n",
      "1\n",
      "\n",
      "9\n",
      "27\n",
      "\n",
      "25\n",
      "125\n",
      "\n",
      "49\n",
      "343\n",
      "\n",
      "81\n",
      "729\n"
     ]
    }
   ],
   "source": [
    "for i in range(1,10,2):\n",
    "    print()\n",
    "    print(i * i)\n",
    "    print( i ** 3)"
   ]
  },
  {
   "cell_type": "code",
   "execution_count": 9,
   "id": "73651abc",
   "metadata": {},
   "outputs": [
    {
     "name": "stdout",
     "output_type": "stream",
     "text": [
      "enter stop range9\n",
      "enter incremental value\n",
      "1\n",
      "1\n",
      "9\n",
      "27\n",
      "25\n",
      "125\n",
      "49\n",
      "343\n"
     ]
    }
   ],
   "source": [
    "i=input('enter stop range')\n",
    "j=input('enter incremental value')\n",
    "if not i:\n",
    "    print(\"exit\")\n",
    "else:\n",
    "    i=int(i)\n",
    "    if not j:\n",
    "        j=0\n",
    "    def findsqcu(jcopy):\n",
    "        if jcopy==0: \n",
    "            jcopy=2\n",
    "        for el in range(1,i,jcopy):\n",
    "            print(el * el)\n",
    "            print(el**3)\n",
    "    j=int(j)\n",
    "    findsqcu(j)"
   ]
  },
  {
   "cell_type": "code",
   "execution_count": 10,
   "id": "152f98b9",
   "metadata": {},
   "outputs": [],
   "source": [
    "### loop the earlier program"
   ]
  },
  {
   "cell_type": "code",
   "execution_count": 8,
   "id": "615fe241",
   "metadata": {},
   "outputs": [
    {
     "name": "stdout",
     "output_type": "stream",
     "text": [
      "enter start value\n",
      "enter stop value2\n",
      "enter incremental value4\n",
      "exit\n"
     ]
    }
   ],
   "source": [
    "while True:\n",
    "    k=input('enter start value')\n",
    "    i=input('enter stop value')\n",
    "    j=input('enter incremental value')\n",
    "    if not k:\n",
    "        print('exit')\n",
    "        break\n",
    "    else:\n",
    "        def findsqcu(i,j,k):\n",
    "            if j=='': \n",
    "                j=2\n",
    "            if i =='':\n",
    "                i=int(k)+1\n",
    "            i,j,k=int(i),int(j),int(k)\n",
    "            for el in range(k,i,j):\n",
    "                print(el)\n",
    "                print(el * el)\n",
    "                print(el**3)\n",
    "        findsqcu(i,j,k)"
   ]
  },
  {
   "cell_type": "code",
   "execution_count": 9,
   "id": "e57e645e",
   "metadata": {},
   "outputs": [],
   "source": [
    "### return more than 1 value"
   ]
  },
  {
   "cell_type": "code",
   "execution_count": 11,
   "id": "f56b4fc7",
   "metadata": {},
   "outputs": [
    {
     "data": {
      "text/plain": [
       "(4, 5, 9)"
      ]
     },
     "execution_count": 11,
     "metadata": {},
     "output_type": "execute_result"
    }
   ],
   "source": [
    "def add():\n",
    "    return 4,5,4+5\n",
    "add()"
   ]
  },
  {
   "cell_type": "code",
   "execution_count": 12,
   "id": "636da4c2",
   "metadata": {},
   "outputs": [],
   "source": [
    "## import"
   ]
  },
  {
   "cell_type": "code",
   "execution_count": 16,
   "id": "f804ca54",
   "metadata": {},
   "outputs": [],
   "source": [
    "import math\n",
    "import math as cal"
   ]
  },
  {
   "cell_type": "code",
   "execution_count": 19,
   "id": "e2bcff74",
   "metadata": {},
   "outputs": [
    {
     "data": {
      "text/plain": [
       "3.141592653589793"
      ]
     },
     "execution_count": 19,
     "metadata": {},
     "output_type": "execute_result"
    }
   ],
   "source": [
    "cal.pi"
   ]
  },
  {
   "cell_type": "code",
   "execution_count": 21,
   "id": "3e436da7",
   "metadata": {},
   "outputs": [],
   "source": [
    "### .pyc file -> to speed up execution, python compiles module into byte code and keeps it as .pyc. Next time we import, .pyc is used "
   ]
  },
  {
   "cell_type": "markdown",
   "id": "370b840a",
   "metadata": {},
   "source": [
    "### import custom module "
   ]
  },
  {
   "cell_type": "code",
   "execution_count": 22,
   "id": "8706637a",
   "metadata": {},
   "outputs": [],
   "source": [
    "### try except -> catches all exceptions"
   ]
  },
  {
   "cell_type": "code",
   "execution_count": 26,
   "id": "50e59d22",
   "metadata": {},
   "outputs": [
    {
     "name": "stdout",
     "output_type": "stream",
     "text": [
      "enter a number\n",
      "Err: entered is not a number\n"
     ]
    }
   ],
   "source": [
    "try:\n",
    "    a=int(input('enter a number'))\n",
    "    print(a)\n",
    "except:\n",
    "    print(\"Err: entered is not a number\")"
   ]
  },
  {
   "cell_type": "code",
   "execution_count": 27,
   "id": "de329a1c",
   "metadata": {},
   "outputs": [],
   "source": [
    "### try except -> catches specific exceptions"
   ]
  },
  {
   "cell_type": "code",
   "execution_count": 33,
   "id": "2a7cde24",
   "metadata": {},
   "outputs": [
    {
     "name": "stdout",
     "output_type": "stream",
     "text": [
      "enter a number2\n",
      "enter a number0\n",
      "Err: dividing by zero\n"
     ]
    }
   ],
   "source": [
    "def divide():\n",
    "    try:\n",
    "        a=int(input('enter a number'))\n",
    "        b=int(input('enter a number'))\n",
    "        return(a/b)\n",
    "    except ZeroDivisionError:\n",
    "        return \"Err: dividing by zero\"\n",
    "    except:\n",
    "        return \"Error Occurred\"\n",
    "print(divide())"
   ]
  },
  {
   "cell_type": "code",
   "execution_count": 34,
   "id": "95c13c01",
   "metadata": {},
   "outputs": [],
   "source": [
    "## catches error on entering value other than float "
   ]
  },
  {
   "cell_type": "code",
   "execution_count": 5,
   "id": "9e764f3d",
   "metadata": {},
   "outputs": [
    {
     "name": "stdout",
     "output_type": "stream",
     "text": [
      "enter a float value2\n",
      "enter a float values\n",
      "[2.0]\n"
     ]
    }
   ],
   "source": [
    "ar=[]\n",
    "def checkfloat():\n",
    "    while True:\n",
    "        try:\n",
    "            f=float(input(\"enter a float value\"))\n",
    "            ar.append(f)\n",
    "        except:\n",
    "            print(ar)\n",
    "            break\n",
    "checkfloat()"
   ]
  },
  {
   "cell_type": "markdown",
   "id": "9f1b245a",
   "metadata": {},
   "source": [
    "## numpy"
   ]
  },
  {
   "cell_type": "code",
   "execution_count": 7,
   "id": "60105344",
   "metadata": {},
   "outputs": [],
   "source": [
    "import numpy as np"
   ]
  },
  {
   "cell_type": "code",
   "execution_count": 9,
   "id": "1cbbe791",
   "metadata": {},
   "outputs": [
    {
     "data": {
      "text/plain": [
       "array([8, 5, 7, 2, 3, 1])"
      ]
     },
     "execution_count": 9,
     "metadata": {},
     "output_type": "execute_result"
    }
   ],
   "source": [
    "ar1=np.array([8,5,7,2,3,1])\n",
    "ar1"
   ]
  },
  {
   "cell_type": "code",
   "execution_count": 10,
   "id": "1b938358",
   "metadata": {},
   "outputs": [
    {
     "data": {
      "text/plain": [
       "numpy.ndarray"
      ]
     },
     "execution_count": 10,
     "metadata": {},
     "output_type": "execute_result"
    }
   ],
   "source": [
    "type(ar1)"
   ]
  },
  {
   "cell_type": "code",
   "execution_count": 25,
   "id": "156cafd0",
   "metadata": {},
   "outputs": [
    {
     "data": {
      "text/plain": [
       "array([ 3,  4,  5,  6,  7,  8,  9, 10, 11, 12, 13, 14])"
      ]
     },
     "execution_count": 25,
     "metadata": {},
     "output_type": "execute_result"
    }
   ],
   "source": [
    "ar2=np.arange(3,15)\n",
    "ar2"
   ]
  },
  {
   "cell_type": "code",
   "execution_count": 20,
   "id": "a2638206",
   "metadata": {},
   "outputs": [],
   "source": [
    "## convert into given rows and column multi array (6 rows, 2 columns)"
   ]
  },
  {
   "cell_type": "code",
   "execution_count": 26,
   "id": "9a9716dc",
   "metadata": {},
   "outputs": [
    {
     "data": {
      "text/plain": [
       "array([[ 3,  4],\n",
       "       [ 5,  6],\n",
       "       [ 7,  8],\n",
       "       [ 9, 10],\n",
       "       [11, 12],\n",
       "       [13, 14]])"
      ]
     },
     "execution_count": 26,
     "metadata": {},
     "output_type": "execute_result"
    }
   ],
   "source": [
    "ar2.shape=6,2\n",
    "ar2"
   ]
  },
  {
   "cell_type": "code",
   "execution_count": 21,
   "id": "5bf24b49",
   "metadata": {},
   "outputs": [
    {
     "data": {
      "text/plain": [
       "array([[15, 20],\n",
       "       [25, 30],\n",
       "       [35, 40],\n",
       "       [45, 50],\n",
       "       [55, 60],\n",
       "       [65, 70]])"
      ]
     },
     "execution_count": 21,
     "metadata": {},
     "output_type": "execute_result"
    }
   ],
   "source": [
    "ar2*5"
   ]
  },
  {
   "cell_type": "code",
   "execution_count": 22,
   "id": "10b0b670",
   "metadata": {},
   "outputs": [
    {
     "data": {
      "text/plain": [
       "array([ 9, 10])"
      ]
     },
     "execution_count": 22,
     "metadata": {},
     "output_type": "execute_result"
    }
   ],
   "source": [
    "ar2[3]"
   ]
  },
  {
   "cell_type": "code",
   "execution_count": 23,
   "id": "a06916cd",
   "metadata": {},
   "outputs": [
    {
     "data": {
      "text/plain": [
       "10"
      ]
     },
     "execution_count": 23,
     "metadata": {},
     "output_type": "execute_result"
    }
   ],
   "source": [
    "ar2[3][1]"
   ]
  },
  {
   "cell_type": "code",
   "execution_count": 54,
   "id": "469340ff",
   "metadata": {},
   "outputs": [
    {
     "data": {
      "text/plain": [
       "10"
      ]
     },
     "execution_count": 54,
     "metadata": {},
     "output_type": "execute_result"
    }
   ],
   "source": [
    "ar2[3,1]"
   ]
  },
  {
   "cell_type": "code",
   "execution_count": 56,
   "id": "4b7281c5",
   "metadata": {},
   "outputs": [
    {
     "data": {
      "text/plain": [
       "array([[ 3,  4],\n",
       "       [ 5,  6],\n",
       "       [ 7,  8],\n",
       "       [ 9, 10],\n",
       "       [77, 12],\n",
       "       [13, 14]])"
      ]
     },
     "execution_count": 56,
     "metadata": {},
     "output_type": "execute_result"
    }
   ],
   "source": [
    "ar2[4,0]=77\n",
    "ar2"
   ]
  },
  {
   "cell_type": "code",
   "execution_count": 26,
   "id": "dc1578bd",
   "metadata": {},
   "outputs": [
    {
     "data": {
      "text/plain": [
       "array([[ 9, 10],\n",
       "       [11, 12],\n",
       "       [13, 14]])"
      ]
     },
     "execution_count": 26,
     "metadata": {},
     "output_type": "execute_result"
    }
   ],
   "source": [
    "ar2[[3,4,5]]"
   ]
  },
  {
   "cell_type": "code",
   "execution_count": 29,
   "id": "68ee2545",
   "metadata": {},
   "outputs": [
    {
     "data": {
      "text/plain": [
       "array([[ 9, 10],\n",
       "       [11, 12],\n",
       "       [13, 14]])"
      ]
     },
     "execution_count": 29,
     "metadata": {},
     "output_type": "execute_result"
    }
   ],
   "source": [
    "ar2[ [[3][0], [4][0], [5][0]] ]"
   ]
  },
  {
   "cell_type": "code",
   "execution_count": 27,
   "id": "39c4f0ec",
   "metadata": {},
   "outputs": [
    {
     "ename": "SyntaxError",
     "evalue": "invalid syntax (2650333518.py, line 1)",
     "output_type": "error",
     "traceback": [
      "\u001b[1;36m  Cell \u001b[1;32mIn[27], line 1\u001b[1;36m\u001b[0m\n\u001b[1;33m    ar2[ [[3:5][0]] ]\u001b[0m\n\u001b[1;37m            ^\u001b[0m\n\u001b[1;31mSyntaxError\u001b[0m\u001b[1;31m:\u001b[0m invalid syntax\n"
     ]
    }
   ],
   "source": [
    "ar2[ [[3:5][0]] ]"
   ]
  },
  {
   "cell_type": "code",
   "execution_count": 31,
   "id": "d64733d0",
   "metadata": {},
   "outputs": [
    {
     "data": {
      "text/plain": [
       "array([ 9, 10])"
      ]
     },
     "execution_count": 31,
     "metadata": {},
     "output_type": "execute_result"
    }
   ],
   "source": [
    "ar2[[3,4,5]][0]"
   ]
  },
  {
   "cell_type": "code",
   "execution_count": 33,
   "id": "f39c9e05",
   "metadata": {},
   "outputs": [
    {
     "data": {
      "text/plain": [
       "array([[ 9, 10],\n",
       "       [ 9, 10],\n",
       "       [ 9, 10]])"
      ]
     },
     "execution_count": 33,
     "metadata": {},
     "output_type": "execute_result"
    }
   ],
   "source": [
    "ar2[[3,4,5]][[0,0,0]]"
   ]
  },
  {
   "cell_type": "code",
   "execution_count": 34,
   "id": "32d92b75",
   "metadata": {},
   "outputs": [
    {
     "data": {
      "text/plain": [
       "array([[ 9, 10]])"
      ]
     },
     "execution_count": 34,
     "metadata": {},
     "output_type": "execute_result"
    }
   ],
   "source": [
    "ar2[[3,4,5]][[0]]"
   ]
  },
  {
   "cell_type": "code",
   "execution_count": 37,
   "id": "681af689",
   "metadata": {},
   "outputs": [
    {
     "data": {
      "text/plain": [
       "array([], dtype=int32)"
      ]
     },
     "execution_count": 37,
     "metadata": {},
     "output_type": "execute_result"
    }
   ],
   "source": [
    "ar2[2,3:5]"
   ]
  },
  {
   "cell_type": "code",
   "execution_count": 38,
   "id": "b9c0c727",
   "metadata": {},
   "outputs": [
    {
     "data": {
      "text/plain": [
       "array([], shape=(6, 0), dtype=int32)"
      ]
     },
     "execution_count": 38,
     "metadata": {},
     "output_type": "execute_result"
    }
   ],
   "source": [
    "ar2[:,3:5]"
   ]
  },
  {
   "cell_type": "code",
   "execution_count": 28,
   "id": "0061f056",
   "metadata": {},
   "outputs": [
    {
     "ename": "SyntaxError",
     "evalue": "invalid syntax (1241672109.py, line 1)",
     "output_type": "error",
     "traceback": [
      "\u001b[1;36m  Cell \u001b[1;32mIn[28], line 1\u001b[1;36m\u001b[0m\n\u001b[1;33m    ar2[[:],[3:5]]\u001b[0m\n\u001b[1;37m         ^\u001b[0m\n\u001b[1;31mSyntaxError\u001b[0m\u001b[1;31m:\u001b[0m invalid syntax\n"
     ]
    }
   ],
   "source": [
    "ar2[[:],[3:5]]"
   ]
  },
  {
   "cell_type": "code",
   "execution_count": 41,
   "id": "8e7d2a4e",
   "metadata": {},
   "outputs": [
    {
     "data": {
      "text/plain": [
       "array([], dtype=int32)"
      ]
     },
     "execution_count": 41,
     "metadata": {},
     "output_type": "execute_result"
    }
   ],
   "source": [
    "ar2[1,3:5]"
   ]
  },
  {
   "cell_type": "markdown",
   "id": "0216395b",
   "metadata": {},
   "source": [
    "## important traverse a particular index"
   ]
  },
  {
   "cell_type": "code",
   "execution_count": 47,
   "id": "c7620cd1",
   "metadata": {},
   "outputs": [
    {
     "data": {
      "text/plain": [
       "array([7, 8])"
      ]
     },
     "execution_count": 47,
     "metadata": {},
     "output_type": "execute_result"
    }
   ],
   "source": [
    "ar2[2,:]"
   ]
  },
  {
   "cell_type": "code",
   "execution_count": 49,
   "id": "3738f608",
   "metadata": {},
   "outputs": [
    {
     "data": {
      "text/plain": [
       "array([ 8, 10, 12])"
      ]
     },
     "execution_count": 49,
     "metadata": {},
     "output_type": "execute_result"
    }
   ],
   "source": [
    "ar2[2:5,1]"
   ]
  },
  {
   "cell_type": "code",
   "execution_count": 50,
   "id": "ef8b623e",
   "metadata": {},
   "outputs": [
    {
     "data": {
      "text/plain": [
       "array([[ 7,  8],\n",
       "       [ 9, 10],\n",
       "       [11, 12]])"
      ]
     },
     "execution_count": 50,
     "metadata": {},
     "output_type": "execute_result"
    }
   ],
   "source": [
    "ar2[2:5,:]"
   ]
  },
  {
   "cell_type": "code",
   "execution_count": 53,
   "id": "d6320963",
   "metadata": {},
   "outputs": [
    {
     "data": {
      "text/plain": [
       "array([ 8, 10, 12])"
      ]
     },
     "execution_count": 53,
     "metadata": {},
     "output_type": "execute_result"
    }
   ],
   "source": [
    "ar2[2:5,1]"
   ]
  },
  {
   "cell_type": "code",
   "execution_count": 65,
   "id": "44713b43",
   "metadata": {},
   "outputs": [],
   "source": [
    "### set second row to all 0"
   ]
  },
  {
   "cell_type": "code",
   "execution_count": 29,
   "id": "4024bd7b",
   "metadata": {},
   "outputs": [
    {
     "data": {
      "text/plain": [
       "array([[ 3,  4],\n",
       "       [ 0,  0],\n",
       "       [ 7,  8],\n",
       "       [ 9, 10],\n",
       "       [11, 12],\n",
       "       [13, 14]])"
      ]
     },
     "execution_count": 29,
     "metadata": {},
     "output_type": "execute_result"
    }
   ],
   "source": [
    "ar2[1]=0\n",
    "ar2"
   ]
  },
  {
   "cell_type": "code",
   "execution_count": 62,
   "id": "e2b24ff4",
   "metadata": {},
   "outputs": [],
   "source": [
    "### shape rows, columns"
   ]
  },
  {
   "cell_type": "code",
   "execution_count": 57,
   "id": "909e0d5a",
   "metadata": {},
   "outputs": [
    {
     "data": {
      "text/plain": [
       "(6, 2)"
      ]
     },
     "execution_count": 57,
     "metadata": {},
     "output_type": "execute_result"
    }
   ],
   "source": [
    "ar2.shape\n"
   ]
  },
  {
   "cell_type": "code",
   "execution_count": 61,
   "id": "f7b82492",
   "metadata": {},
   "outputs": [],
   "source": [
    "### size rows*columns"
   ]
  },
  {
   "cell_type": "code",
   "execution_count": 58,
   "id": "9452a816",
   "metadata": {},
   "outputs": [
    {
     "data": {
      "text/plain": [
       "12"
      ]
     },
     "execution_count": 58,
     "metadata": {},
     "output_type": "execute_result"
    }
   ],
   "source": [
    "ar2.size"
   ]
  },
  {
   "cell_type": "code",
   "execution_count": 60,
   "id": "8dd13fdf",
   "metadata": {},
   "outputs": [],
   "source": [
    "### dimensions rows and columns. thus 2"
   ]
  },
  {
   "cell_type": "code",
   "execution_count": 59,
   "id": "34cf12ae",
   "metadata": {},
   "outputs": [
    {
     "data": {
      "text/plain": [
       "2"
      ]
     },
     "execution_count": 59,
     "metadata": {},
     "output_type": "execute_result"
    }
   ],
   "source": [
    "ar2.ndim"
   ]
  },
  {
   "cell_type": "markdown",
   "id": "67331e3e",
   "metadata": {},
   "source": [
    "### 3 dimesion"
   ]
  },
  {
   "cell_type": "code",
   "execution_count": 2,
   "id": "e9961b9f",
   "metadata": {},
   "outputs": [],
   "source": [
    "import numpy as np"
   ]
  },
  {
   "cell_type": "code",
   "execution_count": 17,
   "id": "30cabd24",
   "metadata": {},
   "outputs": [
    {
     "data": {
      "text/plain": [
       "array([ 0,  1,  2,  3,  4,  5,  6,  7,  8,  9, 10, 11, 12, 13, 14, 15, 16,\n",
       "       17, 18, 19, 20, 21, 22, 23, 24, 25, 26])"
      ]
     },
     "execution_count": 17,
     "metadata": {},
     "output_type": "execute_result"
    }
   ],
   "source": [
    "ar3=np.arange(27)\n",
    "ar3"
   ]
  },
  {
   "cell_type": "code",
   "execution_count": 20,
   "id": "12900c6b",
   "metadata": {},
   "outputs": [
    {
     "data": {
      "text/plain": [
       "array([[[ 0,  1,  2],\n",
       "        [ 3,  4,  5],\n",
       "        [ 6,  7,  8]],\n",
       "\n",
       "       [[ 9, 10, 11],\n",
       "        [12, 13, 14],\n",
       "        [15, 16, 17]],\n",
       "\n",
       "       [[18, 19, 20],\n",
       "        [21, 22, 23],\n",
       "        [24, 25, 26]]])"
      ]
     },
     "execution_count": 20,
     "metadata": {},
     "output_type": "execute_result"
    }
   ],
   "source": [
    "ar3.shape=3,3,3\n",
    "ar3"
   ]
  },
  {
   "cell_type": "code",
   "execution_count": 21,
   "id": "ceb58c11",
   "metadata": {},
   "outputs": [
    {
     "data": {
      "text/plain": [
       "3"
      ]
     },
     "execution_count": 21,
     "metadata": {},
     "output_type": "execute_result"
    }
   ],
   "source": [
    "ar3.ndim"
   ]
  },
  {
   "cell_type": "code",
   "execution_count": 67,
   "id": "36e9ca24",
   "metadata": {},
   "outputs": [],
   "source": [
    "### float values with .25 difference in all between 2 to 6"
   ]
  },
  {
   "cell_type": "code",
   "execution_count": 66,
   "id": "96c2ed67",
   "metadata": {},
   "outputs": [
    {
     "data": {
      "text/plain": [
       "array([2.  , 2.25, 2.5 , 2.75, 3.  , 3.25, 3.5 , 3.75, 4.  , 4.25, 4.5 ,\n",
       "       4.75, 5.  , 5.25, 5.5 , 5.75])"
      ]
     },
     "execution_count": 66,
     "metadata": {},
     "output_type": "execute_result"
    }
   ],
   "source": [
    "np.arange(2,6,0.25)"
   ]
  },
  {
   "cell_type": "code",
   "execution_count": 69,
   "id": "8d23db47",
   "metadata": {},
   "outputs": [],
   "source": [
    "### operations"
   ]
  },
  {
   "cell_type": "code",
   "execution_count": null,
   "id": "e7eadbcb",
   "metadata": {},
   "outputs": [],
   "source": [
    "### different dimensions therefore can't add"
   ]
  },
  {
   "cell_type": "code",
   "execution_count": 30,
   "id": "3635cfa1",
   "metadata": {},
   "outputs": [
    {
     "ename": "ValueError",
     "evalue": "operands could not be broadcast together with shapes (3,3,3) (6,2) ",
     "output_type": "error",
     "traceback": [
      "\u001b[1;31m---------------------------------------------------------------------------\u001b[0m",
      "\u001b[1;31mValueError\u001b[0m                                Traceback (most recent call last)",
      "Cell \u001b[1;32mIn[30], line 1\u001b[0m\n\u001b[1;32m----> 1\u001b[0m \u001b[43mar3\u001b[49m\u001b[38;5;241;43m+\u001b[39;49m\u001b[43mar2\u001b[49m\n",
      "\u001b[1;31mValueError\u001b[0m: operands could not be broadcast together with shapes (3,3,3) (6,2) "
     ]
    }
   ],
   "source": [
    "ar3+ar2"
   ]
  },
  {
   "cell_type": "code",
   "execution_count": 33,
   "id": "a5d1e075",
   "metadata": {},
   "outputs": [
    {
     "data": {
      "text/plain": [
       "array([45, 46, 47, 48, 49, 50, 51, 52, 53, 54, 55, 56, 57, 58, 59, 60, 61,\n",
       "       62, 63, 64, 65, 66, 67, 68, 69, 70, 71])"
      ]
     },
     "execution_count": 33,
     "metadata": {},
     "output_type": "execute_result"
    }
   ],
   "source": [
    "ar4=np.arange(45,72)\n",
    "ar4"
   ]
  },
  {
   "cell_type": "code",
   "execution_count": 36,
   "id": "32dfaef7",
   "metadata": {},
   "outputs": [
    {
     "data": {
      "text/plain": [
       "array([[[45, 46, 47],\n",
       "        [48, 49, 50],\n",
       "        [51, 52, 53]],\n",
       "\n",
       "       [[54, 55, 56],\n",
       "        [57, 58, 59],\n",
       "        [60, 61, 62]],\n",
       "\n",
       "       [[63, 64, 65],\n",
       "        [66, 67, 68],\n",
       "        [69, 70, 71]]])"
      ]
     },
     "execution_count": 36,
     "metadata": {},
     "output_type": "execute_result"
    }
   ],
   "source": [
    "ar4.shape=3,3,3\n",
    "ar4"
   ]
  },
  {
   "cell_type": "code",
   "execution_count": 37,
   "id": "a9a3516e",
   "metadata": {},
   "outputs": [
    {
     "data": {
      "text/plain": [
       "array([[[45, 47, 49],\n",
       "        [51, 53, 55],\n",
       "        [57, 59, 61]],\n",
       "\n",
       "       [[63, 65, 67],\n",
       "        [69, 71, 73],\n",
       "        [75, 77, 79]],\n",
       "\n",
       "       [[81, 83, 85],\n",
       "        [87, 89, 91],\n",
       "        [93, 95, 97]]])"
      ]
     },
     "execution_count": 37,
     "metadata": {},
     "output_type": "execute_result"
    }
   ],
   "source": [
    "ar3+ar4"
   ]
  },
  {
   "cell_type": "code",
   "execution_count": 38,
   "id": "0a15d3d0",
   "metadata": {},
   "outputs": [
    {
     "data": {
      "text/plain": [
       "array([[[45, 45, 45],\n",
       "        [45, 45, 45],\n",
       "        [45, 45, 45]],\n",
       "\n",
       "       [[45, 45, 45],\n",
       "        [45, 45, 45],\n",
       "        [45, 45, 45]],\n",
       "\n",
       "       [[45, 45, 45],\n",
       "        [45, 45, 45],\n",
       "        [45, 45, 45]]])"
      ]
     },
     "execution_count": 38,
     "metadata": {},
     "output_type": "execute_result"
    }
   ],
   "source": [
    "ar4-ar3"
   ]
  },
  {
   "cell_type": "code",
   "execution_count": 39,
   "id": "808a317f",
   "metadata": {},
   "outputs": [
    {
     "data": {
      "text/plain": [
       "array([[[ 90,  92,  94],\n",
       "        [ 96,  98, 100],\n",
       "        [102, 104, 106]],\n",
       "\n",
       "       [[108, 110, 112],\n",
       "        [114, 116, 118],\n",
       "        [120, 122, 124]],\n",
       "\n",
       "       [[126, 128, 130],\n",
       "        [132, 134, 136],\n",
       "        [138, 140, 142]]])"
      ]
     },
     "execution_count": 39,
     "metadata": {},
     "output_type": "execute_result"
    }
   ],
   "source": [
    "ar4*2"
   ]
  },
  {
   "cell_type": "code",
   "execution_count": 41,
   "id": "23fdab07",
   "metadata": {},
   "outputs": [],
   "source": [
    "### zero division warning"
   ]
  },
  {
   "cell_type": "code",
   "execution_count": 40,
   "id": "ba5c4332",
   "metadata": {},
   "outputs": [
    {
     "name": "stderr",
     "output_type": "stream",
     "text": [
      "C:\\Users\\rakshapanwar\\AppData\\Local\\Temp\\ipykernel_33100\\3787659119.py:1: RuntimeWarning: divide by zero encountered in divide\n",
      "  ar4/ar3\n"
     ]
    },
    {
     "data": {
      "text/plain": [
       "array([[[        inf, 46.        , 23.5       ],\n",
       "        [16.        , 12.25      , 10.        ],\n",
       "        [ 8.5       ,  7.42857143,  6.625     ]],\n",
       "\n",
       "       [[ 6.        ,  5.5       ,  5.09090909],\n",
       "        [ 4.75      ,  4.46153846,  4.21428571],\n",
       "        [ 4.        ,  3.8125    ,  3.64705882]],\n",
       "\n",
       "       [[ 3.5       ,  3.36842105,  3.25      ],\n",
       "        [ 3.14285714,  3.04545455,  2.95652174],\n",
       "        [ 2.875     ,  2.8       ,  2.73076923]]])"
      ]
     },
     "execution_count": 40,
     "metadata": {},
     "output_type": "execute_result"
    }
   ],
   "source": [
    "ar4/ar3"
   ]
  },
  {
   "cell_type": "code",
   "execution_count": 42,
   "id": "67b57b60",
   "metadata": {},
   "outputs": [
    {
     "data": {
      "text/plain": [
       "array([[[22.5, 23. , 23.5],\n",
       "        [24. , 24.5, 25. ],\n",
       "        [25.5, 26. , 26.5]],\n",
       "\n",
       "       [[27. , 27.5, 28. ],\n",
       "        [28.5, 29. , 29.5],\n",
       "        [30. , 30.5, 31. ]],\n",
       "\n",
       "       [[31.5, 32. , 32.5],\n",
       "        [33. , 33.5, 34. ],\n",
       "        [34.5, 35. , 35.5]]])"
      ]
     },
     "execution_count": 42,
     "metadata": {},
     "output_type": "execute_result"
    }
   ],
   "source": [
    "ar4/2"
   ]
  },
  {
   "cell_type": "code",
   "execution_count": 43,
   "id": "04f511bc",
   "metadata": {},
   "outputs": [
    {
     "data": {
      "text/plain": [
       "array([[[0, 1, 0],\n",
       "        [1, 0, 1],\n",
       "        [0, 1, 0]],\n",
       "\n",
       "       [[1, 0, 1],\n",
       "        [0, 1, 0],\n",
       "        [1, 0, 1]],\n",
       "\n",
       "       [[0, 1, 0],\n",
       "        [1, 0, 1],\n",
       "        [0, 1, 0]]], dtype=int32)"
      ]
     },
     "execution_count": 43,
     "metadata": {},
     "output_type": "execute_result"
    }
   ],
   "source": [
    "ar3%2"
   ]
  },
  {
   "cell_type": "code",
   "execution_count": null,
   "id": "ca74ef12",
   "metadata": {},
   "outputs": [],
   "source": [
    "### floor division"
   ]
  },
  {
   "cell_type": "code",
   "execution_count": 44,
   "id": "1deb50cc",
   "metadata": {},
   "outputs": [
    {
     "data": {
      "text/plain": [
       "array([[[0, 0, 0],\n",
       "        [1, 1, 1],\n",
       "        [2, 2, 2]],\n",
       "\n",
       "       [[3, 3, 3],\n",
       "        [4, 4, 4],\n",
       "        [5, 5, 5]],\n",
       "\n",
       "       [[6, 6, 6],\n",
       "        [7, 7, 7],\n",
       "        [8, 8, 8]]], dtype=int32)"
      ]
     },
     "execution_count": 44,
     "metadata": {},
     "output_type": "execute_result"
    }
   ],
   "source": [
    "ar3//3"
   ]
  },
  {
   "cell_type": "code",
   "execution_count": 47,
   "id": "3124a36a",
   "metadata": {},
   "outputs": [
    {
     "data": {
      "text/plain": [
       "array([0, 1, 2, 3, 4, 5, 6, 7])"
      ]
     },
     "execution_count": 47,
     "metadata": {},
     "output_type": "execute_result"
    }
   ],
   "source": [
    "arr=np.arange(8,dtype=int)\n",
    "arr"
   ]
  },
  {
   "cell_type": "code",
   "execution_count": 48,
   "id": "319fb0b1",
   "metadata": {},
   "outputs": [],
   "source": [
    "### dot product"
   ]
  },
  {
   "cell_type": "code",
   "execution_count": 50,
   "id": "1bbc2432",
   "metadata": {},
   "outputs": [
    {
     "data": {
      "text/plain": [
       "array([[[[ 150,  153,  156],\n",
       "         [ 177,  180,  183],\n",
       "         [ 204,  207,  210]],\n",
       "\n",
       "        [[ 582,  594,  606],\n",
       "         [ 690,  702,  714],\n",
       "         [ 798,  810,  822]],\n",
       "\n",
       "        [[1014, 1035, 1056],\n",
       "         [1203, 1224, 1245],\n",
       "         [1392, 1413, 1434]]],\n",
       "\n",
       "\n",
       "       [[[1446, 1476, 1506],\n",
       "         [1716, 1746, 1776],\n",
       "         [1986, 2016, 2046]],\n",
       "\n",
       "        [[1878, 1917, 1956],\n",
       "         [2229, 2268, 2307],\n",
       "         [2580, 2619, 2658]],\n",
       "\n",
       "        [[2310, 2358, 2406],\n",
       "         [2742, 2790, 2838],\n",
       "         [3174, 3222, 3270]]],\n",
       "\n",
       "\n",
       "       [[[2742, 2799, 2856],\n",
       "         [3255, 3312, 3369],\n",
       "         [3768, 3825, 3882]],\n",
       "\n",
       "        [[3174, 3240, 3306],\n",
       "         [3768, 3834, 3900],\n",
       "         [4362, 4428, 4494]],\n",
       "\n",
       "        [[3606, 3681, 3756],\n",
       "         [4281, 4356, 4431],\n",
       "         [4956, 5031, 5106]]]])"
      ]
     },
     "execution_count": 50,
     "metadata": {},
     "output_type": "execute_result"
    }
   ],
   "source": [
    "res=np.dot(ar3,ar4)\n",
    "res"
   ]
  },
  {
   "cell_type": "code",
   "execution_count": 51,
   "id": "f3e2b4bf",
   "metadata": {},
   "outputs": [
    {
     "ename": "ValueError",
     "evalue": "shapes (3,3,3) and (8,) not aligned: 3 (dim 2) != 8 (dim 0)",
     "output_type": "error",
     "traceback": [
      "\u001b[1;31m---------------------------------------------------------------------------\u001b[0m",
      "\u001b[1;31mValueError\u001b[0m                                Traceback (most recent call last)",
      "Cell \u001b[1;32mIn[51], line 1\u001b[0m\n\u001b[1;32m----> 1\u001b[0m res1\u001b[38;5;241m=\u001b[39m\u001b[43mnp\u001b[49m\u001b[38;5;241;43m.\u001b[39;49m\u001b[43mdot\u001b[49m\u001b[43m(\u001b[49m\u001b[43mar3\u001b[49m\u001b[43m,\u001b[49m\u001b[43marr\u001b[49m\u001b[43m)\u001b[49m\n\u001b[0;32m      2\u001b[0m res1\n",
      "File \u001b[1;32m<__array_function__ internals>:180\u001b[0m, in \u001b[0;36mdot\u001b[1;34m(*args, **kwargs)\u001b[0m\n",
      "\u001b[1;31mValueError\u001b[0m: shapes (3,3,3) and (8,) not aligned: 3 (dim 2) != 8 (dim 0)"
     ]
    }
   ],
   "source": [
    "res1=np.dot(ar3,arr)\n",
    "res1"
   ]
  },
  {
   "cell_type": "code",
   "execution_count": 54,
   "id": "8e515a6e",
   "metadata": {},
   "outputs": [
    {
     "data": {
      "text/plain": [
       "array([2.        , 2.42857143, 2.85714286, 3.28571429, 3.71428571,\n",
       "       4.14285714, 4.57142857, 5.        , 5.42857143, 5.85714286,\n",
       "       6.28571429, 6.71428571, 7.14285714, 7.57142857, 8.        ])"
      ]
     },
     "execution_count": 54,
     "metadata": {},
     "output_type": "execute_result"
    }
   ],
   "source": [
    "res2=np.linspace(2,8,15)\n",
    "res2"
   ]
  },
  {
   "cell_type": "code",
   "execution_count": 55,
   "id": "da791784",
   "metadata": {},
   "outputs": [
    {
     "data": {
      "text/plain": [
       "array([2. , 3.2, 4.4, 5.6, 6.8, 8. ])"
      ]
     },
     "execution_count": 55,
     "metadata": {},
     "output_type": "execute_result"
    }
   ],
   "source": [
    "res3=np.linspace(start=2,stop=8,num=6)\n",
    "res3"
   ]
  },
  {
   "cell_type": "code",
   "execution_count": 56,
   "id": "bb7992f9",
   "metadata": {},
   "outputs": [],
   "source": [
    "### \\n"
   ]
  },
  {
   "cell_type": "code",
   "execution_count": 60,
   "id": "34d62f7a",
   "metadata": {},
   "outputs": [
    {
     "name": "stdout",
     "output_type": "stream",
     "text": [
      "This is first line.\n",
      " This is second line \n",
      "This is third line\n"
     ]
    }
   ],
   "source": [
    "print(\"This is first line.\\n This is second line \\nThis is third line\")"
   ]
  },
  {
   "cell_type": "code",
   "execution_count": null,
   "id": "f2812147",
   "metadata": {},
   "outputs": [],
   "source": [
    "### read mode"
   ]
  },
  {
   "cell_type": "code",
   "execution_count": 74,
   "id": "265e45cc",
   "metadata": {},
   "outputs": [
    {
     "data": {
      "text/plain": [
       "<_io.TextIOWrapper name='openfile.txt' mode='r' encoding='cp1252'>"
      ]
     },
     "execution_count": 74,
     "metadata": {},
     "output_type": "execute_result"
    }
   ],
   "source": [
    "op=open('openfile.txt','r')\n",
    "op"
   ]
  },
  {
   "cell_type": "code",
   "execution_count": 75,
   "id": "a7222c1d",
   "metadata": {},
   "outputs": [
    {
     "data": {
      "text/plain": [
       "'This is first line.\\n This is second line \\nThis is third line\\nThis is 4 line.\\n Th'"
      ]
     },
     "execution_count": 75,
     "metadata": {},
     "output_type": "execute_result"
    }
   ],
   "source": [
    "op=open('openfile.txt')\n",
    "op.read(80)"
   ]
  },
  {
   "cell_type": "code",
   "execution_count": 76,
   "id": "f7b39672",
   "metadata": {},
   "outputs": [
    {
     "data": {
      "text/plain": [
       "'This is first line.\\n'"
      ]
     },
     "execution_count": 76,
     "metadata": {},
     "output_type": "execute_result"
    }
   ],
   "source": [
    "op=open('openfile.txt')\n",
    "op.readline()"
   ]
  },
  {
   "cell_type": "code",
   "execution_count": 77,
   "id": "8d8205fe",
   "metadata": {},
   "outputs": [
    {
     "data": {
      "text/plain": [
       "['This is first line.\\n',\n",
       " ' This is second line \\n',\n",
       " 'This is third line\\n',\n",
       " 'This is 4 line.\\n',\n",
       " ' This is 5 line \\n',\n",
       " 'This is 6 line\\n',\n",
       " 'This is seven line.\\n',\n",
       " ' This is eight line \\n',\n",
       " 'This is nine line']"
      ]
     },
     "execution_count": 77,
     "metadata": {},
     "output_type": "execute_result"
    }
   ],
   "source": [
    "op=open('openfile.txt')\n",
    "op.readlines()"
   ]
  },
  {
   "cell_type": "markdown",
   "id": "ce784dcd",
   "metadata": {},
   "source": [
    "## combination of 2 or more modes"
   ]
  },
  {
   "cell_type": "code",
   "execution_count": 80,
   "id": "1ee91b7c",
   "metadata": {},
   "outputs": [
    {
     "ename": "TypeError",
     "evalue": "'<' not supported between instances of 'str' and 'int'",
     "output_type": "error",
     "traceback": [
      "\u001b[1;31m---------------------------------------------------------------------------\u001b[0m",
      "\u001b[1;31mTypeError\u001b[0m                                 Traceback (most recent call last)",
      "Cell \u001b[1;32mIn[80], line 2\u001b[0m\n\u001b[0;32m      1\u001b[0m op\u001b[38;5;241m=\u001b[39m\u001b[38;5;28mopen\u001b[39m(\u001b[38;5;124m'\u001b[39m\u001b[38;5;124mopenfile.txt\u001b[39m\u001b[38;5;124m'\u001b[39m)\n\u001b[1;32m----> 2\u001b[0m \u001b[43mop\u001b[49m\u001b[38;5;241;43m.\u001b[39;49m\u001b[43mseek\u001b[49m\u001b[43m(\u001b[49m\u001b[38;5;124;43m'\u001b[39;49m\u001b[38;5;124;43mr\u001b[39;49m\u001b[38;5;124;43m'\u001b[39;49m\u001b[38;5;241;43m+\u001b[39;49m\u001b[38;5;124;43m'\u001b[39;49m\u001b[38;5;124;43mw\u001b[39;49m\u001b[38;5;124;43m'\u001b[39;49m\u001b[43m)\u001b[49m\n",
      "\u001b[1;31mTypeError\u001b[0m: '<' not supported between instances of 'str' and 'int'"
     ]
    }
   ],
   "source": [
    "op=open('openfile.txt')\n",
    "op.seek('r'+'w')"
   ]
  },
  {
   "cell_type": "code",
   "execution_count": null,
   "id": "b16f6b6b",
   "metadata": {},
   "outputs": [],
   "source": []
  },
  {
   "cell_type": "markdown",
   "id": "aa7eef7a",
   "metadata": {},
   "source": [
    "### write mode"
   ]
  },
  {
   "cell_type": "code",
   "execution_count": 63,
   "id": "6c58cd6b",
   "metadata": {},
   "outputs": [
    {
     "data": {
      "text/plain": [
       "<_io.TextIOWrapper name='openfile.txt' mode='w' encoding='cp1252'>"
      ]
     },
     "execution_count": 63,
     "metadata": {},
     "output_type": "execute_result"
    }
   ],
   "source": [
    "op=open('openfile.txt','w')\n",
    "op"
   ]
  },
  {
   "cell_type": "markdown",
   "id": "15182189",
   "metadata": {},
   "source": [
    "### append to file"
   ]
  },
  {
   "cell_type": "code",
   "execution_count": 82,
   "id": "9a515903",
   "metadata": {},
   "outputs": [
    {
     "data": {
      "text/plain": [
       "<_io.TextIOWrapper name='openfile.txt' mode='a' encoding='cp1252'>"
      ]
     },
     "execution_count": 82,
     "metadata": {},
     "output_type": "execute_result"
    }
   ],
   "source": [
    "op=open('openfile.txt','a')\n",
    "op"
   ]
  },
  {
   "cell_type": "code",
   "execution_count": null,
   "id": "e726258b",
   "metadata": {},
   "outputs": [],
   "source": [
    "### close file"
   ]
  },
  {
   "cell_type": "code",
   "execution_count": 66,
   "id": "c68e4cb7",
   "metadata": {},
   "outputs": [],
   "source": [
    "op.close()"
   ]
  },
  {
   "cell_type": "markdown",
   "id": "6561a78b",
   "metadata": {},
   "source": [
    "# graphs matplotlib and pylab"
   ]
  },
  {
   "cell_type": "code",
   "execution_count": 83,
   "id": "5f43a6c7",
   "metadata": {},
   "outputs": [],
   "source": [
    "import pylab as pl"
   ]
  },
  {
   "cell_type": "code",
   "execution_count": 84,
   "id": "5f3723e9",
   "metadata": {},
   "outputs": [],
   "source": [
    "a=[1,3,5]"
   ]
  },
  {
   "cell_type": "code",
   "execution_count": 85,
   "id": "8e214e60",
   "metadata": {},
   "outputs": [],
   "source": [
    "b=[2,4,6]"
   ]
  },
  {
   "cell_type": "code",
   "execution_count": 89,
   "id": "10db77e5",
   "metadata": {},
   "outputs": [
    {
     "data": {
      "text/plain": [
       "[<matplotlib.lines.Line2D at 0x2af250de3e0>]"
      ]
     },
     "execution_count": 89,
     "metadata": {},
     "output_type": "execute_result"
    },
    {
     "data": {
      "image/png": "[encoded data removed]",
      "text/plain": [
       "<Figure size 640x480 with 1 Axes>"
      ]
     },
     "metadata": {},
     "output_type": "display_data"
    }
   ],
   "source": [
    "pl.plot(a,b)"
   ]
  },
  {
   "cell_type": "code",
   "execution_count": 91,
   "id": "aa4df1c0",
   "metadata": {},
   "outputs": [
    {
     "data": {
      "text/plain": [
       "[<matplotlib.lines.Line2D at 0x2af239e06d0>]"
      ]
     },
     "execution_count": 91,
     "metadata": {},
     "output_type": "execute_result"
    },
    {
     "data": {
      "image/png": "[encoded data removed]",
      "text/plain": [
       "<Figure size 640x480 with 1 Axes>"
      ]
     },
     "metadata": {},
     "output_type": "display_data"
    }
   ],
   "source": [
    "pl.plot(b,a)"
   ]
  },
  {
   "cell_type": "code",
   "execution_count": 92,
   "id": "14450246",
   "metadata": {},
   "outputs": [],
   "source": [
    "pl.show()"
   ]
  },
  {
   "cell_type": "code",
   "execution_count": 94,
   "id": "678fa208",
   "metadata": {},
   "outputs": [
    {
     "data": {
      "text/plain": [
       "0.871122376280417"
      ]
     },
     "execution_count": 94,
     "metadata": {},
     "output_type": "execute_result"
    }
   ],
   "source": [
    "np.random.random()"
   ]
  },
  {
   "cell_type": "code",
   "execution_count": 96,
   "id": "25fb9e7f",
   "metadata": {},
   "outputs": [
    {
     "ename": "TypeError",
     "evalue": "random() takes at most 1 positional argument (2 given)",
     "output_type": "error",
     "traceback": [
      "\u001b[1;31m---------------------------------------------------------------------------\u001b[0m",
      "\u001b[1;31mTypeError\u001b[0m                                 Traceback (most recent call last)",
      "Cell \u001b[1;32mIn[96], line 1\u001b[0m\n\u001b[1;32m----> 1\u001b[0m \u001b[43mnp\u001b[49m\u001b[38;5;241;43m.\u001b[39;49m\u001b[43mrandom\u001b[49m\u001b[38;5;241;43m.\u001b[39;49m\u001b[43mrandom\u001b[49m\u001b[43m(\u001b[49m\u001b[38;5;241;43m10\u001b[39;49m\u001b[43m,\u001b[49m\u001b[38;5;241;43m20\u001b[39;49m\u001b[43m)\u001b[49m\n",
      "File \u001b[1;32mmtrand.pyx:427\u001b[0m, in \u001b[0;36mnumpy.random.mtrand.RandomState.random\u001b[1;34m()\u001b[0m\n",
      "\u001b[1;31mTypeError\u001b[0m: random() takes at most 1 positional argument (2 given)"
     ]
    }
   ],
   "source": [
    "np.random.random(10,20)"
   ]
  },
  {
   "cell_type": "code",
   "execution_count": 101,
   "id": "969096e8",
   "metadata": {},
   "outputs": [
    {
     "data": {
      "text/plain": [
       "11.960667735857132"
      ]
     },
     "execution_count": 101,
     "metadata": {},
     "output_type": "execute_result"
    }
   ],
   "source": [
    "np.random.uniform(10, 20)"
   ]
  },
  {
   "cell_type": "code",
   "execution_count": null,
   "id": "ff18294b",
   "metadata": {},
   "outputs": [],
   "source": []
  }
 ],
 "metadata": {
  "kernelspec": {
   "display_name": "Python 3 (ipykernel)",
   "language": "python",
   "name": "python3"
  },
  "language_info": {
   "codemirror_mode": {
    "name": "ipython",
    "version": 3
   },
   "file_extension": ".py",
   "mimetype": "text/x-python",
   "name": "python",
   "nbconvert_exporter": "python",
   "pygments_lexer": "ipython3",
   "version": "3.10.9"
  }
 },
 "nbformat": 4,
 "nbformat_minor": 5
}
