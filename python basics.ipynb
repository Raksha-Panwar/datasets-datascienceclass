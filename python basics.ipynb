{
 "cells": [
  {
   "cell_type": "markdown",
   "id": "137a50e8",
   "metadata": {},
   "source": [
    "# print"
   ]
  },
  {
   "cell_type": "code",
   "execution_count": 1,
   "id": "5a98df3d",
   "metadata": {},
   "outputs": [
    {
     "name": "stdout",
     "output_type": "stream",
     "text": [
      "Hello, World\n"
     ]
    }
   ],
   "source": [
    "print(\"Hello, World\")"
   ]
  },
  {
   "cell_type": "code",
   "execution_count": 3,
   "id": "5ace7ec7",
   "metadata": {},
   "outputs": [
    {
     "name": "stdout",
     "output_type": "stream",
     "text": [
      "<h2>Please log in to access Mount Olympus:</h2\n"
     ]
    }
   ],
   "source": [
    "import requests\n",
    "resp = requests.get(\"http://olympus.realpython.org\")\n",
    "html = resp.text\n",
    "print(html[86:132])"
   ]
  },
  {
   "cell_type": "markdown",
   "id": "6c775430",
   "metadata": {},
   "source": [
    "# valid invalid identifier names"
   ]
  },
  {
   "cell_type": "markdown",
   "id": "d272ebe3",
   "metadata": {},
   "source": [
    "# operators"
   ]
  },
  {
   "cell_type": "markdown",
   "id": "b08b16ee",
   "metadata": {},
   "source": [
    "# datatypes & datatype check"
   ]
  },
  {
   "cell_type": "code",
   "execution_count": 8,
   "id": "b3091129",
   "metadata": {},
   "outputs": [
    {
     "data": {
      "text/plain": [
       "str"
      ]
     },
     "execution_count": 8,
     "metadata": {},
     "output_type": "execute_result"
    }
   ],
   "source": [
    "type(\"rak\")"
   ]
  },
  {
   "cell_type": "markdown",
   "id": "f2a14605",
   "metadata": {},
   "source": [
    "# string methods"
   ]
  },
  {
   "cell_type": "code",
   "execution_count": 10,
   "id": "eea98b04",
   "metadata": {},
   "outputs": [
    {
     "data": {
      "text/plain": [
       "3"
      ]
     },
     "execution_count": 10,
     "metadata": {},
     "output_type": "execute_result"
    }
   ],
   "source": [
    "len(\"abc\")"
   ]
  },
  {
   "cell_type": "code",
   "execution_count": 11,
   "id": "99571733",
   "metadata": {},
   "outputs": [
    {
     "data": {
      "text/plain": [
       "'abcdef'"
      ]
     },
     "execution_count": 11,
     "metadata": {},
     "output_type": "execute_result"
    }
   ],
   "source": [
    "\"abc\"+\"def\""
   ]
  },
  {
   "cell_type": "code",
   "execution_count": 21,
   "id": "e5fefffc",
   "metadata": {},
   "outputs": [
    {
     "data": {
      "text/plain": [
       "'abc def'"
      ]
     },
     "execution_count": 21,
     "metadata": {},
     "output_type": "execute_result"
    }
   ],
   "source": [
    "\"abc\"+\" \" + \"def\""
   ]
  },
  {
   "cell_type": "code",
   "execution_count": 12,
   "id": "dc12367a",
   "metadata": {},
   "outputs": [
    {
     "data": {
      "text/plain": [
       "'abcabc'"
      ]
     },
     "execution_count": 12,
     "metadata": {},
     "output_type": "execute_result"
    }
   ],
   "source": [
    "\"abc\"*2"
   ]
  },
  {
   "cell_type": "code",
   "execution_count": 13,
   "id": "b5092c63",
   "metadata": {},
   "outputs": [
    {
     "data": {
      "text/plain": [
       "'a'"
      ]
     },
     "execution_count": 13,
     "metadata": {},
     "output_type": "execute_result"
    }
   ],
   "source": [
    "\"abc\"[0]"
   ]
  },
  {
   "cell_type": "code",
   "execution_count": 14,
   "id": "186b0b5e",
   "metadata": {
    "scrolled": true
   },
   "outputs": [
    {
     "data": {
      "text/plain": [
       "'abcdef'"
      ]
     },
     "execution_count": 14,
     "metadata": {},
     "output_type": "execute_result"
    }
   ],
   "source": [
    "\"abcdef\"[:]"
   ]
  },
  {
   "cell_type": "code",
   "execution_count": 22,
   "id": "0e0dd0bf",
   "metadata": {},
   "outputs": [
    {
     "data": {
      "text/plain": [
       "'abcdef'"
      ]
     },
     "execution_count": 22,
     "metadata": {},
     "output_type": "execute_result"
    }
   ],
   "source": [
    "\"abcdef\"[0:]"
   ]
  },
  {
   "cell_type": "code",
   "execution_count": 23,
   "id": "5f188a31",
   "metadata": {},
   "outputs": [
    {
     "data": {
      "text/plain": [
       "'abcdef'"
      ]
     },
     "execution_count": 23,
     "metadata": {},
     "output_type": "execute_result"
    }
   ],
   "source": [
    "\"abcdef\"[:6]"
   ]
  },
  {
   "cell_type": "code",
   "execution_count": 15,
   "id": "881ebdee",
   "metadata": {},
   "outputs": [
    {
     "data": {
      "text/plain": [
       "'bc'"
      ]
     },
     "execution_count": 15,
     "metadata": {},
     "output_type": "execute_result"
    }
   ],
   "source": [
    "\"abcdef\"[1:3]"
   ]
  },
  {
   "cell_type": "code",
   "execution_count": 19,
   "id": "2f99f4fb",
   "metadata": {},
   "outputs": [
    {
     "data": {
      "text/plain": [
       "'fedcba'"
      ]
     },
     "execution_count": 19,
     "metadata": {},
     "output_type": "execute_result"
    }
   ],
   "source": [
    "\"abcdef\"[::-1]"
   ]
  },
  {
   "cell_type": "code",
   "execution_count": 20,
   "id": "6ca0def6",
   "metadata": {},
   "outputs": [
    {
     "data": {
      "text/plain": [
       "'e'"
      ]
     },
     "execution_count": 20,
     "metadata": {},
     "output_type": "execute_result"
    }
   ],
   "source": [
    "\"abcdef\"[-2]"
   ]
  },
  {
   "cell_type": "code",
   "execution_count": 25,
   "id": "191bf519",
   "metadata": {},
   "outputs": [
    {
     "data": {
      "text/plain": [
       "'bcde'"
      ]
     },
     "execution_count": 25,
     "metadata": {},
     "output_type": "execute_result"
    }
   ],
   "source": [
    "\"abcdef\"[-5:-1]"
   ]
  },
  {
   "cell_type": "code",
   "execution_count": 27,
   "id": "57734155",
   "metadata": {},
   "outputs": [
    {
     "data": {
      "text/plain": [
       "''"
      ]
     },
     "execution_count": 27,
     "metadata": {},
     "output_type": "execute_result"
    }
   ],
   "source": [
    "\"abcdef\"[-7:0]"
   ]
  },
  {
   "cell_type": "markdown",
   "id": "889add2c",
   "metadata": {},
   "source": [
    "#### strings are immutable"
   ]
  },
  {
   "cell_type": "code",
   "execution_count": 28,
   "id": "6c56e405",
   "metadata": {},
   "outputs": [
    {
     "ename": "TypeError",
     "evalue": "'str' object does not support item assignment",
     "output_type": "error",
     "traceback": [
      "\u001b[1;31m---------------------------------------------------------------------------\u001b[0m",
      "\u001b[1;31mTypeError\u001b[0m                                 Traceback (most recent call last)",
      "Cell \u001b[1;32mIn[28], line 1\u001b[0m\n\u001b[1;32m----> 1\u001b[0m \u001b[38;5;124m\"\u001b[39m\u001b[38;5;124mabcdef\u001b[39m\u001b[38;5;124m\"\u001b[39m[\u001b[38;5;241m0\u001b[39m]\u001b[38;5;241m=\u001b[39m\u001b[38;5;124m'\u001b[39m\u001b[38;5;124mk\u001b[39m\u001b[38;5;124m'\u001b[39m\n",
      "\u001b[1;31mTypeError\u001b[0m: 'str' object does not support item assignment"
     ]
    }
   ],
   "source": [
    "\"abcdef\"[0]='k'"
   ]
  },
  {
   "cell_type": "code",
   "execution_count": 30,
   "id": "c9f3ce6d",
   "metadata": {},
   "outputs": [
    {
     "data": {
      "text/plain": [
       "'ABCDEF'"
      ]
     },
     "execution_count": 30,
     "metadata": {},
     "output_type": "execute_result"
    }
   ],
   "source": [
    "\"abcdef\".upper()"
   ]
  },
  {
   "cell_type": "code",
   "execution_count": 32,
   "id": "084467cd",
   "metadata": {},
   "outputs": [
    {
     "data": {
      "text/plain": [
       "'aedfgh'"
      ]
     },
     "execution_count": 32,
     "metadata": {},
     "output_type": "execute_result"
    }
   ],
   "source": [
    "\"AeDFGh\".lower()"
   ]
  },
  {
   "cell_type": "code",
   "execution_count": 37,
   "id": "cf793866",
   "metadata": {},
   "outputs": [
    {
     "data": {
      "text/plain": [
       "'I am Raks '"
      ]
     },
     "execution_count": 37,
     "metadata": {},
     "output_type": "execute_result"
    }
   ],
   "source": [
    "stripvar=\"I am Raks \"\n",
    "stripvar"
   ]
  },
  {
   "cell_type": "code",
   "execution_count": 36,
   "id": "d0af1a05",
   "metadata": {},
   "outputs": [
    {
     "data": {
      "text/plain": [
       "'I am Raks'"
      ]
     },
     "execution_count": 36,
     "metadata": {},
     "output_type": "execute_result"
    }
   ],
   "source": [
    "stripvar.strip()"
   ]
  },
  {
   "cell_type": "code",
   "execution_count": 34,
   "id": "62f0d65c",
   "metadata": {},
   "outputs": [
    {
     "data": {
      "text/plain": [
       "'I am Raks'"
      ]
     },
     "execution_count": 34,
     "metadata": {},
     "output_type": "execute_result"
    }
   ],
   "source": [
    "\" I am Raks \".strip()"
   ]
  },
  {
   "cell_type": "code",
   "execution_count": 45,
   "id": "9b744a33",
   "metadata": {},
   "outputs": [
    {
     "data": {
      "text/plain": [
       "'I am Raks  '"
      ]
     },
     "execution_count": 45,
     "metadata": {},
     "output_type": "execute_result"
    }
   ],
   "source": [
    "\"I am Raks  \".lstrip()"
   ]
  },
  {
   "cell_type": "code",
   "execution_count": 43,
   "id": "c87f2585",
   "metadata": {},
   "outputs": [
    {
     "data": {
      "text/plain": [
       "'   I am Raks'"
      ]
     },
     "execution_count": 43,
     "metadata": {},
     "output_type": "execute_result"
    }
   ],
   "source": [
    "\"   I am Raks  \".rstrip()"
   ]
  },
  {
   "cell_type": "code",
   "execution_count": 46,
   "id": "63d5f8c4",
   "metadata": {},
   "outputs": [
    {
     "data": {
      "text/plain": [
       "False"
      ]
     },
     "execution_count": 46,
     "metadata": {},
     "output_type": "execute_result"
    }
   ],
   "source": [
    "\"abcdef\".startswith(\"x\")"
   ]
  },
  {
   "cell_type": "code",
   "execution_count": 49,
   "id": "4ac7549d",
   "metadata": {},
   "outputs": [
    {
     "data": {
      "text/plain": [
       "True"
      ]
     },
     "execution_count": 49,
     "metadata": {},
     "output_type": "execute_result"
    }
   ],
   "source": [
    "\"abcdef\".endswith(\"f\")"
   ]
  },
  {
   "cell_type": "code",
   "execution_count": 1,
   "id": "f10444c1",
   "metadata": {},
   "outputs": [
    {
     "name": "stdout",
     "output_type": "stream",
     "text": [
      "enter a value4\n"
     ]
    },
    {
     "data": {
      "text/plain": [
       "'4'"
      ]
     },
     "execution_count": 1,
     "metadata": {},
     "output_type": "execute_result"
    }
   ],
   "source": [
    "a=input(\"enter a value\")\n",
    "a"
   ]
  },
  {
   "cell_type": "markdown",
   "id": "4f36413e",
   "metadata": {},
   "source": [
    "# Exercises"
   ]
  },
  {
   "cell_type": "code",
   "execution_count": null,
   "id": "a3b9ae22",
   "metadata": {},
   "outputs": [],
   "source": [
    "# Write a program that IDLE won’t run because it has a syntax error."
   ]
  },
  {
   "cell_type": "code",
   "execution_count": 6,
   "id": "55854890",
   "metadata": {},
   "outputs": [
    {
     "ename": "SyntaxError",
     "evalue": "unterminated string literal (detected at line 1) (2591368228.py, line 1)",
     "output_type": "error",
     "traceback": [
      "\u001b[1;36m  Cell \u001b[1;32mIn[6], line 1\u001b[1;36m\u001b[0m\n\u001b[1;33m    a=\"my name\u001b[0m\n\u001b[1;37m      ^\u001b[0m\n\u001b[1;31mSyntaxError\u001b[0m\u001b[1;31m:\u001b[0m unterminated string literal (detected at line 1)\n"
     ]
    }
   ],
   "source": [
    "a=\"my name\n",
    "a"
   ]
  },
  {
   "cell_type": "code",
   "execution_count": null,
   "id": "23747bf2",
   "metadata": {},
   "outputs": [],
   "source": [
    "# Write a program that crashes only while it’s running because it has a runtime error."
   ]
  },
  {
   "cell_type": "code",
   "execution_count": 7,
   "id": "036bf627",
   "metadata": {
    "scrolled": true
   },
   "outputs": [
    {
     "ename": "NameError",
     "evalue": "name 'name' is not defined",
     "output_type": "error",
     "traceback": [
      "\u001b[1;31m---------------------------------------------------------------------------\u001b[0m",
      "\u001b[1;31mNameError\u001b[0m                                 Traceback (most recent call last)",
      "Cell \u001b[1;32mIn[7], line 1\u001b[0m\n\u001b[1;32m----> 1\u001b[0m \u001b[38;5;28mprint\u001b[39m(\u001b[43mname\u001b[49m)\n",
      "\u001b[1;31mNameError\u001b[0m: name 'name' is not defined"
     ]
    }
   ],
   "source": [
    "print(name)"
   ]
  },
  {
   "cell_type": "code",
   "execution_count": null,
   "id": "bbdcbf1b",
   "metadata": {},
   "outputs": [],
   "source": [
    "# Using the interactive window, display some text using print()."
   ]
  },
  {
   "cell_type": "code",
   "execution_count": null,
   "id": "7620a923",
   "metadata": {},
   "outputs": [],
   "source": [
    "print(\"Hi, this is a print statement\")"
   ]
  },
  {
   "cell_type": "code",
   "execution_count": null,
   "id": "496088ca",
   "metadata": {},
   "outputs": [],
   "source": [
    "# Using the interactive window, assign a string literal to a variable.Then print the contents of the variable using the print() function"
   ]
  },
  {
   "cell_type": "code",
   "execution_count": 9,
   "id": "fb2203a7",
   "metadata": {},
   "outputs": [
    {
     "name": "stdout",
     "output_type": "stream",
     "text": [
      "enter a nameraks\n",
      "raks\n"
     ]
    }
   ],
   "source": [
    "name=input(\"enter a name\")\n",
    "print(name)"
   ]
  },
  {
   "cell_type": "code",
   "execution_count": null,
   "id": "f8535fca",
   "metadata": {},
   "outputs": [],
   "source": [
    "# Repeat the first two exercises using the editor window."
   ]
  },
  {
   "cell_type": "code",
   "execution_count": null,
   "id": "80c0896b",
   "metadata": {},
   "outputs": [],
   "source": []
  },
  {
   "cell_type": "code",
   "execution_count": null,
   "id": "0553e159",
   "metadata": {},
   "outputs": [],
   "source": []
  },
  {
   "cell_type": "code",
   "execution_count": null,
   "id": "782c15bd",
   "metadata": {},
   "outputs": [],
   "source": [
    "# Print a string that uses double quotation marks inside the string."
   ]
  },
  {
   "cell_type": "code",
   "execution_count": 10,
   "id": "9f5f213f",
   "metadata": {},
   "outputs": [
    {
     "name": "stdout",
     "output_type": "stream",
     "text": [
      "This string has \"double quotes\"\n"
     ]
    }
   ],
   "source": [
    "print('This string has \"double quotes\"')"
   ]
  },
  {
   "cell_type": "code",
   "execution_count": null,
   "id": "437c90f0",
   "metadata": {},
   "outputs": [],
   "source": [
    "# Print a string that uses an apostrophe inside the string."
   ]
  },
  {
   "cell_type": "code",
   "execution_count": 11,
   "id": "52cd7090",
   "metadata": {},
   "outputs": [
    {
     "name": "stdout",
     "output_type": "stream",
     "text": [
      "This string has 'apostrophe\n"
     ]
    }
   ],
   "source": [
    "print(\"This string has 'apostrophe\")"
   ]
  },
  {
   "cell_type": "code",
   "execution_count": null,
   "id": "ee38d760",
   "metadata": {},
   "outputs": [],
   "source": [
    "# Print a string that spans multiple lines with whitespace preserved."
   ]
  },
  {
   "cell_type": "code",
   "execution_count": 13,
   "id": "3a8a6406",
   "metadata": {},
   "outputs": [
    {
     "name": "stdout",
     "output_type": "stream",
     "text": [
      " This is first line\n",
      " this is second line\n",
      "this is third \n"
     ]
    }
   ],
   "source": [
    "print(\" This is first line\\n this is second line\\nthis is third \")"
   ]
  },
  {
   "cell_type": "code",
   "execution_count": null,
   "id": "88b393ea",
   "metadata": {},
   "outputs": [],
   "source": [
    "# Print a string that is coded on multiple lines but gets printed on a single line"
   ]
  },
  {
   "cell_type": "code",
   "execution_count": 17,
   "id": "5ea17b43",
   "metadata": {},
   "outputs": [
    {
     "name": "stdout",
     "output_type": "stream",
     "text": [
      " This is first line this is second line this is third \n"
     ]
    }
   ],
   "source": [
    "print(\" This is first line \\\n",
    "this is second line \\\n",
    "this is third \")"
   ]
  },
  {
   "cell_type": "code",
   "execution_count": null,
   "id": "74ad0476",
   "metadata": {},
   "outputs": [],
   "source": [
    "# Create a string and print its length using len()."
   ]
  },
  {
   "cell_type": "code",
   "execution_count": 18,
   "id": "d2954190",
   "metadata": {},
   "outputs": [
    {
     "data": {
      "text/plain": [
       "6"
      ]
     },
     "execution_count": 18,
     "metadata": {},
     "output_type": "execute_result"
    }
   ],
   "source": [
    "st=\"string\"\n",
    "len(st)"
   ]
  },
  {
   "cell_type": "code",
   "execution_count": null,
   "id": "9306296b",
   "metadata": {},
   "outputs": [],
   "source": [
    "# Create two strings, concatenate them, and print the resulting string"
   ]
  },
  {
   "cell_type": "code",
   "execution_count": 19,
   "id": "62ce4d59",
   "metadata": {},
   "outputs": [
    {
     "name": "stdout",
     "output_type": "stream",
     "text": [
      "abcddefg\n"
     ]
    }
   ],
   "source": [
    "st1=\"abcd\"\n",
    "st2=\"defg\"\n",
    "print(st1+st2)"
   ]
  },
  {
   "cell_type": "code",
   "execution_count": null,
   "id": "f0c66747",
   "metadata": {},
   "outputs": [],
   "source": [
    "# Create two strings, use concatenation to add a space between them, and print the result."
   ]
  },
  {
   "cell_type": "code",
   "execution_count": 20,
   "id": "253c4503",
   "metadata": {},
   "outputs": [
    {
     "name": "stdout",
     "output_type": "stream",
     "text": [
      "abcd defg\n"
     ]
    }
   ],
   "source": [
    "print(st1 + \" \" + st2)"
   ]
  },
  {
   "cell_type": "code",
   "execution_count": null,
   "id": "bbe8b237",
   "metadata": {},
   "outputs": [],
   "source": [
    "# Print the string \"zing\" by using slice notation to specify the correct range of characters in the string \"bazinga\"."
   ]
  },
  {
   "cell_type": "code",
   "execution_count": 21,
   "id": "132c9c1b",
   "metadata": {},
   "outputs": [
    {
     "name": "stdout",
     "output_type": "stream",
     "text": [
      "zing\n"
     ]
    }
   ],
   "source": [
    "print(\"bazinga\"[2:6])"
   ]
  },
  {
   "cell_type": "code",
   "execution_count": null,
   "id": "003c50e3",
   "metadata": {},
   "outputs": [],
   "source": [
    "# Write a program that converts the following strings to lowercase: \"Animals\", \"Badger\", \"Honey Bee\", \"Honey Badger\". Print each lower- case string on a separate line."
   ]
  },
  {
   "cell_type": "code",
   "execution_count": 23,
   "id": "45dbcf11",
   "metadata": {},
   "outputs": [
    {
     "name": "stdout",
     "output_type": "stream",
     "text": [
      "animals\n",
      "badger\n",
      "honey bee\n",
      "honey badger\n"
     ]
    }
   ],
   "source": [
    "print(\"Animals\".lower())\n",
    "print(\"badger\".lower())\n",
    "print(\"Honey Bee\".lower())\n",
    "print(\"Honey Badger\".lower())"
   ]
  },
  {
   "cell_type": "code",
   "execution_count": null,
   "id": "567b6403",
   "metadata": {},
   "outputs": [],
   "source": [
    "# Repeat exercise 1, but convert each string to uppercase instead of lowercase."
   ]
  },
  {
   "cell_type": "code",
   "execution_count": 27,
   "id": "2490c681",
   "metadata": {},
   "outputs": [
    {
     "name": "stdout",
     "output_type": "stream",
     "text": [
      "ANIMALS\n",
      "BADGER\n",
      "HONEY BEE\n",
      "HONEY BADGER\n"
     ]
    }
   ],
   "source": [
    "print(\"Animals\".upper())\n",
    "print(\"badger\".upper())\n",
    "print(\"Honey Bee\".upper())\n",
    "print(\"Honey Badger\".upper())"
   ]
  },
  {
   "cell_type": "code",
   "execution_count": null,
   "id": "ac5d4586",
   "metadata": {},
   "outputs": [],
   "source": [
    "# Write a program that removes whitespace from the following strings, then print out the strings with the whitespace removed:\n",
    "# string1 = \" Filet Mignon\"\n",
    "# string2 = \"Brisket \"\n",
    "# string3 = \" Cheeseburger \""
   ]
  },
  {
   "cell_type": "code",
   "execution_count": 30,
   "id": "efc25cc1",
   "metadata": {},
   "outputs": [
    {
     "name": "stdout",
     "output_type": "stream",
     "text": [
      "Filet Mignon\n",
      "Brisket\n",
      "Cheeseburger\n"
     ]
    }
   ],
   "source": [
    "string1 = \" Filet Mignon\"\n",
    "string2 = \"Brisket \"\n",
    "string3 = \" Cheeseburger \"\n",
    "print(string1.strip())\n",
    "print(\"Brisket \".strip())\n",
    "print(string3.strip())"
   ]
  },
  {
   "cell_type": "code",
   "execution_count": null,
   "id": "70bdb0c1",
   "metadata": {},
   "outputs": [],
   "source": [
    "# Write a program that prints out the result of .startswith(\"be\") on each of the following strings:\n",
    "# string1 = \"Becomes\"\n",
    "# string2 = \"becomes\"\n",
    "# string3 = \"BEAR\"\n",
    "# string4 = \" bEautiful\""
   ]
  },
  {
   "cell_type": "code",
   "execution_count": 33,
   "id": "65346573",
   "metadata": {},
   "outputs": [
    {
     "name": "stdout",
     "output_type": "stream",
     "text": [
      "False\n",
      "True\n",
      "False\n",
      "False\n"
     ]
    }
   ],
   "source": [
    "string1 = \"Becomes\"\n",
    "string2 = \"becomes\"\n",
    "string3 = \"BEAR\"\n",
    "string4 = \" bEautiful\"\n",
    "print(string1.startswith('be'))\n",
    "print(string2.startswith('be'))\n",
    "print(string3.startswith('be'))\n",
    "print(string4.startswith('be'))"
   ]
  },
  {
   "cell_type": "code",
   "execution_count": null,
   "id": "60751072",
   "metadata": {},
   "outputs": [],
   "source": [
    "# Using the same four strings from exercise 4, write a program that uses string methods to alter each string so that .startswith(\"be\") returns True for all of them"
   ]
  },
  {
   "cell_type": "code",
   "execution_count": 37,
   "id": "e70d8e6e",
   "metadata": {},
   "outputs": [
    {
     "name": "stdout",
     "output_type": "stream",
     "text": [
      "True\n",
      "True\n",
      "True\n",
      "False\n"
     ]
    }
   ],
   "source": [
    "print(string1.lower().startswith('be'))\n",
    "print(string2.lower().startswith('be'))\n",
    "print(string3.lower().startswith('be'))\n",
    "print(string4.lower().startswith('be'))"
   ]
  },
  {
   "cell_type": "code",
   "execution_count": null,
   "id": "b856c2cf",
   "metadata": {},
   "outputs": [],
   "source": [
    "# Write a program that takes input from the user and displays that input back."
   ]
  },
  {
   "cell_type": "code",
   "execution_count": 39,
   "id": "784b4e91",
   "metadata": {},
   "outputs": [
    {
     "name": "stdout",
     "output_type": "stream",
     "text": [
      "enter a stringstr\n",
      "str\n"
     ]
    }
   ],
   "source": [
    "str=input(\"enter a string\")\n",
    "print(str)"
   ]
  },
  {
   "cell_type": "code",
   "execution_count": null,
   "id": "99512191",
   "metadata": {},
   "outputs": [],
   "source": [
    "# Write a program that takes input from the user and displays the input in lowercase."
   ]
  },
  {
   "cell_type": "code",
   "execution_count": 42,
   "id": "4eb69a57",
   "metadata": {},
   "outputs": [
    {
     "name": "stdout",
     "output_type": "stream",
     "text": [
      "enter a stringrAK\n",
      "rak\n"
     ]
    }
   ],
   "source": [
    "str=input(\"enter a string\")\n",
    "print(str.lower())"
   ]
  },
  {
   "cell_type": "code",
   "execution_count": null,
   "id": "f88487c7",
   "metadata": {},
   "outputs": [],
   "source": [
    "# Write a program that takes input from the user and displays the number of characters in the input."
   ]
  },
  {
   "cell_type": "code",
   "execution_count": 40,
   "id": "a060b402",
   "metadata": {},
   "outputs": [
    {
     "name": "stdout",
     "output_type": "stream",
     "text": [
      "enter a stringstring\n",
      "6\n"
     ]
    }
   ],
   "source": [
    "str=input(\"enter a string\")\n",
    "print(len(str))"
   ]
  },
  {
   "cell_type": "code",
   "execution_count": null,
   "id": "7535e86d",
   "metadata": {},
   "outputs": [],
   "source": [
    "# Create a string containing an integer, then convert that string into an actual integer object using int(). Test that your new object is a number by multiplying it by another number and displaying the result."
   ]
  },
  {
   "cell_type": "code",
   "execution_count": 43,
   "id": "d39f29cf",
   "metadata": {},
   "outputs": [
    {
     "name": "stdout",
     "output_type": "stream",
     "text": [
      "702\n"
     ]
    }
   ],
   "source": [
    "st2=\"234\"\n",
    "st2=int(st2)\n",
    "print(st2*3)"
   ]
  },
  {
   "cell_type": "code",
   "execution_count": null,
   "id": "a3f42ad0",
   "metadata": {},
   "outputs": [],
   "source": [
    "# Repeat the previous exercise, but use a floating-point number and float()"
   ]
  },
  {
   "cell_type": "code",
   "execution_count": 44,
   "id": "ff567312",
   "metadata": {},
   "outputs": [
    {
     "name": "stdout",
     "output_type": "stream",
     "text": [
      "702.0\n"
     ]
    }
   ],
   "source": [
    "st2=\"234\"\n",
    "st2=float(st2)\n",
    "print(st2*3)"
   ]
  },
  {
   "cell_type": "code",
   "execution_count": null,
   "id": "ec027325",
   "metadata": {},
   "outputs": [],
   "source": [
    "# Create a string object and an integer object, then display them side by side with a single print statement using str()."
   ]
  },
  {
   "cell_type": "code",
   "execution_count": null,
   "id": "6f2e3fa0",
   "metadata": {},
   "outputs": [],
   "source": []
  },
  {
   "cell_type": "code",
   "execution_count": null,
   "id": "05321d34",
   "metadata": {},
   "outputs": [],
   "source": [
    "# Write a program that uses input() twice to get two numbers from the user, multiplies the numbers together, and displays the result. If the user enters 2 and 4, then your program should print the following text:\n",
    "#The product of 2 and 4 is 8.0."
   ]
  },
  {
   "cell_type": "code",
   "execution_count": null,
   "id": "b5b6453e",
   "metadata": {},
   "outputs": [],
   "source": [
    "# Create a float object named weight with the value 0.2, and create a string object named animal with the value \"newt\". Then use these objects to print the following string using only string concatena-tion: 0.2 kg is the weight of the newt"
   ]
  },
  {
   "cell_type": "code",
   "execution_count": null,
   "id": "38a6b43a",
   "metadata": {},
   "outputs": [],
   "source": []
  },
  {
   "cell_type": "code",
   "execution_count": null,
   "id": "0f666321",
   "metadata": {},
   "outputs": [],
   "source": [
    "# Display the same string by using .format() and empty {} placeholders."
   ]
  },
  {
   "cell_type": "code",
   "execution_count": null,
   "id": "dfabe958",
   "metadata": {},
   "outputs": [],
   "source": []
  },
  {
   "cell_type": "code",
   "execution_count": null,
   "id": "a6114580",
   "metadata": {},
   "outputs": [],
   "source": [
    "# Display the same string using an f-string"
   ]
  },
  {
   "cell_type": "code",
   "execution_count": null,
   "id": "973c2c77",
   "metadata": {},
   "outputs": [],
   "source": []
  }
 ],
 "metadata": {
  "kernelspec": {
   "display_name": "Python 3 (ipykernel)",
   "language": "python",
   "name": "python3"
  },
  "language_info": {
   "codemirror_mode": {
    "name": "ipython",
    "version": 3
   },
   "file_extension": ".py",
   "mimetype": "text/x-python",
   "name": "python",
   "nbconvert_exporter": "python",
   "pygments_lexer": "ipython3",
   "version": "3.10.9"
  }
 },
 "nbformat": 4,
 "nbformat_minor": 5
}
