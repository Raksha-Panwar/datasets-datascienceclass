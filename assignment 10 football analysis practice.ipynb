{
 "cells": [
  {
   "cell_type": "code",
   "execution_count": 1,
   "id": "1eedc89a",
   "metadata": {},
   "outputs": [],
   "source": [
    "import numpy as np\n",
    "import pandas as pd\n",
    "import matplotlib.pyplot as plt\n",
    "%matplotlib inline\n",
    "import seaborn as sns\n",
    "import warnings\n",
    "warnings.filterwarnings('ignore')\n",
    "pd.set_option('display.max_columns', None)\n",
    "pd.set_option('display.max_rows', None)"
   ]
  },
  {
   "cell_type": "code",
   "execution_count": 2,
   "id": "1aa2f781",
   "metadata": {},
   "outputs": [
    {
     "data": {
      "text/html": [
       "<div>\n",
       "<style scoped>\n",
       "    .dataframe tbody tr th:only-of-type {\n",
       "        vertical-align: middle;\n",
       "    }\n",
       "\n",
       "    .dataframe tbody tr th {\n",
       "        vertical-align: top;\n",
       "    }\n",
       "\n",
       "    .dataframe thead th {\n",
       "        text-align: right;\n",
       "    }\n",
       "</style>\n",
       "<table border=\"1\" class=\"dataframe\">\n",
       "  <thead>\n",
       "    <tr style=\"text-align: right;\">\n",
       "      <th></th>\n",
       "      <th>Unnamed: 0</th>\n",
       "      <th>ID</th>\n",
       "      <th>Name</th>\n",
       "      <th>Age</th>\n",
       "      <th>Photo</th>\n",
       "      <th>Nationality</th>\n",
       "      <th>Flag</th>\n",
       "      <th>Overall</th>\n",
       "      <th>Potential</th>\n",
       "      <th>Club</th>\n",
       "      <th>Club Logo</th>\n",
       "      <th>Value</th>\n",
       "      <th>Wage</th>\n",
       "      <th>Special</th>\n",
       "      <th>Preferred Foot</th>\n",
       "      <th>International Reputation</th>\n",
       "      <th>Weak Foot</th>\n",
       "      <th>Skill Moves</th>\n",
       "      <th>Work Rate</th>\n",
       "      <th>Body Type</th>\n",
       "      <th>Real Face</th>\n",
       "      <th>Position</th>\n",
       "      <th>Jersey Number</th>\n",
       "      <th>Joined</th>\n",
       "      <th>Loaned From</th>\n",
       "      <th>Contract Valid Until</th>\n",
       "      <th>Height</th>\n",
       "      <th>Weight</th>\n",
       "      <th>LS</th>\n",
       "      <th>ST</th>\n",
       "      <th>RS</th>\n",
       "      <th>LW</th>\n",
       "      <th>LF</th>\n",
       "      <th>CF</th>\n",
       "      <th>RF</th>\n",
       "      <th>RW</th>\n",
       "      <th>LAM</th>\n",
       "      <th>CAM</th>\n",
       "      <th>RAM</th>\n",
       "      <th>LM</th>\n",
       "      <th>LCM</th>\n",
       "      <th>CM</th>\n",
       "      <th>RCM</th>\n",
       "      <th>RM</th>\n",
       "      <th>LWB</th>\n",
       "      <th>LDM</th>\n",
       "      <th>CDM</th>\n",
       "      <th>RDM</th>\n",
       "      <th>RWB</th>\n",
       "      <th>LB</th>\n",
       "      <th>LCB</th>\n",
       "      <th>CB</th>\n",
       "      <th>RCB</th>\n",
       "      <th>RB</th>\n",
       "      <th>Crossing</th>\n",
       "      <th>Finishing</th>\n",
       "      <th>HeadingAccuracy</th>\n",
       "      <th>ShortPassing</th>\n",
       "      <th>Volleys</th>\n",
       "      <th>Dribbling</th>\n",
       "      <th>Curve</th>\n",
       "      <th>FKAccuracy</th>\n",
       "      <th>LongPassing</th>\n",
       "      <th>BallControl</th>\n",
       "      <th>Acceleration</th>\n",
       "      <th>SprintSpeed</th>\n",
       "      <th>Agility</th>\n",
       "      <th>Reactions</th>\n",
       "      <th>Balance</th>\n",
       "      <th>ShotPower</th>\n",
       "      <th>Jumping</th>\n",
       "      <th>Stamina</th>\n",
       "      <th>Strength</th>\n",
       "      <th>LongShots</th>\n",
       "      <th>Aggression</th>\n",
       "      <th>Interceptions</th>\n",
       "      <th>Positioning</th>\n",
       "      <th>Vision</th>\n",
       "      <th>Penalties</th>\n",
       "      <th>Composure</th>\n",
       "      <th>Marking</th>\n",
       "      <th>StandingTackle</th>\n",
       "      <th>SlidingTackle</th>\n",
       "      <th>GKDiving</th>\n",
       "      <th>GKHandling</th>\n",
       "      <th>GKKicking</th>\n",
       "      <th>GKPositioning</th>\n",
       "      <th>GKReflexes</th>\n",
       "      <th>Release Clause</th>\n",
       "    </tr>\n",
       "  </thead>\n",
       "  <tbody>\n",
       "    <tr>\n",
       "      <th>0</th>\n",
       "      <td>0</td>\n",
       "      <td>158023</td>\n",
       "      <td>L. Messi</td>\n",
       "      <td>31</td>\n",
       "      <td>https://cdn.sofifa.org/players/4/19/158023.png</td>\n",
       "      <td>Argentina</td>\n",
       "      <td>https://cdn.sofifa.org/flags/52.png</td>\n",
       "      <td>94</td>\n",
       "      <td>94</td>\n",
       "      <td>FC Barcelona</td>\n",
       "      <td>https://cdn.sofifa.org/teams/2/light/241.png</td>\n",
       "      <td>€110.5M</td>\n",
       "      <td>€565K</td>\n",
       "      <td>2202</td>\n",
       "      <td>Left</td>\n",
       "      <td>5.0</td>\n",
       "      <td>4.0</td>\n",
       "      <td>4.0</td>\n",
       "      <td>Medium/ Medium</td>\n",
       "      <td>Messi</td>\n",
       "      <td>Yes</td>\n",
       "      <td>RF</td>\n",
       "      <td>10.0</td>\n",
       "      <td>Jul 1, 2004</td>\n",
       "      <td>NaN</td>\n",
       "      <td>2021</td>\n",
       "      <td>5'7</td>\n",
       "      <td>159lbs</td>\n",
       "      <td>88+2</td>\n",
       "      <td>88+2</td>\n",
       "      <td>88+2</td>\n",
       "      <td>92+2</td>\n",
       "      <td>93+2</td>\n",
       "      <td>93+2</td>\n",
       "      <td>93+2</td>\n",
       "      <td>92+2</td>\n",
       "      <td>93+2</td>\n",
       "      <td>93+2</td>\n",
       "      <td>93+2</td>\n",
       "      <td>91+2</td>\n",
       "      <td>84+2</td>\n",
       "      <td>84+2</td>\n",
       "      <td>84+2</td>\n",
       "      <td>91+2</td>\n",
       "      <td>64+2</td>\n",
       "      <td>61+2</td>\n",
       "      <td>61+2</td>\n",
       "      <td>61+2</td>\n",
       "      <td>64+2</td>\n",
       "      <td>59+2</td>\n",
       "      <td>47+2</td>\n",
       "      <td>47+2</td>\n",
       "      <td>47+2</td>\n",
       "      <td>59+2</td>\n",
       "      <td>84.0</td>\n",
       "      <td>95.0</td>\n",
       "      <td>70.0</td>\n",
       "      <td>90.0</td>\n",
       "      <td>86.0</td>\n",
       "      <td>97.0</td>\n",
       "      <td>93.0</td>\n",
       "      <td>94.0</td>\n",
       "      <td>87.0</td>\n",
       "      <td>96.0</td>\n",
       "      <td>91.0</td>\n",
       "      <td>86.0</td>\n",
       "      <td>91.0</td>\n",
       "      <td>95.0</td>\n",
       "      <td>95.0</td>\n",
       "      <td>85.0</td>\n",
       "      <td>68.0</td>\n",
       "      <td>72.0</td>\n",
       "      <td>59.0</td>\n",
       "      <td>94.0</td>\n",
       "      <td>48.0</td>\n",
       "      <td>22.0</td>\n",
       "      <td>94.0</td>\n",
       "      <td>94.0</td>\n",
       "      <td>75.0</td>\n",
       "      <td>96.0</td>\n",
       "      <td>33.0</td>\n",
       "      <td>28.0</td>\n",
       "      <td>26.0</td>\n",
       "      <td>6.0</td>\n",
       "      <td>11.0</td>\n",
       "      <td>15.0</td>\n",
       "      <td>14.0</td>\n",
       "      <td>8.0</td>\n",
       "      <td>€226.5M</td>\n",
       "    </tr>\n",
       "    <tr>\n",
       "      <th>1</th>\n",
       "      <td>1</td>\n",
       "      <td>20801</td>\n",
       "      <td>Cristiano Ronaldo</td>\n",
       "      <td>33</td>\n",
       "      <td>https://cdn.sofifa.org/players/4/19/20801.png</td>\n",
       "      <td>Portugal</td>\n",
       "      <td>https://cdn.sofifa.org/flags/38.png</td>\n",
       "      <td>94</td>\n",
       "      <td>94</td>\n",
       "      <td>Juventus</td>\n",
       "      <td>https://cdn.sofifa.org/teams/2/light/45.png</td>\n",
       "      <td>€77M</td>\n",
       "      <td>€405K</td>\n",
       "      <td>2228</td>\n",
       "      <td>Right</td>\n",
       "      <td>5.0</td>\n",
       "      <td>4.0</td>\n",
       "      <td>5.0</td>\n",
       "      <td>High/ Low</td>\n",
       "      <td>C. Ronaldo</td>\n",
       "      <td>Yes</td>\n",
       "      <td>ST</td>\n",
       "      <td>7.0</td>\n",
       "      <td>Jul 10, 2018</td>\n",
       "      <td>NaN</td>\n",
       "      <td>2022</td>\n",
       "      <td>6'2</td>\n",
       "      <td>183lbs</td>\n",
       "      <td>91+3</td>\n",
       "      <td>91+3</td>\n",
       "      <td>91+3</td>\n",
       "      <td>89+3</td>\n",
       "      <td>90+3</td>\n",
       "      <td>90+3</td>\n",
       "      <td>90+3</td>\n",
       "      <td>89+3</td>\n",
       "      <td>88+3</td>\n",
       "      <td>88+3</td>\n",
       "      <td>88+3</td>\n",
       "      <td>88+3</td>\n",
       "      <td>81+3</td>\n",
       "      <td>81+3</td>\n",
       "      <td>81+3</td>\n",
       "      <td>88+3</td>\n",
       "      <td>65+3</td>\n",
       "      <td>61+3</td>\n",
       "      <td>61+3</td>\n",
       "      <td>61+3</td>\n",
       "      <td>65+3</td>\n",
       "      <td>61+3</td>\n",
       "      <td>53+3</td>\n",
       "      <td>53+3</td>\n",
       "      <td>53+3</td>\n",
       "      <td>61+3</td>\n",
       "      <td>84.0</td>\n",
       "      <td>94.0</td>\n",
       "      <td>89.0</td>\n",
       "      <td>81.0</td>\n",
       "      <td>87.0</td>\n",
       "      <td>88.0</td>\n",
       "      <td>81.0</td>\n",
       "      <td>76.0</td>\n",
       "      <td>77.0</td>\n",
       "      <td>94.0</td>\n",
       "      <td>89.0</td>\n",
       "      <td>91.0</td>\n",
       "      <td>87.0</td>\n",
       "      <td>96.0</td>\n",
       "      <td>70.0</td>\n",
       "      <td>95.0</td>\n",
       "      <td>95.0</td>\n",
       "      <td>88.0</td>\n",
       "      <td>79.0</td>\n",
       "      <td>93.0</td>\n",
       "      <td>63.0</td>\n",
       "      <td>29.0</td>\n",
       "      <td>95.0</td>\n",
       "      <td>82.0</td>\n",
       "      <td>85.0</td>\n",
       "      <td>95.0</td>\n",
       "      <td>28.0</td>\n",
       "      <td>31.0</td>\n",
       "      <td>23.0</td>\n",
       "      <td>7.0</td>\n",
       "      <td>11.0</td>\n",
       "      <td>15.0</td>\n",
       "      <td>14.0</td>\n",
       "      <td>11.0</td>\n",
       "      <td>€127.1M</td>\n",
       "    </tr>\n",
       "    <tr>\n",
       "      <th>2</th>\n",
       "      <td>2</td>\n",
       "      <td>190871</td>\n",
       "      <td>Neymar Jr</td>\n",
       "      <td>26</td>\n",
       "      <td>https://cdn.sofifa.org/players/4/19/190871.png</td>\n",
       "      <td>Brazil</td>\n",
       "      <td>https://cdn.sofifa.org/flags/54.png</td>\n",
       "      <td>92</td>\n",
       "      <td>93</td>\n",
       "      <td>Paris Saint-Germain</td>\n",
       "      <td>https://cdn.sofifa.org/teams/2/light/73.png</td>\n",
       "      <td>€118.5M</td>\n",
       "      <td>€290K</td>\n",
       "      <td>2143</td>\n",
       "      <td>Right</td>\n",
       "      <td>5.0</td>\n",
       "      <td>5.0</td>\n",
       "      <td>5.0</td>\n",
       "      <td>High/ Medium</td>\n",
       "      <td>Neymar</td>\n",
       "      <td>Yes</td>\n",
       "      <td>LW</td>\n",
       "      <td>10.0</td>\n",
       "      <td>Aug 3, 2017</td>\n",
       "      <td>NaN</td>\n",
       "      <td>2022</td>\n",
       "      <td>5'9</td>\n",
       "      <td>150lbs</td>\n",
       "      <td>84+3</td>\n",
       "      <td>84+3</td>\n",
       "      <td>84+3</td>\n",
       "      <td>89+3</td>\n",
       "      <td>89+3</td>\n",
       "      <td>89+3</td>\n",
       "      <td>89+3</td>\n",
       "      <td>89+3</td>\n",
       "      <td>89+3</td>\n",
       "      <td>89+3</td>\n",
       "      <td>89+3</td>\n",
       "      <td>88+3</td>\n",
       "      <td>81+3</td>\n",
       "      <td>81+3</td>\n",
       "      <td>81+3</td>\n",
       "      <td>88+3</td>\n",
       "      <td>65+3</td>\n",
       "      <td>60+3</td>\n",
       "      <td>60+3</td>\n",
       "      <td>60+3</td>\n",
       "      <td>65+3</td>\n",
       "      <td>60+3</td>\n",
       "      <td>47+3</td>\n",
       "      <td>47+3</td>\n",
       "      <td>47+3</td>\n",
       "      <td>60+3</td>\n",
       "      <td>79.0</td>\n",
       "      <td>87.0</td>\n",
       "      <td>62.0</td>\n",
       "      <td>84.0</td>\n",
       "      <td>84.0</td>\n",
       "      <td>96.0</td>\n",
       "      <td>88.0</td>\n",
       "      <td>87.0</td>\n",
       "      <td>78.0</td>\n",
       "      <td>95.0</td>\n",
       "      <td>94.0</td>\n",
       "      <td>90.0</td>\n",
       "      <td>96.0</td>\n",
       "      <td>94.0</td>\n",
       "      <td>84.0</td>\n",
       "      <td>80.0</td>\n",
       "      <td>61.0</td>\n",
       "      <td>81.0</td>\n",
       "      <td>49.0</td>\n",
       "      <td>82.0</td>\n",
       "      <td>56.0</td>\n",
       "      <td>36.0</td>\n",
       "      <td>89.0</td>\n",
       "      <td>87.0</td>\n",
       "      <td>81.0</td>\n",
       "      <td>94.0</td>\n",
       "      <td>27.0</td>\n",
       "      <td>24.0</td>\n",
       "      <td>33.0</td>\n",
       "      <td>9.0</td>\n",
       "      <td>9.0</td>\n",
       "      <td>15.0</td>\n",
       "      <td>15.0</td>\n",
       "      <td>11.0</td>\n",
       "      <td>€228.1M</td>\n",
       "    </tr>\n",
       "    <tr>\n",
       "      <th>3</th>\n",
       "      <td>3</td>\n",
       "      <td>193080</td>\n",
       "      <td>De Gea</td>\n",
       "      <td>27</td>\n",
       "      <td>https://cdn.sofifa.org/players/4/19/193080.png</td>\n",
       "      <td>Spain</td>\n",
       "      <td>https://cdn.sofifa.org/flags/45.png</td>\n",
       "      <td>91</td>\n",
       "      <td>93</td>\n",
       "      <td>Manchester United</td>\n",
       "      <td>https://cdn.sofifa.org/teams/2/light/11.png</td>\n",
       "      <td>€72M</td>\n",
       "      <td>€260K</td>\n",
       "      <td>1471</td>\n",
       "      <td>Right</td>\n",
       "      <td>4.0</td>\n",
       "      <td>3.0</td>\n",
       "      <td>1.0</td>\n",
       "      <td>Medium/ Medium</td>\n",
       "      <td>Lean</td>\n",
       "      <td>Yes</td>\n",
       "      <td>GK</td>\n",
       "      <td>1.0</td>\n",
       "      <td>Jul 1, 2011</td>\n",
       "      <td>NaN</td>\n",
       "      <td>2020</td>\n",
       "      <td>6'4</td>\n",
       "      <td>168lbs</td>\n",
       "      <td>NaN</td>\n",
       "      <td>NaN</td>\n",
       "      <td>NaN</td>\n",
       "      <td>NaN</td>\n",
       "      <td>NaN</td>\n",
       "      <td>NaN</td>\n",
       "      <td>NaN</td>\n",
       "      <td>NaN</td>\n",
       "      <td>NaN</td>\n",
       "      <td>NaN</td>\n",
       "      <td>NaN</td>\n",
       "      <td>NaN</td>\n",
       "      <td>NaN</td>\n",
       "      <td>NaN</td>\n",
       "      <td>NaN</td>\n",
       "      <td>NaN</td>\n",
       "      <td>NaN</td>\n",
       "      <td>NaN</td>\n",
       "      <td>NaN</td>\n",
       "      <td>NaN</td>\n",
       "      <td>NaN</td>\n",
       "      <td>NaN</td>\n",
       "      <td>NaN</td>\n",
       "      <td>NaN</td>\n",
       "      <td>NaN</td>\n",
       "      <td>NaN</td>\n",
       "      <td>17.0</td>\n",
       "      <td>13.0</td>\n",
       "      <td>21.0</td>\n",
       "      <td>50.0</td>\n",
       "      <td>13.0</td>\n",
       "      <td>18.0</td>\n",
       "      <td>21.0</td>\n",
       "      <td>19.0</td>\n",
       "      <td>51.0</td>\n",
       "      <td>42.0</td>\n",
       "      <td>57.0</td>\n",
       "      <td>58.0</td>\n",
       "      <td>60.0</td>\n",
       "      <td>90.0</td>\n",
       "      <td>43.0</td>\n",
       "      <td>31.0</td>\n",
       "      <td>67.0</td>\n",
       "      <td>43.0</td>\n",
       "      <td>64.0</td>\n",
       "      <td>12.0</td>\n",
       "      <td>38.0</td>\n",
       "      <td>30.0</td>\n",
       "      <td>12.0</td>\n",
       "      <td>68.0</td>\n",
       "      <td>40.0</td>\n",
       "      <td>68.0</td>\n",
       "      <td>15.0</td>\n",
       "      <td>21.0</td>\n",
       "      <td>13.0</td>\n",
       "      <td>90.0</td>\n",
       "      <td>85.0</td>\n",
       "      <td>87.0</td>\n",
       "      <td>88.0</td>\n",
       "      <td>94.0</td>\n",
       "      <td>€138.6M</td>\n",
       "    </tr>\n",
       "    <tr>\n",
       "      <th>4</th>\n",
       "      <td>4</td>\n",
       "      <td>192985</td>\n",
       "      <td>K. De Bruyne</td>\n",
       "      <td>27</td>\n",
       "      <td>https://cdn.sofifa.org/players/4/19/192985.png</td>\n",
       "      <td>Belgium</td>\n",
       "      <td>https://cdn.sofifa.org/flags/7.png</td>\n",
       "      <td>91</td>\n",
       "      <td>92</td>\n",
       "      <td>Manchester City</td>\n",
       "      <td>https://cdn.sofifa.org/teams/2/light/10.png</td>\n",
       "      <td>€102M</td>\n",
       "      <td>€355K</td>\n",
       "      <td>2281</td>\n",
       "      <td>Right</td>\n",
       "      <td>4.0</td>\n",
       "      <td>5.0</td>\n",
       "      <td>4.0</td>\n",
       "      <td>High/ High</td>\n",
       "      <td>Normal</td>\n",
       "      <td>Yes</td>\n",
       "      <td>RCM</td>\n",
       "      <td>7.0</td>\n",
       "      <td>Aug 30, 2015</td>\n",
       "      <td>NaN</td>\n",
       "      <td>2023</td>\n",
       "      <td>5'11</td>\n",
       "      <td>154lbs</td>\n",
       "      <td>82+3</td>\n",
       "      <td>82+3</td>\n",
       "      <td>82+3</td>\n",
       "      <td>87+3</td>\n",
       "      <td>87+3</td>\n",
       "      <td>87+3</td>\n",
       "      <td>87+3</td>\n",
       "      <td>87+3</td>\n",
       "      <td>88+3</td>\n",
       "      <td>88+3</td>\n",
       "      <td>88+3</td>\n",
       "      <td>88+3</td>\n",
       "      <td>87+3</td>\n",
       "      <td>87+3</td>\n",
       "      <td>87+3</td>\n",
       "      <td>88+3</td>\n",
       "      <td>77+3</td>\n",
       "      <td>77+3</td>\n",
       "      <td>77+3</td>\n",
       "      <td>77+3</td>\n",
       "      <td>77+3</td>\n",
       "      <td>73+3</td>\n",
       "      <td>66+3</td>\n",
       "      <td>66+3</td>\n",
       "      <td>66+3</td>\n",
       "      <td>73+3</td>\n",
       "      <td>93.0</td>\n",
       "      <td>82.0</td>\n",
       "      <td>55.0</td>\n",
       "      <td>92.0</td>\n",
       "      <td>82.0</td>\n",
       "      <td>86.0</td>\n",
       "      <td>85.0</td>\n",
       "      <td>83.0</td>\n",
       "      <td>91.0</td>\n",
       "      <td>91.0</td>\n",
       "      <td>78.0</td>\n",
       "      <td>76.0</td>\n",
       "      <td>79.0</td>\n",
       "      <td>91.0</td>\n",
       "      <td>77.0</td>\n",
       "      <td>91.0</td>\n",
       "      <td>63.0</td>\n",
       "      <td>90.0</td>\n",
       "      <td>75.0</td>\n",
       "      <td>91.0</td>\n",
       "      <td>76.0</td>\n",
       "      <td>61.0</td>\n",
       "      <td>87.0</td>\n",
       "      <td>94.0</td>\n",
       "      <td>79.0</td>\n",
       "      <td>88.0</td>\n",
       "      <td>68.0</td>\n",
       "      <td>58.0</td>\n",
       "      <td>51.0</td>\n",
       "      <td>15.0</td>\n",
       "      <td>13.0</td>\n",
       "      <td>5.0</td>\n",
       "      <td>10.0</td>\n",
       "      <td>13.0</td>\n",
       "      <td>€196.4M</td>\n",
       "    </tr>\n",
       "  </tbody>\n",
       "</table>\n",
       "</div>"
      ],
      "text/plain": [
       "   Unnamed: 0      ID               Name  Age  \\\n",
       "0           0  158023           L. Messi   31   \n",
       "1           1   20801  Cristiano Ronaldo   33   \n",
       "2           2  190871          Neymar Jr   26   \n",
       "3           3  193080             De Gea   27   \n",
       "4           4  192985       K. De Bruyne   27   \n",
       "\n",
       "                                            Photo Nationality  \\\n",
       "0  https://cdn.sofifa.org/players/4/19/158023.png   Argentina   \n",
       "1   https://cdn.sofifa.org/players/4/19/20801.png    Portugal   \n",
       "2  https://cdn.sofifa.org/players/4/19/190871.png      Brazil   \n",
       "3  https://cdn.sofifa.org/players/4/19/193080.png       Spain   \n",
       "4  https://cdn.sofifa.org/players/4/19/192985.png     Belgium   \n",
       "\n",
       "                                  Flag  Overall  Potential  \\\n",
       "0  https://cdn.sofifa.org/flags/52.png       94         94   \n",
       "1  https://cdn.sofifa.org/flags/38.png       94         94   \n",
       "2  https://cdn.sofifa.org/flags/54.png       92         93   \n",
       "3  https://cdn.sofifa.org/flags/45.png       91         93   \n",
       "4   https://cdn.sofifa.org/flags/7.png       91         92   \n",
       "\n",
       "                  Club                                     Club Logo    Value  \\\n",
       "0         FC Barcelona  https://cdn.sofifa.org/teams/2/light/241.png  €110.5M   \n",
       "1             Juventus   https://cdn.sofifa.org/teams/2/light/45.png     €77M   \n",
       "2  Paris Saint-Germain   https://cdn.sofifa.org/teams/2/light/73.png  €118.5M   \n",
       "3    Manchester United   https://cdn.sofifa.org/teams/2/light/11.png     €72M   \n",
       "4      Manchester City   https://cdn.sofifa.org/teams/2/light/10.png    €102M   \n",
       "\n",
       "    Wage  Special Preferred Foot  International Reputation  Weak Foot  \\\n",
       "0  €565K     2202           Left                       5.0        4.0   \n",
       "1  €405K     2228          Right                       5.0        4.0   \n",
       "2  €290K     2143          Right                       5.0        5.0   \n",
       "3  €260K     1471          Right                       4.0        3.0   \n",
       "4  €355K     2281          Right                       4.0        5.0   \n",
       "\n",
       "   Skill Moves       Work Rate   Body Type Real Face Position  Jersey Number  \\\n",
       "0          4.0  Medium/ Medium       Messi       Yes       RF           10.0   \n",
       "1          5.0       High/ Low  C. Ronaldo       Yes       ST            7.0   \n",
       "2          5.0    High/ Medium      Neymar       Yes       LW           10.0   \n",
       "3          1.0  Medium/ Medium        Lean       Yes       GK            1.0   \n",
       "4          4.0      High/ High      Normal       Yes      RCM            7.0   \n",
       "\n",
       "         Joined Loaned From Contract Valid Until Height  Weight    LS    ST  \\\n",
       "0   Jul 1, 2004         NaN                 2021    5'7  159lbs  88+2  88+2   \n",
       "1  Jul 10, 2018         NaN                 2022    6'2  183lbs  91+3  91+3   \n",
       "2   Aug 3, 2017         NaN                 2022    5'9  150lbs  84+3  84+3   \n",
       "3   Jul 1, 2011         NaN                 2020    6'4  168lbs   NaN   NaN   \n",
       "4  Aug 30, 2015         NaN                 2023   5'11  154lbs  82+3  82+3   \n",
       "\n",
       "     RS    LW    LF    CF    RF    RW   LAM   CAM   RAM    LM   LCM    CM  \\\n",
       "0  88+2  92+2  93+2  93+2  93+2  92+2  93+2  93+2  93+2  91+2  84+2  84+2   \n",
       "1  91+3  89+3  90+3  90+3  90+3  89+3  88+3  88+3  88+3  88+3  81+3  81+3   \n",
       "2  84+3  89+3  89+3  89+3  89+3  89+3  89+3  89+3  89+3  88+3  81+3  81+3   \n",
       "3   NaN   NaN   NaN   NaN   NaN   NaN   NaN   NaN   NaN   NaN   NaN   NaN   \n",
       "4  82+3  87+3  87+3  87+3  87+3  87+3  88+3  88+3  88+3  88+3  87+3  87+3   \n",
       "\n",
       "    RCM    RM   LWB   LDM   CDM   RDM   RWB    LB   LCB    CB   RCB    RB  \\\n",
       "0  84+2  91+2  64+2  61+2  61+2  61+2  64+2  59+2  47+2  47+2  47+2  59+2   \n",
       "1  81+3  88+3  65+3  61+3  61+3  61+3  65+3  61+3  53+3  53+3  53+3  61+3   \n",
       "2  81+3  88+3  65+3  60+3  60+3  60+3  65+3  60+3  47+3  47+3  47+3  60+3   \n",
       "3   NaN   NaN   NaN   NaN   NaN   NaN   NaN   NaN   NaN   NaN   NaN   NaN   \n",
       "4  87+3  88+3  77+3  77+3  77+3  77+3  77+3  73+3  66+3  66+3  66+3  73+3   \n",
       "\n",
       "   Crossing  Finishing  HeadingAccuracy  ShortPassing  Volleys  Dribbling  \\\n",
       "0      84.0       95.0             70.0          90.0     86.0       97.0   \n",
       "1      84.0       94.0             89.0          81.0     87.0       88.0   \n",
       "2      79.0       87.0             62.0          84.0     84.0       96.0   \n",
       "3      17.0       13.0             21.0          50.0     13.0       18.0   \n",
       "4      93.0       82.0             55.0          92.0     82.0       86.0   \n",
       "\n",
       "   Curve  FKAccuracy  LongPassing  BallControl  Acceleration  SprintSpeed  \\\n",
       "0   93.0        94.0         87.0         96.0          91.0         86.0   \n",
       "1   81.0        76.0         77.0         94.0          89.0         91.0   \n",
       "2   88.0        87.0         78.0         95.0          94.0         90.0   \n",
       "3   21.0        19.0         51.0         42.0          57.0         58.0   \n",
       "4   85.0        83.0         91.0         91.0          78.0         76.0   \n",
       "\n",
       "   Agility  Reactions  Balance  ShotPower  Jumping  Stamina  Strength  \\\n",
       "0     91.0       95.0     95.0       85.0     68.0     72.0      59.0   \n",
       "1     87.0       96.0     70.0       95.0     95.0     88.0      79.0   \n",
       "2     96.0       94.0     84.0       80.0     61.0     81.0      49.0   \n",
       "3     60.0       90.0     43.0       31.0     67.0     43.0      64.0   \n",
       "4     79.0       91.0     77.0       91.0     63.0     90.0      75.0   \n",
       "\n",
       "   LongShots  Aggression  Interceptions  Positioning  Vision  Penalties  \\\n",
       "0       94.0        48.0           22.0         94.0    94.0       75.0   \n",
       "1       93.0        63.0           29.0         95.0    82.0       85.0   \n",
       "2       82.0        56.0           36.0         89.0    87.0       81.0   \n",
       "3       12.0        38.0           30.0         12.0    68.0       40.0   \n",
       "4       91.0        76.0           61.0         87.0    94.0       79.0   \n",
       "\n",
       "   Composure  Marking  StandingTackle  SlidingTackle  GKDiving  GKHandling  \\\n",
       "0       96.0     33.0            28.0           26.0       6.0        11.0   \n",
       "1       95.0     28.0            31.0           23.0       7.0        11.0   \n",
       "2       94.0     27.0            24.0           33.0       9.0         9.0   \n",
       "3       68.0     15.0            21.0           13.0      90.0        85.0   \n",
       "4       88.0     68.0            58.0           51.0      15.0        13.0   \n",
       "\n",
       "   GKKicking  GKPositioning  GKReflexes Release Clause  \n",
       "0       15.0           14.0         8.0        €226.5M  \n",
       "1       15.0           14.0        11.0        €127.1M  \n",
       "2       15.0           15.0        11.0        €228.1M  \n",
       "3       87.0           88.0        94.0        €138.6M  \n",
       "4        5.0           10.0        13.0        €196.4M  "
      ]
     },
     "execution_count": 2,
     "metadata": {},
     "output_type": "execute_result"
    }
   ],
   "source": [
    "df=pd.read_csv('Footballer.csv')\n",
    "df.head()"
   ]
  },
  {
   "cell_type": "code",
   "execution_count": 3,
   "id": "fb67ba09",
   "metadata": {},
   "outputs": [
    {
     "data": {
      "text/plain": [
       "(18207, 89)"
      ]
     },
     "execution_count": 3,
     "metadata": {},
     "output_type": "execute_result"
    }
   ],
   "source": [
    "df.shape"
   ]
  },
  {
   "cell_type": "code",
   "execution_count": 4,
   "id": "99afd1dd",
   "metadata": {
    "scrolled": true
   },
   "outputs": [
    {
     "data": {
      "text/plain": [
       "Unnamed: 0                    int64\n",
       "ID                            int64\n",
       "Name                         object\n",
       "Age                           int64\n",
       "Photo                        object\n",
       "Nationality                  object\n",
       "Flag                         object\n",
       "Overall                       int64\n",
       "Potential                     int64\n",
       "Club                         object\n",
       "Club Logo                    object\n",
       "Value                        object\n",
       "Wage                         object\n",
       "Special                       int64\n",
       "Preferred Foot               object\n",
       "International Reputation    float64\n",
       "Weak Foot                   float64\n",
       "Skill Moves                 float64\n",
       "Work Rate                    object\n",
       "Body Type                    object\n",
       "Real Face                    object\n",
       "Position                     object\n",
       "Jersey Number               float64\n",
       "Joined                       object\n",
       "Loaned From                  object\n",
       "Contract Valid Until         object\n",
       "Height                       object\n",
       "Weight                       object\n",
       "LS                           object\n",
       "ST                           object\n",
       "RS                           object\n",
       "LW                           object\n",
       "LF                           object\n",
       "CF                           object\n",
       "RF                           object\n",
       "RW                           object\n",
       "LAM                          object\n",
       "CAM                          object\n",
       "RAM                          object\n",
       "LM                           object\n",
       "LCM                          object\n",
       "CM                           object\n",
       "RCM                          object\n",
       "RM                           object\n",
       "LWB                          object\n",
       "LDM                          object\n",
       "CDM                          object\n",
       "RDM                          object\n",
       "RWB                          object\n",
       "LB                           object\n",
       "LCB                          object\n",
       "CB                           object\n",
       "RCB                          object\n",
       "RB                           object\n",
       "Crossing                    float64\n",
       "Finishing                   float64\n",
       "HeadingAccuracy             float64\n",
       "ShortPassing                float64\n",
       "Volleys                     float64\n",
       "Dribbling                   float64\n",
       "Curve                       float64\n",
       "FKAccuracy                  float64\n",
       "LongPassing                 float64\n",
       "BallControl                 float64\n",
       "Acceleration                float64\n",
       "SprintSpeed                 float64\n",
       "Agility                     float64\n",
       "Reactions                   float64\n",
       "Balance                     float64\n",
       "ShotPower                   float64\n",
       "Jumping                     float64\n",
       "Stamina                     float64\n",
       "Strength                    float64\n",
       "LongShots                   float64\n",
       "Aggression                  float64\n",
       "Interceptions               float64\n",
       "Positioning                 float64\n",
       "Vision                      float64\n",
       "Penalties                   float64\n",
       "Composure                   float64\n",
       "Marking                     float64\n",
       "StandingTackle              float64\n",
       "SlidingTackle               float64\n",
       "GKDiving                    float64\n",
       "GKHandling                  float64\n",
       "GKKicking                   float64\n",
       "GKPositioning               float64\n",
       "GKReflexes                  float64\n",
       "Release Clause               object\n",
       "dtype: object"
      ]
     },
     "execution_count": 4,
     "metadata": {},
     "output_type": "execute_result"
    }
   ],
   "source": [
    "df.dtypes"
   ]
  },
  {
   "cell_type": "code",
   "execution_count": 5,
   "id": "065078f5",
   "metadata": {
    "scrolled": true
   },
   "outputs": [
    {
     "data": {
      "text/plain": [
       "Unnamed: 0                      0\n",
       "ID                              0\n",
       "Name                            0\n",
       "Age                             0\n",
       "Photo                           0\n",
       "Nationality                     0\n",
       "Flag                            0\n",
       "Overall                         0\n",
       "Potential                       0\n",
       "Club                          241\n",
       "Club Logo                       0\n",
       "Value                           0\n",
       "Wage                            0\n",
       "Special                         0\n",
       "Preferred Foot                 48\n",
       "International Reputation       48\n",
       "Weak Foot                      48\n",
       "Skill Moves                    48\n",
       "Work Rate                      48\n",
       "Body Type                      48\n",
       "Real Face                      48\n",
       "Position                       60\n",
       "Jersey Number                  60\n",
       "Joined                       1553\n",
       "Loaned From                 16943\n",
       "Contract Valid Until          289\n",
       "Height                         48\n",
       "Weight                         48\n",
       "LS                           2085\n",
       "ST                           2085\n",
       "RS                           2085\n",
       "LW                           2085\n",
       "LF                           2085\n",
       "CF                           2085\n",
       "RF                           2085\n",
       "RW                           2085\n",
       "LAM                          2085\n",
       "CAM                          2085\n",
       "RAM                          2085\n",
       "LM                           2085\n",
       "LCM                          2085\n",
       "CM                           2085\n",
       "RCM                          2085\n",
       "RM                           2085\n",
       "LWB                          2085\n",
       "LDM                          2085\n",
       "CDM                          2085\n",
       "RDM                          2085\n",
       "RWB                          2085\n",
       "LB                           2085\n",
       "LCB                          2085\n",
       "CB                           2085\n",
       "RCB                          2085\n",
       "RB                           2085\n",
       "Crossing                       48\n",
       "Finishing                      48\n",
       "HeadingAccuracy                48\n",
       "ShortPassing                   48\n",
       "Volleys                        48\n",
       "Dribbling                      48\n",
       "Curve                          48\n",
       "FKAccuracy                     48\n",
       "LongPassing                    48\n",
       "BallControl                    48\n",
       "Acceleration                   48\n",
       "SprintSpeed                    48\n",
       "Agility                        48\n",
       "Reactions                      48\n",
       "Balance                        48\n",
       "ShotPower                      48\n",
       "Jumping                        48\n",
       "Stamina                        48\n",
       "Strength                       48\n",
       "LongShots                      48\n",
       "Aggression                     48\n",
       "Interceptions                  48\n",
       "Positioning                    48\n",
       "Vision                         48\n",
       "Penalties                      48\n",
       "Composure                      48\n",
       "Marking                        48\n",
       "StandingTackle                 48\n",
       "SlidingTackle                  48\n",
       "GKDiving                       48\n",
       "GKHandling                     48\n",
       "GKKicking                      48\n",
       "GKPositioning                  48\n",
       "GKReflexes                     48\n",
       "Release Clause               1564\n",
       "dtype: int64"
      ]
     },
     "execution_count": 5,
     "metadata": {},
     "output_type": "execute_result"
    }
   ],
   "source": [
    "df.isnull().sum()"
   ]
  },
  {
   "cell_type": "code",
   "execution_count": 6,
   "id": "325a6bd7",
   "metadata": {
    "scrolled": true
   },
   "outputs": [
    {
     "name": "stdout",
     "output_type": "stream",
     "text": [
      "<class 'pandas.core.frame.DataFrame'>\n",
      "RangeIndex: 18207 entries, 0 to 18206\n",
      "Data columns (total 89 columns):\n",
      " #   Column                    Non-Null Count  Dtype  \n",
      "---  ------                    --------------  -----  \n",
      " 0   Unnamed: 0                18207 non-null  int64  \n",
      " 1   ID                        18207 non-null  int64  \n",
      " 2   Name                      18207 non-null  object \n",
      " 3   Age                       18207 non-null  int64  \n",
      " 4   Photo                     18207 non-null  object \n",
      " 5   Nationality               18207 non-null  object \n",
      " 6   Flag                      18207 non-null  object \n",
      " 7   Overall                   18207 non-null  int64  \n",
      " 8   Potential                 18207 non-null  int64  \n",
      " 9   Club                      17966 non-null  object \n",
      " 10  Club Logo                 18207 non-null  object \n",
      " 11  Value                     18207 non-null  object \n",
      " 12  Wage                      18207 non-null  object \n",
      " 13  Special                   18207 non-null  int64  \n",
      " 14  Preferred Foot            18159 non-null  object \n",
      " 15  International Reputation  18159 non-null  float64\n",
      " 16  Weak Foot                 18159 non-null  float64\n",
      " 17  Skill Moves               18159 non-null  float64\n",
      " 18  Work Rate                 18159 non-null  object \n",
      " 19  Body Type                 18159 non-null  object \n",
      " 20  Real Face                 18159 non-null  object \n",
      " 21  Position                  18147 non-null  object \n",
      " 22  Jersey Number             18147 non-null  float64\n",
      " 23  Joined                    16654 non-null  object \n",
      " 24  Loaned From               1264 non-null   object \n",
      " 25  Contract Valid Until      17918 non-null  object \n",
      " 26  Height                    18159 non-null  object \n",
      " 27  Weight                    18159 non-null  object \n",
      " 28  LS                        16122 non-null  object \n",
      " 29  ST                        16122 non-null  object \n",
      " 30  RS                        16122 non-null  object \n",
      " 31  LW                        16122 non-null  object \n",
      " 32  LF                        16122 non-null  object \n",
      " 33  CF                        16122 non-null  object \n",
      " 34  RF                        16122 non-null  object \n",
      " 35  RW                        16122 non-null  object \n",
      " 36  LAM                       16122 non-null  object \n",
      " 37  CAM                       16122 non-null  object \n",
      " 38  RAM                       16122 non-null  object \n",
      " 39  LM                        16122 non-null  object \n",
      " 40  LCM                       16122 non-null  object \n",
      " 41  CM                        16122 non-null  object \n",
      " 42  RCM                       16122 non-null  object \n",
      " 43  RM                        16122 non-null  object \n",
      " 44  LWB                       16122 non-null  object \n",
      " 45  LDM                       16122 non-null  object \n",
      " 46  CDM                       16122 non-null  object \n",
      " 47  RDM                       16122 non-null  object \n",
      " 48  RWB                       16122 non-null  object \n",
      " 49  LB                        16122 non-null  object \n",
      " 50  LCB                       16122 non-null  object \n",
      " 51  CB                        16122 non-null  object \n",
      " 52  RCB                       16122 non-null  object \n",
      " 53  RB                        16122 non-null  object \n",
      " 54  Crossing                  18159 non-null  float64\n",
      " 55  Finishing                 18159 non-null  float64\n",
      " 56  HeadingAccuracy           18159 non-null  float64\n",
      " 57  ShortPassing              18159 non-null  float64\n",
      " 58  Volleys                   18159 non-null  float64\n",
      " 59  Dribbling                 18159 non-null  float64\n",
      " 60  Curve                     18159 non-null  float64\n",
      " 61  FKAccuracy                18159 non-null  float64\n",
      " 62  LongPassing               18159 non-null  float64\n",
      " 63  BallControl               18159 non-null  float64\n",
      " 64  Acceleration              18159 non-null  float64\n",
      " 65  SprintSpeed               18159 non-null  float64\n",
      " 66  Agility                   18159 non-null  float64\n",
      " 67  Reactions                 18159 non-null  float64\n",
      " 68  Balance                   18159 non-null  float64\n",
      " 69  ShotPower                 18159 non-null  float64\n",
      " 70  Jumping                   18159 non-null  float64\n",
      " 71  Stamina                   18159 non-null  float64\n",
      " 72  Strength                  18159 non-null  float64\n",
      " 73  LongShots                 18159 non-null  float64\n",
      " 74  Aggression                18159 non-null  float64\n",
      " 75  Interceptions             18159 non-null  float64\n",
      " 76  Positioning               18159 non-null  float64\n",
      " 77  Vision                    18159 non-null  float64\n",
      " 78  Penalties                 18159 non-null  float64\n",
      " 79  Composure                 18159 non-null  float64\n",
      " 80  Marking                   18159 non-null  float64\n",
      " 81  StandingTackle            18159 non-null  float64\n",
      " 82  SlidingTackle             18159 non-null  float64\n",
      " 83  GKDiving                  18159 non-null  float64\n",
      " 84  GKHandling                18159 non-null  float64\n",
      " 85  GKKicking                 18159 non-null  float64\n",
      " 86  GKPositioning             18159 non-null  float64\n",
      " 87  GKReflexes                18159 non-null  float64\n",
      " 88  Release Clause            16643 non-null  object \n",
      "dtypes: float64(38), int64(6), object(45)\n",
      "memory usage: 12.4+ MB\n"
     ]
    }
   ],
   "source": [
    "df.info()"
   ]
  },
  {
   "cell_type": "code",
   "execution_count": 7,
   "id": "40c9e88e",
   "metadata": {},
   "outputs": [
    {
     "data": {
      "text/plain": [
       "Atalanta        20\n",
       "Sassuolo        18\n",
       "SL Benfica      17\n",
       "Juventus        17\n",
       "Sporting CP     14\n",
       "Real Madrid     12\n",
       "Napoli          12\n",
       "Udinese         12\n",
       "Leeds United    12\n",
       "Liverpool       12\n",
       "Name: Loaned From, dtype: int64"
      ]
     },
     "execution_count": 7,
     "metadata": {},
     "output_type": "execute_result"
    }
   ],
   "source": [
    "df['Loaned From'].value_counts()[:10]"
   ]
  },
  {
   "cell_type": "markdown",
   "id": "59a57451",
   "metadata": {},
   "source": [
    "# Dropping insignificant or cols with major missing values"
   ]
  },
  {
   "cell_type": "code",
   "execution_count": 8,
   "id": "6b115e63",
   "metadata": {},
   "outputs": [],
   "source": [
    "# removing unnecessary cols\n",
    "\n",
    "df.drop(['ID','Photo','Flag','Club Logo','Real Face','Jersey Number'], axis=1, inplace=True)"
   ]
  },
  {
   "cell_type": "code",
   "execution_count": 9,
   "id": "733e52e3",
   "metadata": {},
   "outputs": [
    {
     "data": {
      "text/plain": [
       "(18207, 83)"
      ]
     },
     "execution_count": 9,
     "metadata": {},
     "output_type": "execute_result"
    }
   ],
   "source": [
    "df.shape"
   ]
  },
  {
   "cell_type": "markdown",
   "id": "e3e8e247",
   "metadata": {},
   "source": [
    "#  checking and cleaning required cols"
   ]
  },
  {
   "cell_type": "code",
   "execution_count": 10,
   "id": "ce1c09e1",
   "metadata": {},
   "outputs": [],
   "source": [
    "# checking and cleaning preferred foot"
   ]
  },
  {
   "cell_type": "code",
   "execution_count": 11,
   "id": "679c400e",
   "metadata": {},
   "outputs": [
    {
     "data": {
      "text/plain": [
       "48"
      ]
     },
     "execution_count": 11,
     "metadata": {},
     "output_type": "execute_result"
    }
   ],
   "source": [
    "df['Preferred Foot'].isnull().sum()"
   ]
  },
  {
   "cell_type": "code",
   "execution_count": 12,
   "id": "07a2bb26",
   "metadata": {},
   "outputs": [
    {
     "data": {
      "text/plain": [
       "dtype('O')"
      ]
     },
     "execution_count": 12,
     "metadata": {},
     "output_type": "execute_result"
    }
   ],
   "source": [
    "df['Preferred Foot'].dtype"
   ]
  },
  {
   "cell_type": "code",
   "execution_count": 13,
   "id": "e8bc601d",
   "metadata": {},
   "outputs": [
    {
     "data": {
      "text/plain": [
       "'Right'"
      ]
     },
     "execution_count": 13,
     "metadata": {},
     "output_type": "execute_result"
    }
   ],
   "source": [
    "# object type. Thus, filling missing values using mode\n",
    "\n",
    "mode1=df['Preferred Foot'].mode().values[0]\n",
    "mode1"
   ]
  },
  {
   "cell_type": "code",
   "execution_count": 14,
   "id": "94f7f595",
   "metadata": {},
   "outputs": [],
   "source": [
    "# fill missing values NA or NAN \n",
    "\n",
    "df['Preferred Foot'].fillna(mode1,inplace=True)"
   ]
  },
  {
   "cell_type": "code",
   "execution_count": 15,
   "id": "a555ebe9",
   "metadata": {},
   "outputs": [
    {
     "data": {
      "text/plain": [
       "0"
      ]
     },
     "execution_count": 15,
     "metadata": {},
     "output_type": "execute_result"
    }
   ],
   "source": [
    "df['Preferred Foot'].isnull().sum()"
   ]
  },
  {
   "cell_type": "code",
   "execution_count": 16,
   "id": "3c09b0db",
   "metadata": {},
   "outputs": [],
   "source": [
    "# checking and cleaning preferred foot"
   ]
  },
  {
   "cell_type": "code",
   "execution_count": 17,
   "id": "ea031979",
   "metadata": {},
   "outputs": [
    {
     "data": {
      "text/plain": [
       "0"
      ]
     },
     "execution_count": 17,
     "metadata": {},
     "output_type": "execute_result"
    }
   ],
   "source": [
    "df['Age'].isnull().sum()"
   ]
  },
  {
   "cell_type": "code",
   "execution_count": 18,
   "id": "59834ce9",
   "metadata": {},
   "outputs": [],
   "source": [
    "# checking and cleaning International Reputation"
   ]
  },
  {
   "cell_type": "code",
   "execution_count": 19,
   "id": "5137d3fd",
   "metadata": {},
   "outputs": [
    {
     "data": {
      "text/plain": [
       "48"
      ]
     },
     "execution_count": 19,
     "metadata": {},
     "output_type": "execute_result"
    }
   ],
   "source": [
    "df['International Reputation'].isnull().sum()"
   ]
  },
  {
   "cell_type": "code",
   "execution_count": 20,
   "id": "2fab14ba",
   "metadata": {},
   "outputs": [
    {
     "data": {
      "text/plain": [
       "dtype('float64')"
      ]
     },
     "execution_count": 20,
     "metadata": {},
     "output_type": "execute_result"
    }
   ],
   "source": [
    "df['International Reputation'].dtype"
   ]
  },
  {
   "cell_type": "code",
   "execution_count": 21,
   "id": "78e1b332",
   "metadata": {},
   "outputs": [
    {
     "data": {
      "image/png": "[encoded data removed]",
      "text/plain": [
       "<Figure size 640x480 with 1 Axes>"
      ]
     },
     "metadata": {},
     "output_type": "display_data"
    }
   ],
   "source": [
    "# check skewnss                                                                                                                                                                                                                        \n",
    "\n",
    "sns.distplot(df['International Reputation'])\n",
    "plt.show()"
   ]
  },
  {
   "cell_type": "code",
   "execution_count": 22,
   "id": "1f6734f5",
   "metadata": {},
   "outputs": [
    {
     "data": {
      "text/plain": [
       "4.060419769382065"
      ]
     },
     "execution_count": 22,
     "metadata": {},
     "output_type": "execute_result"
    }
   ],
   "source": [
    "# skewness value\n",
    "\n",
    "df['International Reputation'].skew()"
   ]
  },
  {
   "cell_type": "code",
   "execution_count": 23,
   "id": "83d819c7",
   "metadata": {},
   "outputs": [
    {
     "data": {
      "text/plain": [
       "1.0"
      ]
     },
     "execution_count": 23,
     "metadata": {},
     "output_type": "execute_result"
    }
   ],
   "source": [
    "# preferring median . since skewness is present\n",
    "\n",
    "median1=df['International Reputation'].median()\n",
    "median1"
   ]
  },
  {
   "cell_type": "code",
   "execution_count": 24,
   "id": "2063aecf",
   "metadata": {},
   "outputs": [],
   "source": [
    "# fill missing values NA or NAN \n",
    "\n",
    "df['International Reputation'].fillna(median1,inplace=True)"
   ]
  },
  {
   "cell_type": "code",
   "execution_count": 25,
   "id": "71669cde",
   "metadata": {},
   "outputs": [
    {
     "data": {
      "text/plain": [
       "0"
      ]
     },
     "execution_count": 25,
     "metadata": {},
     "output_type": "execute_result"
    }
   ],
   "source": [
    "df['Age'].isnull().sum()"
   ]
  },
  {
   "cell_type": "code",
   "execution_count": 26,
   "id": "7629eb3c",
   "metadata": {},
   "outputs": [],
   "source": [
    "# checking and cleaning Work Rate"
   ]
  },
  {
   "cell_type": "code",
   "execution_count": 27,
   "id": "61dbe4e1",
   "metadata": {},
   "outputs": [
    {
     "data": {
      "text/plain": [
       "48"
      ]
     },
     "execution_count": 27,
     "metadata": {},
     "output_type": "execute_result"
    }
   ],
   "source": [
    "df['Work Rate'].isnull().sum()"
   ]
  },
  {
   "cell_type": "code",
   "execution_count": 28,
   "id": "cd4e6883",
   "metadata": {},
   "outputs": [
    {
     "data": {
      "text/plain": [
       "dtype('O')"
      ]
     },
     "execution_count": 28,
     "metadata": {},
     "output_type": "execute_result"
    }
   ],
   "source": [
    "df['Work Rate'].dtype"
   ]
  },
  {
   "cell_type": "code",
   "execution_count": 29,
   "id": "fb8c72b4",
   "metadata": {},
   "outputs": [
    {
     "data": {
      "text/plain": [
       "'Medium/ Medium'"
      ]
     },
     "execution_count": 29,
     "metadata": {},
     "output_type": "execute_result"
    }
   ],
   "source": [
    "mode2=df['Work Rate'].mode().values[0]\n",
    "mode2"
   ]
  },
  {
   "cell_type": "code",
   "execution_count": 30,
   "id": "9eff174f",
   "metadata": {},
   "outputs": [],
   "source": [
    "df['Work Rate'].fillna(mode2,inplace=True)"
   ]
  },
  {
   "cell_type": "code",
   "execution_count": 31,
   "id": "067c500a",
   "metadata": {},
   "outputs": [
    {
     "data": {
      "text/plain": [
       "0"
      ]
     },
     "execution_count": 31,
     "metadata": {},
     "output_type": "execute_result"
    }
   ],
   "source": [
    "df['Work Rate'].isnull().sum()"
   ]
  },
  {
   "cell_type": "code",
   "execution_count": 32,
   "id": "1993dfe3",
   "metadata": {},
   "outputs": [],
   "source": [
    "# checking and cleaning Nationality"
   ]
  },
  {
   "cell_type": "code",
   "execution_count": 33,
   "id": "ef3612e9",
   "metadata": {},
   "outputs": [
    {
     "data": {
      "text/plain": [
       "0"
      ]
     },
     "execution_count": 33,
     "metadata": {},
     "output_type": "execute_result"
    }
   ],
   "source": [
    "df['Nationality'].isnull().sum()"
   ]
  },
  {
   "cell_type": "code",
   "execution_count": 34,
   "id": "75ade5b1",
   "metadata": {},
   "outputs": [],
   "source": [
    "# checking and cleaning Positioning"
   ]
  },
  {
   "cell_type": "code",
   "execution_count": 35,
   "id": "76260f06",
   "metadata": {},
   "outputs": [
    {
     "data": {
      "text/plain": [
       "48"
      ]
     },
     "execution_count": 35,
     "metadata": {},
     "output_type": "execute_result"
    }
   ],
   "source": [
    "df['Positioning'].isnull().sum()"
   ]
  },
  {
   "cell_type": "code",
   "execution_count": 36,
   "id": "69d63e4c",
   "metadata": {},
   "outputs": [
    {
     "data": {
      "text/plain": [
       "dtype('float64')"
      ]
     },
     "execution_count": 36,
     "metadata": {},
     "output_type": "execute_result"
    }
   ],
   "source": [
    "df['Positioning'].dtype"
   ]
  },
  {
   "cell_type": "code",
   "execution_count": 37,
   "id": "8bc10a0a",
   "metadata": {},
   "outputs": [
    {
     "data": {
      "image/png": "[encoded data removed]",
      "text/plain": [
       "<Figure size 640x480 with 1 Axes>"
      ]
     },
     "metadata": {},
     "output_type": "display_data"
    }
   ],
   "source": [
    "sns.distplot(df['Positioning'])\n",
    "plt.show()"
   ]
  },
  {
   "cell_type": "code",
   "execution_count": 38,
   "id": "f1c1233e",
   "metadata": {},
   "outputs": [
    {
     "data": {
      "text/plain": [
       "-0.7202194342184074"
      ]
     },
     "execution_count": 38,
     "metadata": {},
     "output_type": "execute_result"
    }
   ],
   "source": [
    "df['Positioning'].skew()"
   ]
  },
  {
   "cell_type": "code",
   "execution_count": 39,
   "id": "13859c0a",
   "metadata": {},
   "outputs": [],
   "source": [
    "# replcaing with mean since less skewness or median can be preffered"
   ]
  },
  {
   "cell_type": "code",
   "execution_count": 40,
   "id": "c120ae8f",
   "metadata": {},
   "outputs": [
    {
     "data": {
      "text/plain": [
       "49.95847788975164"
      ]
     },
     "execution_count": 40,
     "metadata": {},
     "output_type": "execute_result"
    }
   ],
   "source": [
    "mean1=df['Positioning'].mean()\n",
    "mean1"
   ]
  },
  {
   "cell_type": "code",
   "execution_count": 41,
   "id": "73b2e731",
   "metadata": {},
   "outputs": [],
   "source": [
    "df['Positioning'].fillna(mean1,inplace=True)"
   ]
  },
  {
   "cell_type": "code",
   "execution_count": 42,
   "id": "1c15dce6",
   "metadata": {},
   "outputs": [
    {
     "data": {
      "text/plain": [
       "0"
      ]
     },
     "execution_count": 42,
     "metadata": {},
     "output_type": "execute_result"
    }
   ],
   "source": [
    "df['Positioning'].isnull().sum()"
   ]
  },
  {
   "cell_type": "code",
   "execution_count": 43,
   "id": "4e79364d",
   "metadata": {},
   "outputs": [],
   "source": [
    "# wage check and clean"
   ]
  },
  {
   "cell_type": "code",
   "execution_count": 44,
   "id": "87ae8fef",
   "metadata": {},
   "outputs": [
    {
     "data": {
      "text/plain": [
       "0"
      ]
     },
     "execution_count": 44,
     "metadata": {},
     "output_type": "execute_result"
    }
   ],
   "source": [
    "df['Wage'].isnull().sum()"
   ]
  },
  {
   "cell_type": "code",
   "execution_count": 45,
   "id": "e7dbb9b7",
   "metadata": {},
   "outputs": [],
   "source": [
    "# value check and clean"
   ]
  },
  {
   "cell_type": "code",
   "execution_count": 46,
   "id": "46804a32",
   "metadata": {},
   "outputs": [
    {
     "data": {
      "text/plain": [
       "0"
      ]
     },
     "execution_count": 46,
     "metadata": {},
     "output_type": "execute_result"
    }
   ],
   "source": [
    "df['Value'].isnull().sum()"
   ]
  },
  {
   "cell_type": "code",
   "execution_count": 47,
   "id": "3b3d2f5e",
   "metadata": {},
   "outputs": [],
   "source": [
    "# release clause check and clean"
   ]
  },
  {
   "cell_type": "code",
   "execution_count": 48,
   "id": "5d626604",
   "metadata": {},
   "outputs": [
    {
     "data": {
      "text/plain": [
       "1564"
      ]
     },
     "execution_count": 48,
     "metadata": {},
     "output_type": "execute_result"
    }
   ],
   "source": [
    "df['Release Clause'].isnull().sum()"
   ]
  },
  {
   "cell_type": "code",
   "execution_count": 49,
   "id": "46482ded",
   "metadata": {},
   "outputs": [
    {
     "data": {
      "text/plain": [
       "dtype('O')"
      ]
     },
     "execution_count": 49,
     "metadata": {},
     "output_type": "execute_result"
    }
   ],
   "source": [
    "df['Release Clause'].dtype"
   ]
  },
  {
   "cell_type": "code",
   "execution_count": 50,
   "id": "9e7758e5",
   "metadata": {},
   "outputs": [
    {
     "data": {
      "text/plain": [
       "'€1.1M'"
      ]
     },
     "execution_count": 50,
     "metadata": {},
     "output_type": "execute_result"
    }
   ],
   "source": [
    "mode3= df['Release Clause'].mode().values[0]\n",
    "mode3"
   ]
  },
  {
   "cell_type": "code",
   "execution_count": 51,
   "id": "11399da2",
   "metadata": {},
   "outputs": [],
   "source": [
    "df['Release Clause'].fillna(mode3,inplace=True)"
   ]
  },
  {
   "cell_type": "code",
   "execution_count": 52,
   "id": "eca61b97",
   "metadata": {},
   "outputs": [
    {
     "data": {
      "text/plain": [
       "0"
      ]
     },
     "execution_count": 52,
     "metadata": {},
     "output_type": "execute_result"
    }
   ],
   "source": [
    "df['Release Clause'].isnull().sum()"
   ]
  },
  {
   "cell_type": "code",
   "execution_count": 53,
   "id": "fc52bd2b",
   "metadata": {},
   "outputs": [],
   "source": [
    "## checking and converting wage, value etc. to 1 type or currency"
   ]
  },
  {
   "cell_type": "code",
   "execution_count": 54,
   "id": "b3715357",
   "metadata": {},
   "outputs": [
    {
     "data": {
      "text/plain": [
       "dtype('O')"
      ]
     },
     "execution_count": 54,
     "metadata": {},
     "output_type": "execute_result"
    }
   ],
   "source": [
    "df['Value'].dtype"
   ]
  },
  {
   "cell_type": "code",
   "execution_count": 55,
   "id": "07168502",
   "metadata": {},
   "outputs": [
    {
     "data": {
      "text/plain": [
       "array(['€110.5M', '€77M', '€118.5M', '€72M', '€102M', '€93M', '€67M',\n",
       "       '€80M', '€51M', '€68M', '€76.5M', '€44M', '€60M', '€63M', '€89M',\n",
       "       '€83.5M', '€78M', '€58M', '€53.5M', '€51.5M', '€38M', '€64.5M',\n",
       "       '€27M', '€81M', '€69.5M', '€59.5M', '€62M', '€73.5M', '€59M',\n",
       "       '€46M', '€43M', '€36M', '€57M', '€24M', '€30M', '€4M', '€64M',\n",
       "       '€30.5M', '€62.5M', '€52M', '€45M', '€34M', '€46.5M', '€61M',\n",
       "       '€41.5M', '€44.5M', '€56.5M', '€53M', '€50M', '€55M', '€36.5M',\n",
       "       '€45.5M', '€43.5M', '€35M', '€39M', '€18M', '€21.5M', '€50.5M',\n",
       "       '€54M', '€40.5M', '€37.5M', '€28.5M', '€37M', '€32M', '€26M',\n",
       "       '€33M', '€38.5M', '€35.5M', '€9M', '€15.5M', '€22M', '€14M',\n",
       "       '€42.5M', '€31.5M', '€42M', '€25M', '€29.5M', '€31M', '€24.5M',\n",
       "       '€27.5M', '€29M', '€16.5M', '€23M', '€19M', '€4.2M', '€40M',\n",
       "       '€41M', '€28M', '€22.5M', '€34.5M', '€32.5M', '€20M', '€26.5M',\n",
       "       '€25.5M', '€21M', '€13M', '€17.5M', '€11.5M', '€8M', '€6M',\n",
       "       '€19.5M', '€6.5M', '€20.5M', '€23.5M', '€18.5M', '€17M', '€12.5M',\n",
       "       '€15M', '€13.5M', '€4.8M', '€3M', '€1.5M', '€16M', '€10M', '€11M',\n",
       "       '€7M', '€14.5M', '€5.5M', '€10.5M', '€4.5M', '€12M', '€0', '€9.5M',\n",
       "       '€8.5M', '€2M', '€1.7M', '€1M', '€3.6M', '€7.5M', '€3.8M', '€5M',\n",
       "       '€2.4M', '€2.9M', '€4.7M', '€4.1M', '€2.1M', '€600K', '€2.7M',\n",
       "       '€3.4M', '€2.5M', '€3.2M', '€3.1M', '€4.9M', '€4.3M', '€2.3M',\n",
       "       '€525K', '€3.9M', '€1.8M', '€2.2M', '€4.4M', '€1.6M', '€900K',\n",
       "       '€3.7M', '€3.5M', '€1.9M', '€450K', '€775K', '€650K', '€750K',\n",
       "       '€2.8M', '€1.3M', '€4.6M', '€2.6M', '€1.2M', '€375K', '€3.3M',\n",
       "       '€270K', '€950K', '€550K', '€1.1M', '€975K', '€1.4M', '€725K',\n",
       "       '€425K', '€210K', '€875K', '€675K', '€325K', '€800K', '€850K',\n",
       "       '€160K', '€120K', '€825K', '€925K', '€625K', '€240K', '€500K',\n",
       "       '€575K', '€200K', '€250K', '€700K', '€350K', '€475K', '€300K',\n",
       "       '€70K', '€140K', '€230K', '€400K', '€280K', '€100K', '€60K',\n",
       "       '€260K', '€180K', '€220K', '€50K', '€290K', '€90K', '€150K',\n",
       "       '€40K', '€130K', '€190K', '€170K', '€110K', '€30K', '€80K', '€20K',\n",
       "       '€10K'], dtype=object)"
      ]
     },
     "execution_count": 55,
     "metadata": {},
     "output_type": "execute_result"
    }
   ],
   "source": [
    "df['Value'].unique()"
   ]
  },
  {
   "cell_type": "code",
   "execution_count": 56,
   "id": "f90209c9",
   "metadata": {},
   "outputs": [
    {
     "data": {
      "text/plain": [
       "dtype('O')"
      ]
     },
     "execution_count": 56,
     "metadata": {},
     "output_type": "execute_result"
    }
   ],
   "source": [
    "df['Wage'].dtype"
   ]
  },
  {
   "cell_type": "code",
   "execution_count": 57,
   "id": "9b7bc568",
   "metadata": {},
   "outputs": [
    {
     "data": {
      "text/plain": [
       "array(['€565K', '€405K', '€290K', '€260K', '€355K', '€340K', '€420K',\n",
       "       '€455K', '€380K', '€94K', '€205K', '€125K', '€285K', '€225K',\n",
       "       '€145K', '€240K', '€315K', '€200K', '€130K', '€300K', '€215K',\n",
       "       '€100K', '€255K', '€165K', '€265K', '€160K', '€150K', '€245K',\n",
       "       '€110K', '€77K', '€115K', '€210K', '€195K', '€230K', '€250K',\n",
       "       '€135K', '€155K', '€180K', '€175K', '€190K', '€185K', '€21K',\n",
       "       '€82K', '€73K', '€92K', '€88K', '€96K', '€170K', '€66K', '€235K',\n",
       "       '€28K', '€105K', '€38K', '€81K', '€57K', '€15K', '€63K', '€22K',\n",
       "       '€84K', '€120K', '€90K', '€72K', '€93K', '€45K', '€74K', '€51K',\n",
       "       '€42K', '€31K', '€75K', '€25K', '€140K', '€41K', '€78K', '€53K',\n",
       "       '€95K', '€80K', '€43K', '€60K', '€85K', '€64K', '€67K', '€18K',\n",
       "       '€70K', '€91K', '€20K', '€49K', '€87K', '€86K', '€26K', '€29K',\n",
       "       '€55K', '€35K', '€33K', '€56K', '€30K', '€11K', '€59K', '€23K',\n",
       "       '€46K', '€39K', '€32K', '€36K', '€98K', '€54K', '€68K', '€58K',\n",
       "       '€27K', '€40K', '€44K', '€19K', '€1K', '€61K', '€50K', '€99K',\n",
       "       '€17K', '€52K', '€62K', '€12K', '€10K', '€71K', '€14K', '€76K',\n",
       "       '€48K', '€65K', '€69K', '€24K', '€34K', '€16K', '€37K', '€47K',\n",
       "       '€89K', '€0', '€97K', '€79K', '€13K', '€83K', '€6K', '€3K', '€9K',\n",
       "       '€8K', '€7K', '€4K', '€2K', '€5K'], dtype=object)"
      ]
     },
     "execution_count": 57,
     "metadata": {},
     "output_type": "execute_result"
    }
   ],
   "source": [
    "df['Wage'].unique()"
   ]
  },
  {
   "cell_type": "code",
   "execution_count": 58,
   "id": "c97cb6cf",
   "metadata": {},
   "outputs": [
    {
     "data": {
      "text/plain": [
       "dtype('O')"
      ]
     },
     "execution_count": 58,
     "metadata": {},
     "output_type": "execute_result"
    }
   ],
   "source": [
    "df['Release Clause'].dtype"
   ]
  },
  {
   "cell_type": "code",
   "execution_count": 59,
   "id": "ffda411b",
   "metadata": {},
   "outputs": [
    {
     "data": {
      "text/plain": [
       "array(['€226.5M', '€127.1M', '€228.1M', ..., '€74K', '€101K', '€147K'],\n",
       "      dtype=object)"
      ]
     },
     "execution_count": 59,
     "metadata": {},
     "output_type": "execute_result"
    }
   ],
   "source": [
    "df['Release Clause'].unique()"
   ]
  },
  {
   "cell_type": "code",
   "execution_count": 60,
   "id": "838f8c90",
   "metadata": {},
   "outputs": [],
   "source": [
    "def currencyconvert(val):\n",
    "    if isinstance(val, str):\n",
    "        # removing pound symbol in front to convert string to float\n",
    "        vals=val.replace('€','')\n",
    "        if 'M' in val:\n",
    "            vals= float(vals.replace('M',''))*1000000\n",
    "        elif 'K' in val:\n",
    "            vals= float(vals.replace('K',''))*1000\n",
    "        return vals"
   ]
  },
  {
   "cell_type": "code",
   "execution_count": 61,
   "id": "23e47b6f",
   "metadata": {},
   "outputs": [],
   "source": [
    "df['Value']= df['Value'].apply(lambda x: currencyconvert(x))\n",
    "df['Wage']= df['Wage'].apply(lambda x: currencyconvert(x))\n",
    "\n",
    "df['Release Clause']= df['Release Clause'].apply(lambda x: currencyconvert(x))"
   ]
  },
  {
   "cell_type": "code",
   "execution_count": 62,
   "id": "e02cf83b",
   "metadata": {},
   "outputs": [
    {
     "data": {
      "text/plain": [
       "array([110500000.0, 77000000.0, 118500000.0, 72000000.0, 102000000.0,\n",
       "       93000000.0, 67000000.0, 80000000.0, 51000000.0, 68000000.0,\n",
       "       76500000.0, 44000000.0, 60000000.0, 63000000.0, 89000000.0,\n",
       "       83500000.0, 78000000.0, 58000000.0, 53500000.0, 51500000.0,\n",
       "       38000000.0, 64500000.0, 27000000.0, 81000000.0, 69500000.0,\n",
       "       59500000.0, 62000000.0, 73500000.0, 59000000.0, 46000000.0,\n",
       "       43000000.0, 36000000.0, 57000000.0, 24000000.0, 30000000.0,\n",
       "       4000000.0, 64000000.0, 30500000.0, 62500000.0, 52000000.0,\n",
       "       45000000.0, 34000000.0, 46500000.0, 61000000.0, 41500000.0,\n",
       "       44500000.0, 56500000.0, 53000000.0, 50000000.0, 55000000.0,\n",
       "       36500000.0, 45500000.0, 43500000.0, 35000000.0, 39000000.0,\n",
       "       18000000.0, 21500000.0, 50500000.0, 54000000.0, 40500000.0,\n",
       "       37500000.0, 28500000.0, 37000000.0, 32000000.0, 26000000.0,\n",
       "       33000000.0, 38500000.0, 35500000.0, 9000000.0, 15500000.0,\n",
       "       22000000.0, 14000000.0, 42500000.0, 31500000.0, 42000000.0,\n",
       "       25000000.0, 29500000.0, 31000000.0, 24500000.0, 27500000.0,\n",
       "       29000000.0, 16500000.0, 23000000.0, 19000000.0, 4200000.0,\n",
       "       40000000.0, 41000000.0, 28000000.0, 22500000.0, 34500000.0,\n",
       "       32500000.0, 20000000.0, 26500000.0, 25500000.0, 21000000.0,\n",
       "       13000000.0, 17500000.0, 11500000.0, 8000000.0, 6000000.0,\n",
       "       19500000.0, 6500000.0, 20500000.0, 23500000.0, 18500000.0,\n",
       "       17000000.0, 12500000.0, 15000000.0, 13500000.0, 4800000.0,\n",
       "       3000000.0, 1500000.0, 16000000.0, 10000000.0, 11000000.0,\n",
       "       7000000.0, 14500000.0, 5500000.0, 10500000.0, 4500000.0,\n",
       "       12000000.0, '0', 9500000.0, 8500000.0, 2000000.0, 1700000.0,\n",
       "       1000000.0, 3600000.0, 7500000.0, 3800000.0, 5000000.0, 2400000.0,\n",
       "       2900000.0, 4700000.0, 4099999.9999999995, 2100000.0, 600000.0,\n",
       "       2700000.0, 3400000.0, 2500000.0, 3200000.0, 3100000.0, 4900000.0,\n",
       "       4300000.0, 2300000.0, 525000.0, 3900000.0, 1800000.0, 2200000.0,\n",
       "       4400000.0, 1600000.0, 900000.0, 3700000.0, 3500000.0, 1900000.0,\n",
       "       450000.0, 775000.0, 650000.0, 750000.0, 2800000.0, 1300000.0,\n",
       "       4600000.0, 2600000.0, 1200000.0, 375000.0, 3300000.0, 270000.0,\n",
       "       950000.0, 550000.0, 1100000.0, 975000.0, 1400000.0, 725000.0,\n",
       "       425000.0, 210000.0, 875000.0, 675000.0, 325000.0, 800000.0,\n",
       "       850000.0, 160000.0, 120000.0, 825000.0, 925000.0, 625000.0,\n",
       "       240000.0, 500000.0, 575000.0, 200000.0, 250000.0, 700000.0,\n",
       "       350000.0, 475000.0, 300000.0, 70000.0, 140000.0, 230000.0,\n",
       "       400000.0, 280000.0, 100000.0, 60000.0, 260000.0, 180000.0,\n",
       "       220000.0, 50000.0, 290000.0, 90000.0, 150000.0, 40000.0, 130000.0,\n",
       "       190000.0, 170000.0, 110000.0, 30000.0, 80000.0, 20000.0, 10000.0],\n",
       "      dtype=object)"
      ]
     },
     "execution_count": 62,
     "metadata": {},
     "output_type": "execute_result"
    }
   ],
   "source": [
    "df['Value'].unique()"
   ]
  },
  {
   "cell_type": "code",
   "execution_count": 63,
   "id": "5971f53b",
   "metadata": {},
   "outputs": [
    {
     "data": {
      "text/plain": [
       "array([565000.0, 405000.0, 290000.0, 260000.0, 355000.0, 340000.0,\n",
       "       420000.0, 455000.0, 380000.0, 94000.0, 205000.0, 125000.0,\n",
       "       285000.0, 225000.0, 145000.0, 240000.0, 315000.0, 200000.0,\n",
       "       130000.0, 300000.0, 215000.0, 100000.0, 255000.0, 165000.0,\n",
       "       265000.0, 160000.0, 150000.0, 245000.0, 110000.0, 77000.0,\n",
       "       115000.0, 210000.0, 195000.0, 230000.0, 250000.0, 135000.0,\n",
       "       155000.0, 180000.0, 175000.0, 190000.0, 185000.0, 21000.0, 82000.0,\n",
       "       73000.0, 92000.0, 88000.0, 96000.0, 170000.0, 66000.0, 235000.0,\n",
       "       28000.0, 105000.0, 38000.0, 81000.0, 57000.0, 15000.0, 63000.0,\n",
       "       22000.0, 84000.0, 120000.0, 90000.0, 72000.0, 93000.0, 45000.0,\n",
       "       74000.0, 51000.0, 42000.0, 31000.0, 75000.0, 25000.0, 140000.0,\n",
       "       41000.0, 78000.0, 53000.0, 95000.0, 80000.0, 43000.0, 60000.0,\n",
       "       85000.0, 64000.0, 67000.0, 18000.0, 70000.0, 91000.0, 20000.0,\n",
       "       49000.0, 87000.0, 86000.0, 26000.0, 29000.0, 55000.0, 35000.0,\n",
       "       33000.0, 56000.0, 30000.0, 11000.0, 59000.0, 23000.0, 46000.0,\n",
       "       39000.0, 32000.0, 36000.0, 98000.0, 54000.0, 68000.0, 58000.0,\n",
       "       27000.0, 40000.0, 44000.0, 19000.0, 1000.0, 61000.0, 50000.0,\n",
       "       99000.0, 17000.0, 52000.0, 62000.0, 12000.0, 10000.0, 71000.0,\n",
       "       14000.0, 76000.0, 48000.0, 65000.0, 69000.0, 24000.0, 34000.0,\n",
       "       16000.0, 37000.0, 47000.0, 89000.0, '0', 97000.0, 79000.0, 13000.0,\n",
       "       83000.0, 6000.0, 3000.0, 9000.0, 8000.0, 7000.0, 4000.0, 2000.0,\n",
       "       5000.0], dtype=object)"
      ]
     },
     "execution_count": 63,
     "metadata": {},
     "output_type": "execute_result"
    }
   ],
   "source": [
    "df['Wage'].unique()"
   ]
  },
  {
   "cell_type": "code",
   "execution_count": 64,
   "id": "4744d22c",
   "metadata": {},
   "outputs": [
    {
     "data": {
      "text/plain": [
       "array([2.265e+08, 1.271e+08, 2.281e+08, ..., 7.400e+04, 1.010e+05,\n",
       "       1.470e+05])"
      ]
     },
     "execution_count": 64,
     "metadata": {},
     "output_type": "execute_result"
    }
   ],
   "source": [
    "df['Release Clause'].unique()"
   ]
  },
  {
   "cell_type": "code",
   "execution_count": null,
   "id": "8c0ee499",
   "metadata": {},
   "outputs": [],
   "source": [
    "# joined col"
   ]
  },
  {
   "cell_type": "code",
   "execution_count": 65,
   "id": "5fbd5252",
   "metadata": {},
   "outputs": [
    {
     "data": {
      "text/plain": [
       "1553"
      ]
     },
     "execution_count": 65,
     "metadata": {},
     "output_type": "execute_result"
    }
   ],
   "source": [
    "df['Joined'].isnull().sum()"
   ]
  },
  {
   "cell_type": "code",
   "execution_count": 67,
   "id": "cff6f682",
   "metadata": {},
   "outputs": [
    {
     "data": {
      "text/plain": [
       "dtype('O')"
      ]
     },
     "execution_count": 67,
     "metadata": {},
     "output_type": "execute_result"
    }
   ],
   "source": [
    "df['Joined'].dtype"
   ]
  },
  {
   "cell_type": "code",
   "execution_count": 69,
   "id": "bee176fb",
   "metadata": {},
   "outputs": [
    {
     "data": {
      "text/plain": [
       "'Jul 1, 2018'"
      ]
     },
     "execution_count": 69,
     "metadata": {},
     "output_type": "execute_result"
    }
   ],
   "source": [
    "mode4=df['Joined'].mode().values[0]\n",
    "mode4"
   ]
  },
  {
   "cell_type": "code",
   "execution_count": 70,
   "id": "a406f7d1",
   "metadata": {},
   "outputs": [],
   "source": [
    "df['Joined'].replace(np.nan,mode4,inplace=True)"
   ]
  },
  {
   "cell_type": "code",
   "execution_count": 71,
   "id": "427f3356",
   "metadata": {},
   "outputs": [
    {
     "data": {
      "text/plain": [
       "0"
      ]
     },
     "execution_count": 71,
     "metadata": {},
     "output_type": "execute_result"
    }
   ],
   "source": [
    "df['Joined'].isnull().sum()"
   ]
  },
  {
   "cell_type": "code",
   "execution_count": null,
   "id": "391b782e",
   "metadata": {},
   "outputs": [],
   "source": []
  }
 ],
 "metadata": {
  "kernelspec": {
   "display_name": "Python 3 (ipykernel)",
   "language": "python",
   "name": "python3"
  },
  "language_info": {
   "codemirror_mode": {
    "name": "ipython",
    "version": 3
   },
   "file_extension": ".py",
   "mimetype": "text/x-python",
   "name": "python",
   "nbconvert_exporter": "python",
   "pygments_lexer": "ipython3",
   "version": "3.10.9"
  }
 },
 "nbformat": 4,
 "nbformat_minor": 5
}
