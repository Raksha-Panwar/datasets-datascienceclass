{
 "cells": [
  {
   "cell_type": "code",
   "execution_count": 6,
   "id": "c973c562",
   "metadata": {},
   "outputs": [
    {
     "name": "stdout",
     "output_type": "stream",
     "text": [
      "Writing newtextfile.txt\n"
     ]
    }
   ],
   "source": [
    "%%writefile newtextfile.txt\n",
    "This is a text file\n",
    "This is a new line \n",
    "For more information visit ..."
   ]
  },
  {
   "cell_type": "code",
   "execution_count": 8,
   "id": "865e5a1b",
   "metadata": {},
   "outputs": [],
   "source": [
    "new = open(\"newtextfile.txt\")"
   ]
  },
  {
   "cell_type": "code",
   "execution_count": 9,
   "id": "08fd4f09",
   "metadata": {},
   "outputs": [
    {
     "data": {
      "text/plain": [
       "_io.TextIOWrapper"
      ]
     },
     "execution_count": 9,
     "metadata": {},
     "output_type": "execute_result"
    }
   ],
   "source": [
    "type(new)"
   ]
  },
  {
   "cell_type": "code",
   "execution_count": 10,
   "id": "77158977",
   "metadata": {},
   "outputs": [
    {
     "data": {
      "text/plain": [
       "<_io.TextIOWrapper name='newtextfile.txt' mode='r' encoding='cp1252'>"
      ]
     },
     "execution_count": 10,
     "metadata": {},
     "output_type": "execute_result"
    }
   ],
   "source": [
    "new"
   ]
  },
  {
   "cell_type": "code",
   "execution_count": 11,
   "id": "e978d749",
   "metadata": {},
   "outputs": [
    {
     "data": {
      "text/plain": [
       "'C:\\\\Users\\\\rakshapanwar'"
      ]
     },
     "execution_count": 11,
     "metadata": {},
     "output_type": "execute_result"
    }
   ],
   "source": [
    "pwd\n"
   ]
  },
  {
   "cell_type": "markdown",
   "id": "2c2aee54",
   "metadata": {},
   "source": [
    "## reads start to end"
   ]
  },
  {
   "cell_type": "code",
   "execution_count": 12,
   "id": "9727ba5f",
   "metadata": {},
   "outputs": [
    {
     "data": {
      "text/plain": [
       "'This is a text file\\nThis is a new line \\nFor more information visit ...\\n'"
      ]
     },
     "execution_count": 12,
     "metadata": {},
     "output_type": "execute_result"
    }
   ],
   "source": [
    "new.read()"
   ]
  },
  {
   "cell_type": "markdown",
   "id": "00688adc",
   "metadata": {},
   "source": [
    "## reads from end of the lines, thus empty"
   ]
  },
  {
   "cell_type": "code",
   "execution_count": 13,
   "id": "f0e0b9d9",
   "metadata": {},
   "outputs": [
    {
     "data": {
      "text/plain": [
       "''"
      ]
     },
     "execution_count": 13,
     "metadata": {},
     "output_type": "execute_result"
    }
   ],
   "source": [
    "new.read()"
   ]
  },
  {
   "cell_type": "markdown",
   "id": "4b0fdde6",
   "metadata": {},
   "source": [
    "## cursor moves to 0th position from start"
   ]
  },
  {
   "cell_type": "code",
   "execution_count": 14,
   "id": "308cefd5",
   "metadata": {},
   "outputs": [
    {
     "data": {
      "text/plain": [
       "0"
      ]
     },
     "execution_count": 14,
     "metadata": {},
     "output_type": "execute_result"
    }
   ],
   "source": [
    "new.seek(0)"
   ]
  },
  {
   "cell_type": "markdown",
   "id": "1ef21baa",
   "metadata": {},
   "source": [
    "## again start to end "
   ]
  },
  {
   "cell_type": "code",
   "execution_count": 15,
   "id": "589e3936",
   "metadata": {},
   "outputs": [
    {
     "data": {
      "text/plain": [
       "'This is a text file\\nThis is a new line \\nFor more information visit ...\\n'"
      ]
     },
     "execution_count": 15,
     "metadata": {},
     "output_type": "execute_result"
    }
   ],
   "source": [
    "new.read()"
   ]
  },
  {
   "cell_type": "markdown",
   "id": "22a979ef",
   "metadata": {},
   "source": [
    "## cursor moves to 4th index from start"
   ]
  },
  {
   "cell_type": "code",
   "execution_count": 16,
   "id": "575d6bf9",
   "metadata": {},
   "outputs": [
    {
     "data": {
      "text/plain": [
       "4"
      ]
     },
     "execution_count": 16,
     "metadata": {},
     "output_type": "execute_result"
    }
   ],
   "source": [
    "new.seek(4)"
   ]
  },
  {
   "cell_type": "markdown",
   "id": "71056a20",
   "metadata": {},
   "source": [
    "## reads from 4th index to end"
   ]
  },
  {
   "cell_type": "code",
   "execution_count": 17,
   "id": "e5cd64ed",
   "metadata": {},
   "outputs": [
    {
     "data": {
      "text/plain": [
       "' is a text file\\nThis is a new line \\nFor more information visit ...\\n'"
      ]
     },
     "execution_count": 17,
     "metadata": {},
     "output_type": "execute_result"
    }
   ],
   "source": [
    "new.read()"
   ]
  },
  {
   "cell_type": "code",
   "execution_count": 22,
   "id": "c9c689cc",
   "metadata": {},
   "outputs": [
    {
     "data": {
      "text/plain": [
       "str"
      ]
     },
     "execution_count": 22,
     "metadata": {},
     "output_type": "execute_result"
    }
   ],
   "source": [
    "type(new.read())"
   ]
  },
  {
   "cell_type": "code",
   "execution_count": 23,
   "id": "c1f4e54f",
   "metadata": {},
   "outputs": [
    {
     "data": {
      "text/plain": [
       "0"
      ]
     },
     "execution_count": 23,
     "metadata": {},
     "output_type": "execute_result"
    }
   ],
   "source": [
    "new.seek(0)"
   ]
  },
  {
   "cell_type": "markdown",
   "id": "664434b0",
   "metadata": {},
   "source": [
    "## read text files as list"
   ]
  },
  {
   "cell_type": "code",
   "execution_count": 24,
   "id": "1b2c939c",
   "metadata": {},
   "outputs": [
    {
     "data": {
      "text/plain": [
       "['This is a text file\\n',\n",
       " 'This is a new line \\n',\n",
       " 'For more information visit ...\\n']"
      ]
     },
     "execution_count": 24,
     "metadata": {},
     "output_type": "execute_result"
    }
   ],
   "source": [
    "new.readlines()"
   ]
  },
  {
   "cell_type": "code",
   "execution_count": 25,
   "id": "134aee84",
   "metadata": {},
   "outputs": [
    {
     "data": {
      "text/plain": [
       "list"
      ]
     },
     "execution_count": 25,
     "metadata": {},
     "output_type": "execute_result"
    }
   ],
   "source": [
    "type(new.readlines())"
   ]
  },
  {
   "cell_type": "code",
   "execution_count": null,
   "id": "8ee15820",
   "metadata": {},
   "outputs": [],
   "source": []
  }
 ],
 "metadata": {
  "kernelspec": {
   "display_name": "Python 3 (ipykernel)",
   "language": "python",
   "name": "python3"
  },
  "language_info": {
   "codemirror_mode": {
    "name": "ipython",
    "version": 3
   },
   "file_extension": ".py",
   "mimetype": "text/x-python",
   "name": "python",
   "nbconvert_exporter": "python",
   "pygments_lexer": "ipython3",
   "version": "3.10.9"
  }
 },
 "nbformat": 4,
 "nbformat_minor": 5
}
