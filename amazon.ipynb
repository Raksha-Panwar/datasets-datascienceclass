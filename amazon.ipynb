{
 "cells": [
  {
   "cell_type": "code",
   "execution_count": null,
   "id": "2383489e",
   "metadata": {},
   "outputs": [],
   "source": [
    "import array \n",
    "j=[]\n",
    "n=int(input())\n",
    "for i in range(n+1):\n",
    "    j.append(int(input()))\n",
    "for i in range(n+1):\n",
    "    if i not in j:\n",
    "        print(i)"
   ]
  },
  {
   "cell_type": "code",
   "execution_count": 1,
   "id": "f51147ad",
   "metadata": {},
   "outputs": [
    {
     "name": "stdout",
     "output_type": "stream",
     "text": [
      "7\n",
      "1\n",
      "3\n",
      "5\n",
      "4\n",
      "6\n",
      "7\n",
      "2\n"
     ]
    }
   ],
   "source": [
    "import array \n",
    "j=[]\n",
    "n=int(input())\n",
    "for i in range(1,n):\n",
    "    j.append(int(input()))\n",
    "for i in range(1,n+1):\n",
    "    if i not in j:\n",
    "        print(i)"
   ]
  },
  {
   "cell_type": "code",
   "execution_count": 1,
   "id": "8a2cabdc",
   "metadata": {},
   "outputs": [
    {
     "name": "stdout",
     "output_type": "stream",
     "text": [
      "7\n",
      "1\n",
      "3\n",
      "4\n",
      "6\n",
      "7\n",
      "5\n",
      "2\n"
     ]
    }
   ],
   "source": [
    "import array \n",
    "j=[]\n",
    "s1,s2=0,0\n",
    "n=int(input())\n",
    "for i in range(1,n):\n",
    "    j.append(int(input()))\n",
    "for i in j:\n",
    "    s1=s1+i\n",
    "for i in range(1,n+1):\n",
    "    s2=s2+i\n",
    "print(s2-s1)"
   ]
  },
  {
   "cell_type": "code",
   "execution_count": 3,
   "id": "7808528b",
   "metadata": {},
   "outputs": [
    {
     "ename": "SyntaxError",
     "evalue": "invalid syntax (Temp/ipykernel_10536/4092707960.py, line 7)",
     "output_type": "error",
     "traceback": [
      "\u001b[1;36m  File \u001b[1;32m\"C:\\Users\\RAKSHA~1\\AppData\\Local\\Temp/ipykernel_10536/4092707960.py\"\u001b[1;36m, line \u001b[1;32m7\u001b[0m\n\u001b[1;33m    for k in range(1,(n+1):\u001b[0m\n\u001b[1;37m                          ^\u001b[0m\n\u001b[1;31mSyntaxError\u001b[0m\u001b[1;31m:\u001b[0m invalid syntax\n"
     ]
    }
   ],
   "source": [
    "import array \n",
    "ts=int(input())\n",
    "n=int(input())\n",
    "j=[]\n",
    "for i in range(n+1):\n",
    "    j.append(int(input())\n",
    "for k in range(1,(n+1):\n",
    "    num=ts-i\n",
    "    if num in j:\n",
    "        print(i,num)"
   ]
  },
  {
   "cell_type": "code",
   "execution_count": 4,
   "id": "c64cabf5",
   "metadata": {},
   "outputs": [
    {
     "ename": "SyntaxError",
     "evalue": "invalid syntax (Temp/ipykernel_6756/2040046370.py, line 7)",
     "output_type": "error",
     "traceback": [
      "\u001b[1;36m  File \u001b[1;32m\"C:\\Users\\RAKSHA~1\\AppData\\Local\\Temp/ipykernel_6756/2040046370.py\"\u001b[1;36m, line \u001b[1;32m7\u001b[0m\n\u001b[1;33m    for k in j:\u001b[0m\n\u001b[1;37m              ^\u001b[0m\n\u001b[1;31mSyntaxError\u001b[0m\u001b[1;31m:\u001b[0m invalid syntax\n"
     ]
    }
   ],
   "source": [
    "import array \n",
    "ts=int(input())\n",
    "n=int(input())\n",
    "j=[]\n",
    "for i in range(n+1):\n",
    "    j.append(int(input())\n",
    "for k in j:\n",
    "             num=ts-i\n",
    "             if num in j:\n",
    "                 print(i,num)"
   ]
  },
  {
   "cell_type": "code",
   "execution_count": 4,
   "id": "ca7facd2",
   "metadata": {},
   "outputs": [
    {
     "name": "stdout",
     "output_type": "stream",
     "text": [
      "5\n",
      "6\n",
      "1\n",
      "6\n",
      "7\n",
      "4\n",
      "5\n",
      "2\n",
      "4 1\n",
      "1 4\n"
     ]
    }
   ],
   "source": [
    "import array\n",
    "ts=int(input())\n",
    "n=int(input())\n",
    "j=[]\n",
    "for i in range(n):\n",
    "    j.append(int(input()))\n",
    "for k in j:\n",
    "    num=ts-k\n",
    "    #print(num)\n",
    "    if num in j:\n",
    "        print(num,k)\n"
   ]
  },
  {
   "cell_type": "markdown",
   "id": "9d919147",
   "metadata": {},
   "source": [
    "st=input()\n",
    "l=st.split(' ')\n",
    "print(l)\n",
    "#for i in l\n",
    "\n"
   ]
  },
  {
   "cell_type": "code",
   "execution_count": 14,
   "id": "7334d2c0",
   "metadata": {},
   "outputs": [
    {
     "name": "stdout",
     "output_type": "stream",
     "text": [
      "i am rak\n",
      "['i', 'am', 'rak']\n",
      "rak am i\n"
     ]
    }
   ],
   "source": [
    "st=input()\n",
    "l=st.split(' ')\n",
    "print(l) \n",
    "l.reverse()\n",
    "str1=' '.join(map(str,l))\n",
    "print(str1)"
   ]
  },
  {
   "cell_type": "code",
   "execution_count": 15,
   "id": "2d639403",
   "metadata": {},
   "outputs": [
    {
     "ename": "NameError",
     "evalue": "name 'c' is not defined",
     "output_type": "error",
     "traceback": [
      "\u001b[1;31m---------------------------------------------------------------------------\u001b[0m",
      "\u001b[1;31mNameError\u001b[0m                                 Traceback (most recent call last)",
      "\u001b[1;32mC:\\Users\\RAKSHA~1\\AppData\\Local\\Temp/ipykernel_9784/3965564271.py\u001b[0m in \u001b[0;36m<module>\u001b[1;34m\u001b[0m\n\u001b[0;32m      5\u001b[0m     \u001b[0mi\u001b[0m\u001b[1;33m=\u001b[0m\u001b[1;36m1\u001b[0m\u001b[1;33m\u001b[0m\u001b[1;33m\u001b[0m\u001b[0m\n\u001b[0;32m      6\u001b[0m     \u001b[1;32mwhile\u001b[0m \u001b[0mi\u001b[0m\u001b[1;33m<=\u001b[0m\u001b[0mmax\u001b[0m\u001b[1;33m:\u001b[0m\u001b[1;33m\u001b[0m\u001b[1;33m\u001b[0m\u001b[0m\n\u001b[1;32m----> 7\u001b[1;33m         \u001b[0mc\u001b[0m\u001b[1;33m=\u001b[0m\u001b[0mc\u001b[0m\u001b[1;33m+\u001b[0m\u001b[1;36m1\u001b[0m\u001b[1;33m;\u001b[0m\u001b[1;33m\u001b[0m\u001b[1;33m\u001b[0m\u001b[0m\n\u001b[0m",
      "\u001b[1;31mNameError\u001b[0m: name 'c' is not defined"
     ]
    }
   ],
   "source": [
    "d=[1,2,5]\n",
    "tot=7\n",
    "for i in d:\n",
    "    max=tot//i\n",
    "    i=1\n",
    "    while i<=max:\n",
    "        c=c+1;"
   ]
  },
  {
   "cell_type": "code",
   "execution_count": null,
   "id": "a2879e3b",
   "metadata": {},
   "outputs": [],
   "source": [
    "d=[1,2,3]\n",
    "permu=3*2*1\n",
    "k=int(input())\n",
    "b=3-1\n",
    "if k%2==0:\n",
    "    block=k//2\n",
    "else:\n",
    "    block=k//2+1\n",
    "    if \n",
    "numb=l[block]*100+l[]*10+l[]"
   ]
  }
 ],
 "metadata": {
  "kernelspec": {
   "display_name": "Python 3 (ipykernel)",
   "language": "python",
   "name": "python3"
  },
  "language_info": {
   "codemirror_mode": {
    "name": "ipython",
    "version": 3
   },
   "file_extension": ".py",
   "mimetype": "text/x-python",
   "name": "python",
   "nbconvert_exporter": "python",
   "pygments_lexer": "ipython3",
   "version": "3.8.8"
  }
 },
 "nbformat": 4,
 "nbformat_minor": 5
}
