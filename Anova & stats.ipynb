{
 "cells": [
  {
   "cell_type": "markdown",
   "id": "2414b3c0",
   "metadata": {},
   "source": [
    "# ANOVA "
   ]
  },
  {
   "cell_type": "code",
   "execution_count": 2,
   "id": "0698be49",
   "metadata": {},
   "outputs": [],
   "source": [
    "from scipy.stats import f_oneway"
   ]
  },
  {
   "cell_type": "code",
   "execution_count": 15,
   "id": "2ffe93a7",
   "metadata": {},
   "outputs": [],
   "source": [
    "prog_1 = [9,12,14,11 ,13]"
   ]
  },
  {
   "cell_type": "code",
   "execution_count": 16,
   "id": "4f4a127e",
   "metadata": {},
   "outputs": [],
   "source": [
    "prog_2 = [10, 6, 9,9,10 ] "
   ]
  },
  {
   "cell_type": "code",
   "execution_count": 17,
   "id": "ab376569",
   "metadata": {},
   "outputs": [],
   "source": [
    "prog_3 = [12,14,11,13,11 ]"
   ]
  },
  {
   "cell_type": "code",
   "execution_count": 18,
   "id": "c4fdc331",
   "metadata": {},
   "outputs": [],
   "source": [
    "prog_4 = [9,8,11,7,8] "
   ]
  },
  {
   "cell_type": "code",
   "execution_count": 19,
   "id": "aced054c",
   "metadata": {},
   "outputs": [
    {
     "data": {
      "text/plain": [
       "F_onewayResult(statistic=7.044871794871795, pvalue=0.0031129438989961743)"
      ]
     },
     "execution_count": 19,
     "metadata": {},
     "output_type": "execute_result"
    }
   ],
   "source": [
    "f_oneway(prog_1, prog_2, prog_3, prog_4)"
   ]
  },
  {
   "cell_type": "code",
   "execution_count": null,
   "id": "713b9e51",
   "metadata": {},
   "outputs": [],
   "source": []
  },
  {
   "cell_type": "code",
   "execution_count": null,
   "id": "4894d291",
   "metadata": {},
   "outputs": [],
   "source": []
  },
  {
   "cell_type": "code",
   "execution_count": null,
   "id": "ed784ee3",
   "metadata": {},
   "outputs": [],
   "source": []
  }
 ],
 "metadata": {
  "kernelspec": {
   "display_name": "Python 3 (ipykernel)",
   "language": "python",
   "name": "python3"
  },
  "language_info": {
   "codemirror_mode": {
    "name": "ipython",
    "version": 3
   },
   "file_extension": ".py",
   "mimetype": "text/x-python",
   "name": "python",
   "nbconvert_exporter": "python",
   "pygments_lexer": "ipython3",
   "version": "3.10.9"
  }
 },
 "nbformat": 4,
 "nbformat_minor": 5
}
