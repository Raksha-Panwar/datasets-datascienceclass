{
 "cells": [
  {
   "cell_type": "code",
   "execution_count": 15,
   "id": "1e1baefd",
   "metadata": {},
   "outputs": [
    {
     "name": "stdout",
     "output_type": "stream",
     "text": [
      "hello raksha\n",
      "hello 1\n",
      "hello1\n",
      "prime 1\n",
      "prime %d 1\n"
     ]
    }
   ],
   "source": [
    "print(\"hello\",\"raksha\")\n",
    "n=1\n",
    "print(\"hello\",n)\n",
    "print(\"hello\"+str(n))\n",
    "print(\"prime %d\" %n)\n",
    "print(\"prime %d\",n)"
   ]
  },
  {
   "cell_type": "code",
   "execution_count": 1,
   "id": "cfcc7095",
   "metadata": {},
   "outputs": [],
   "source": [
    "def printstr(str):\n",
    "    print(str)\n",
    "    return"
   ]
  },
  {
   "cell_type": "code",
   "execution_count": 2,
   "id": "505f0c4a",
   "metadata": {},
   "outputs": [
    {
     "name": "stdout",
     "output_type": "stream",
     "text": [
      "Hi, I'm Raksha\n"
     ]
    }
   ],
   "source": [
    "def printstr(str):\n",
    "    print(str)\n",
    "    return\n",
    "printstr(\"Hi, I'm Raksha\")"
   ]
  },
  {
   "cell_type": "code",
   "execution_count": 3,
   "id": "57c7cd40",
   "metadata": {},
   "outputs": [
    {
     "name": "stdout",
     "output_type": "stream",
     "text": [
      "Hello, Raks\n"
     ]
    }
   ],
   "source": [
    "def print2str(str):\n",
    "    print(str)\n",
    "    return\n",
    "print2str(\"Hello, Raks\")"
   ]
  },
  {
   "cell_type": "code",
   "execution_count": 4,
   "id": "c4cd1145",
   "metadata": {},
   "outputs": [
    {
     "ename": "TypeError",
     "evalue": "print2str() missing 1 required positional argument: 'str'",
     "output_type": "error",
     "traceback": [
      "\u001b[1;31m---------------------------------------------------------------------------\u001b[0m",
      "\u001b[1;31mTypeError\u001b[0m                                 Traceback (most recent call last)",
      "Cell \u001b[1;32mIn[4], line 1\u001b[0m\n\u001b[1;32m----> 1\u001b[0m \u001b[43mprint2str\u001b[49m\u001b[43m(\u001b[49m\u001b[43m)\u001b[49m\n",
      "\u001b[1;31mTypeError\u001b[0m: print2str() missing 1 required positional argument: 'str'"
     ]
    }
   ],
   "source": [
    "print2str()"
   ]
  },
  {
   "cell_type": "code",
   "execution_count": 9,
   "id": "599b7849",
   "metadata": {},
   "outputs": [
    {
     "ename": "TypeError",
     "evalue": "print2str() got an unexpected keyword argument 'age'",
     "output_type": "error",
     "traceback": [
      "\u001b[1;31m---------------------------------------------------------------------------\u001b[0m",
      "\u001b[1;31mTypeError\u001b[0m                                 Traceback (most recent call last)",
      "Cell \u001b[1;32mIn[9], line 1\u001b[0m\n\u001b[1;32m----> 1\u001b[0m \u001b[43mprint2str\u001b[49m\u001b[43m(\u001b[49m\u001b[38;5;28;43mstr\u001b[39;49m\u001b[38;5;241;43m=\u001b[39;49m\u001b[38;5;124;43m\"\u001b[39;49m\u001b[38;5;124;43mraks\u001b[39;49m\u001b[38;5;124;43m\"\u001b[39;49m\u001b[43m,\u001b[49m\u001b[43m \u001b[49m\u001b[43mage\u001b[49m\u001b[38;5;241;43m=\u001b[39;49m\u001b[38;5;241;43m23\u001b[39;49m\u001b[43m)\u001b[49m\n",
      "\u001b[1;31mTypeError\u001b[0m: print2str() got an unexpected keyword argument 'age'"
     ]
    }
   ],
   "source": [
    "print2str(str=\"raks\", age=23)"
   ]
  },
  {
   "cell_type": "code",
   "execution_count": 6,
   "id": "6ee58880",
   "metadata": {},
   "outputs": [
    {
     "name": "stdout",
     "output_type": "stream",
     "text": [
      "raks 23\n"
     ]
    }
   ],
   "source": [
    "def print3str(nam,age):\n",
    "    print(nam,age)\n",
    "    return\n",
    "print3str(nam=\"raks\", age=23)"
   ]
  },
  {
   "cell_type": "code",
   "execution_count": 11,
   "id": "0db8d036",
   "metadata": {},
   "outputs": [
    {
     "name": "stdout",
     "output_type": "stream",
     "text": [
      "raks 22\n"
     ]
    }
   ],
   "source": [
    "def print4str(nam,age=22):\n",
    "    print(nam,age)\n",
    "    return\n",
    "print4str(nam=\"raks\")"
   ]
  },
  {
   "cell_type": "code",
   "execution_count": 13,
   "id": "e5597c70",
   "metadata": {},
   "outputs": [
    {
     "name": "stdout",
     "output_type": "stream",
     "text": [
      "raks 22\n"
     ]
    }
   ],
   "source": [
    "def print4str(nam,age=22):\n",
    "    print(nam,age)\n",
    "    return\n",
    "print4str(\"raks\")"
   ]
  },
  {
   "cell_type": "code",
   "execution_count": 14,
   "id": "c29b8b14",
   "metadata": {},
   "outputs": [
    {
     "name": "stdout",
     "output_type": "stream",
     "text": [
      "raks 22\n"
     ]
    }
   ],
   "source": [
    "def print4str(nam=\"r\",age=22):\n",
    "    print(nam,age)\n",
    "    return\n",
    "print4str(\"raks\")"
   ]
  },
  {
   "cell_type": "code",
   "execution_count": 15,
   "id": "c7530d43",
   "metadata": {},
   "outputs": [
    {
     "name": "stdout",
     "output_type": "stream",
     "text": [
      "Sam\n",
      "12000\n"
     ]
    }
   ],
   "source": [
    "def emp(nam,sal=12000):\n",
    "    print(nam)\n",
    "    print(sal)\n",
    "emp(\"Sam\")"
   ]
  },
  {
   "cell_type": "code",
   "execution_count": 16,
   "id": "bbe9d89f",
   "metadata": {},
   "outputs": [],
   "source": [
    "## Variable length arguments"
   ]
  },
  {
   "cell_type": "code",
   "execution_count": 17,
   "id": "4612a77c",
   "metadata": {},
   "outputs": [
    {
     "ename": "NameError",
     "evalue": "name 'nam' is not defined",
     "output_type": "error",
     "traceback": [
      "\u001b[1;31m---------------------------------------------------------------------------\u001b[0m",
      "\u001b[1;31mNameError\u001b[0m                                 Traceback (most recent call last)",
      "Cell \u001b[1;32mIn[17], line 6\u001b[0m\n\u001b[0;32m      4\u001b[0m     \u001b[38;5;28mprint\u001b[39m(sal)\n\u001b[0;32m      5\u001b[0m     \u001b[38;5;28mprint\u001b[39m(empid)\n\u001b[1;32m----> 6\u001b[0m \u001b[43mvararg\u001b[49m\u001b[43m(\u001b[49m\u001b[38;5;124;43m\"\u001b[39;49m\u001b[38;5;124;43mr\u001b[39;49m\u001b[38;5;124;43m\"\u001b[39;49m\u001b[43m,\u001b[49m\u001b[38;5;241;43m22\u001b[39;49m\u001b[43m,\u001b[49m\u001b[38;5;241;43m1200\u001b[39;49m\u001b[43m,\u001b[49m\u001b[38;5;241;43m2\u001b[39;49m\u001b[43m)\u001b[49m\n",
      "Cell \u001b[1;32mIn[17], line 2\u001b[0m, in \u001b[0;36mvararg\u001b[1;34m(*args)\u001b[0m\n\u001b[0;32m      1\u001b[0m \u001b[38;5;28;01mdef\u001b[39;00m \u001b[38;5;21mvararg\u001b[39m(\u001b[38;5;241m*\u001b[39margs):\n\u001b[1;32m----> 2\u001b[0m     \u001b[38;5;28mprint\u001b[39m(\u001b[43mnam\u001b[49m)\n\u001b[0;32m      3\u001b[0m     \u001b[38;5;28mprint\u001b[39m(age)\n\u001b[0;32m      4\u001b[0m     \u001b[38;5;28mprint\u001b[39m(sal)\n",
      "\u001b[1;31mNameError\u001b[0m: name 'nam' is not defined"
     ]
    }
   ],
   "source": [
    "def vararg(*args):\n",
    "    print(nam)\n",
    "    print(age)\n",
    "    print(sal)\n",
    "    print(empid)\n",
    "vararg(\"r\",22,1200,2)"
   ]
  },
  {
   "cell_type": "code",
   "execution_count": 18,
   "id": "1fbc8006",
   "metadata": {},
   "outputs": [
    {
     "ename": "TypeError",
     "evalue": "vararg() got an unexpected keyword argument 'nam'",
     "output_type": "error",
     "traceback": [
      "\u001b[1;31m---------------------------------------------------------------------------\u001b[0m",
      "\u001b[1;31mTypeError\u001b[0m                                 Traceback (most recent call last)",
      "Cell \u001b[1;32mIn[18], line 6\u001b[0m\n\u001b[0;32m      4\u001b[0m     \u001b[38;5;28mprint\u001b[39m(sal)\n\u001b[0;32m      5\u001b[0m     \u001b[38;5;28mprint\u001b[39m(empid)\n\u001b[1;32m----> 6\u001b[0m \u001b[43mvararg\u001b[49m\u001b[43m(\u001b[49m\u001b[43mnam\u001b[49m\u001b[38;5;241;43m=\u001b[39;49m\u001b[38;5;124;43m\"\u001b[39;49m\u001b[38;5;124;43mr\u001b[39;49m\u001b[38;5;124;43m\"\u001b[39;49m\u001b[43m,\u001b[49m\u001b[43mage\u001b[49m\u001b[38;5;241;43m=\u001b[39;49m\u001b[38;5;241;43m22\u001b[39;49m\u001b[43m,\u001b[49m\u001b[43msal\u001b[49m\u001b[38;5;241;43m=\u001b[39;49m\u001b[38;5;241;43m1200\u001b[39;49m\u001b[43m,\u001b[49m\u001b[43mempid\u001b[49m\u001b[38;5;241;43m=\u001b[39;49m\u001b[38;5;241;43m2\u001b[39;49m\u001b[43m)\u001b[49m\n",
      "\u001b[1;31mTypeError\u001b[0m: vararg() got an unexpected keyword argument 'nam'"
     ]
    }
   ],
   "source": [
    "def vararg(*args):\n",
    "    print(nam)\n",
    "    print(age)\n",
    "    print(sal)\n",
    "    print(empid)\n",
    "vararg(nam=\"r\",age=22,sal=1200,empid=2)"
   ]
  },
  {
   "cell_type": "code",
   "execution_count": 19,
   "id": "e0b802ab",
   "metadata": {},
   "outputs": [
    {
     "name": "stdout",
     "output_type": "stream",
     "text": [
      "15\n"
     ]
    }
   ],
   "source": [
    "def add(*args):\n",
    "    res=0\n",
    "    for arg in args:\n",
    "        res=res+arg\n",
    "    return res\n",
    "print(add(5,4,3,2,1))"
   ]
  },
  {
   "cell_type": "code",
   "execution_count": 22,
   "id": "97813870",
   "metadata": {},
   "outputs": [
    {
     "data": {
      "text/plain": [
       "15"
      ]
     },
     "execution_count": 22,
     "metadata": {},
     "output_type": "execute_result"
    }
   ],
   "source": [
    "def adds(*args):\n",
    "    res=0\n",
    "    for arg in args:\n",
    "        res=res+arg\n",
    "    return res\n",
    "adds(5,4,3,2,1)"
   ]
  },
  {
   "cell_type": "code",
   "execution_count": 23,
   "id": "bcb0c31b",
   "metadata": {},
   "outputs": [
    {
     "name": "stdout",
     "output_type": "stream",
     "text": [
      "15\n"
     ]
    }
   ],
   "source": [
    "def adds(*args):\n",
    "    res=0\n",
    "    for arg in args:\n",
    "        res=res+arg\n",
    "    return res\n",
    "r=adds(5,4,3,2,1)\n",
    "print(r)"
   ]
  },
  {
   "cell_type": "code",
   "execution_count": 24,
   "id": "e3a7526d",
   "metadata": {},
   "outputs": [],
   "source": [
    "# gloabl var & local var"
   ]
  },
  {
   "cell_type": "code",
   "execution_count": 26,
   "id": "2574c49b",
   "metadata": {},
   "outputs": [],
   "source": [
    "# global - defined & accessible everywhere\n",
    "# local -> defined inside a function body\n"
   ]
  },
  {
   "cell_type": "code",
   "execution_count": 27,
   "id": "17a9146b",
   "metadata": {},
   "outputs": [
    {
     "name": "stdout",
     "output_type": "stream",
     "text": [
      "6\n",
      "6\n"
     ]
    }
   ],
   "source": [
    "tot=0 # global\n",
    "def sum(a,b):\n",
    "    tot=a+b # tot is local here\n",
    "    print(tot)\n",
    "    return tot\n",
    "print(sum(2,4))"
   ]
  },
  {
   "cell_type": "code",
   "execution_count": 19,
   "id": "e9da95b0",
   "metadata": {},
   "outputs": [
    {
     "name": "stdout",
     "output_type": "stream",
     "text": [
      "This is DataScience Course with Python\n",
      "Im accessing Global Variable : DataScience\n",
      "Im accessing Local Variable : Python\n"
     ]
    }
   ],
   "source": [
    "\n",
    "global_lang = 'DataScience' # global variable\n",
    "\n",
    "def var_scope_test():\n",
    "    local_lang = 'Python' # local variable\n",
    "#     print(local_lang)\n",
    "    print(\"This is \" + global_lang + ' Course with ' + local_lang)\n",
    "    print(\"Im accessing Global Variable :\", global_lang)\n",
    "    print(\"Im accessing Local Variable :\", local_lang)\n",
    "    \n",
    "    return\n",
    "var_scope_test()"
   ]
  },
  {
   "cell_type": "code",
   "execution_count": 22,
   "id": "19cfe287",
   "metadata": {},
   "outputs": [
    {
     "name": "stdout",
     "output_type": "stream",
     "text": [
      "Im accessing Global Variable : DataSc\n"
     ]
    },
    {
     "ename": "UnboundLocalError",
     "evalue": "local variable 'global_lang' referenced before assignment",
     "output_type": "error",
     "traceback": [
      "\u001b[1;31m---------------------------------------------------------------------------\u001b[0m",
      "\u001b[1;31mUnboundLocalError\u001b[0m                         Traceback (most recent call last)",
      "Cell \u001b[1;32mIn[22], line 12\u001b[0m\n\u001b[0;32m      9\u001b[0m     \u001b[38;5;28mprint\u001b[39m(\u001b[38;5;124m\"\u001b[39m\u001b[38;5;124mIm accessing Local Variable :\u001b[39m\u001b[38;5;124m\"\u001b[39m, local_lang)\n\u001b[0;32m     11\u001b[0m     \u001b[38;5;28;01mreturn\u001b[39;00m\n\u001b[1;32m---> 12\u001b[0m \u001b[43mvar_scope_test\u001b[49m\u001b[43m(\u001b[49m\u001b[43m)\u001b[49m\n",
      "Cell \u001b[1;32mIn[22], line 6\u001b[0m, in \u001b[0;36mvar_scope_test\u001b[1;34m()\u001b[0m\n\u001b[0;32m      4\u001b[0m     local_lang \u001b[38;5;241m=\u001b[39m \u001b[38;5;124m'\u001b[39m\u001b[38;5;124mPy\u001b[39m\u001b[38;5;124m'\u001b[39m \u001b[38;5;66;03m# local variable\u001b[39;00m\n\u001b[0;32m      5\u001b[0m \u001b[38;5;66;03m#     print(local_lang)\u001b[39;00m\n\u001b[1;32m----> 6\u001b[0m     \u001b[38;5;28mprint\u001b[39m(\u001b[38;5;124m\"\u001b[39m\u001b[38;5;124mThis is \u001b[39m\u001b[38;5;124m\"\u001b[39m \u001b[38;5;241m+\u001b[39m \u001b[43mglobal_lang\u001b[49m \u001b[38;5;241m+\u001b[39m \u001b[38;5;124m'\u001b[39m\u001b[38;5;124m Course with \u001b[39m\u001b[38;5;124m'\u001b[39m \u001b[38;5;241m+\u001b[39m local_lang)\n\u001b[0;32m      7\u001b[0m     global_lang\u001b[38;5;241m=\u001b[39m\u001b[38;5;124m\"\u001b[39m\u001b[38;5;124mdatascience\u001b[39m\u001b[38;5;124m\"\u001b[39m\n\u001b[0;32m      8\u001b[0m     \u001b[38;5;28mprint\u001b[39m(\u001b[38;5;124m\"\u001b[39m\u001b[38;5;124mIm accessing Global Variable :\u001b[39m\u001b[38;5;124m\"\u001b[39m, global_lang)\n",
      "\u001b[1;31mUnboundLocalError\u001b[0m: local variable 'global_lang' referenced before assignment"
     ]
    }
   ],
   "source": [
    "\n",
    "global_lang = 'DataSc' # global variable\n",
    "print(\"Im accessing Global Variable :\", global_lang)\n",
    "def var_scope_test():\n",
    "    local_lang = 'Py' # local variable\n",
    "#     print(local_lang)\n",
    "    print(\"This is \" + global_lang + ' Course with ' + local_lang)\n",
    "    global_lang=\"datascience\"\n",
    "    print(\"Im accessing Global Variable :\", global_lang)\n",
    "    print(\"Im accessing Local Variable :\", local_lang)\n",
    "    \n",
    "    return\n",
    "var_scope_test()"
   ]
  },
  {
   "cell_type": "code",
   "execution_count": 25,
   "id": "b15994d1",
   "metadata": {},
   "outputs": [
    {
     "ename": "SyntaxError",
     "evalue": "invalid syntax (3878120031.py, line 7)",
     "output_type": "error",
     "traceback": [
      "\u001b[1;36m  Cell \u001b[1;32mIn[25], line 7\u001b[1;36m\u001b[0m\n\u001b[1;33m    global global_lang=\"datascience\"\u001b[0m\n\u001b[1;37m                      ^\u001b[0m\n\u001b[1;31mSyntaxError\u001b[0m\u001b[1;31m:\u001b[0m invalid syntax\n"
     ]
    }
   ],
   "source": [
    "global_lang = 'DataSc' # global variable\n",
    "print(\"Im accessing Global Variable :\", global_lang)\n",
    "def var_scope_test():\n",
    "    local_lang = 'Py' # local variable\n",
    "#     print(local_lang)\n",
    "    print(\"This is \" + global_lang + ' Course with ' + local_lang)\n",
    "    global global_lang=\"datascience\"\n",
    "    print(\"Im accessing Global Variable :\", global_lang)\n",
    "    print(\"Im accessing Local Variable :\", local_lang)\n",
    "    \n",
    "    return\n",
    "var_scope_test()"
   ]
  },
  {
   "cell_type": "code",
   "execution_count": 28,
   "id": "8a048a82",
   "metadata": {},
   "outputs": [
    {
     "name": "stdout",
     "output_type": "stream",
     "text": [
      "Im accessing Global Variable : DataSc\n",
      "Im accessing Global Variable : datascience\n",
      "Im accessing Local Variable : Py\n"
     ]
    }
   ],
   "source": [
    "global_lang = 'DataSc' # global variable\n",
    "print(\"Im accessing Global Variable :\", global_lang)\n",
    "def var_scope_test():\n",
    "    local_lang = 'Py' # local variable\n",
    "#     print(local_lang)\n",
    "    global global_lang \n",
    "    global_lang=\"datascience\"\n",
    "    print(\"Im accessing Global Variable :\", global_lang)\n",
    "    print(\"Im accessing Local Variable :\", local_lang)\n",
    "    \n",
    "    return\n",
    "var_scope_test()"
   ]
  },
  {
   "cell_type": "markdown",
   "id": "ab2f7a40",
   "metadata": {},
   "source": [
    "# Anonymous function: no name or  lambda"
   ]
  },
  {
   "cell_type": "code",
   "execution_count": 31,
   "id": "9ae9d8e3",
   "metadata": {},
   "outputs": [
    {
     "name": "stdout",
     "output_type": "stream",
     "text": [
      "9\n"
     ]
    }
   ],
   "source": [
    "sums=lambda val1,val2,val3: val1+val2+val3\n",
    "print(sums(2,3,4))"
   ]
  },
  {
   "cell_type": "code",
   "execution_count": 34,
   "id": "e12d4453",
   "metadata": {},
   "outputs": [
    {
     "name": "stdout",
     "output_type": "stream",
     "text": [
      "5\n"
     ]
    }
   ],
   "source": [
    "def greater(num1,num2):\n",
    "    if num1>num2:\n",
    "        print (num1)\n",
    "    elif num1<num2:\n",
    "        print (num2)\n",
    "    else:\n",
    "        print (equal)\n",
    "greater(3,5)"
   ]
  },
  {
   "cell_type": "code",
   "execution_count": 38,
   "id": "9b2de692",
   "metadata": {},
   "outputs": [
    {
     "data": {
      "text/plain": [
       "5"
      ]
     },
     "execution_count": 38,
     "metadata": {},
     "output_type": "execute_result"
    }
   ],
   "source": [
    "greater=lambda n1,n2:n1 if n1>n2 else n2\n",
    "greater(3,5)"
   ]
  },
  {
   "cell_type": "code",
   "execution_count": null,
   "id": "a793e4e9",
   "metadata": {},
   "outputs": [],
   "source": [
    "## 3 conditions elif"
   ]
  },
  {
   "cell_type": "code",
   "execution_count": 16,
   "id": "876916bc",
   "metadata": {},
   "outputs": [
    {
     "data": {
      "text/plain": [
       "'equal'"
      ]
     },
     "execution_count": 16,
     "metadata": {},
     "output_type": "execute_result"
    }
   ],
   "source": [
    "greater=lambda n1,n2:n1 if n1>n2 else n2 if n2>n1 else \"equal\"\n",
    "greater(3,3)"
   ]
  },
  {
   "cell_type": "code",
   "execution_count": 41,
   "id": "e27dc7ae",
   "metadata": {},
   "outputs": [
    {
     "ename": "SyntaxError",
     "evalue": "expected 'else' after 'if' expression (1630461704.py, line 1)",
     "output_type": "error",
     "traceback": [
      "\u001b[1;36m  Cell \u001b[1;32mIn[41], line 1\u001b[1;36m\u001b[0m\n\u001b[1;33m    greater=lambda n1,n2:n1 if n1>n2 if n2>n1 n2 else \"equal\"\u001b[0m\n\u001b[1;37m                         ^\u001b[0m\n\u001b[1;31mSyntaxError\u001b[0m\u001b[1;31m:\u001b[0m expected 'else' after 'if' expression\n"
     ]
    }
   ],
   "source": [
    "greater=lambda n1,n2:n1 if n1>n2 elif n2>n1 n2 else \"equal\"\n",
    "greater(3,3)"
   ]
  },
  {
   "cell_type": "code",
   "execution_count": 17,
   "id": "6ae3b019",
   "metadata": {},
   "outputs": [
    {
     "ename": "SyntaxError",
     "evalue": "expected 'else' after 'if' expression (2088307910.py, line 1)",
     "output_type": "error",
     "traceback": [
      "\u001b[1;36m  Cell \u001b[1;32mIn[17], line 1\u001b[1;36m\u001b[0m\n\u001b[1;33m    greater=lambda n1,n2:n1 if n1>n2 n2 elif n2>n1  else n1\u001b[0m\n\u001b[1;37m                         ^\u001b[0m\n\u001b[1;31mSyntaxError\u001b[0m\u001b[1;31m:\u001b[0m expected 'else' after 'if' expression\n"
     ]
    }
   ],
   "source": [
    "greater=lambda n1,n2:n1 if n1>n2 n2 elif n2>n1  else n1\n",
    "greater(3,3)"
   ]
  },
  {
   "cell_type": "code",
   "execution_count": 45,
   "id": "f4bdc785",
   "metadata": {},
   "outputs": [
    {
     "ename": "SyntaxError",
     "evalue": "invalid syntax (3876406380.py, line 1)",
     "output_type": "error",
     "traceback": [
      "\u001b[1;36m  Cell \u001b[1;32mIn[45], line 1\u001b[1;36m\u001b[0m\n\u001b[1;33m    greater=lambda n1,n2: if n1>n2 n1 elif n2>n1 n2 else n1\u001b[0m\n\u001b[1;37m                          ^\u001b[0m\n\u001b[1;31mSyntaxError\u001b[0m\u001b[1;31m:\u001b[0m invalid syntax\n"
     ]
    }
   ],
   "source": [
    "greater=lambda n1,n2: if n1>n2 n1 elif n2>n1 n2 else n1\n",
    "greater(3,3)"
   ]
  },
  {
   "cell_type": "code",
   "execution_count": 46,
   "id": "5d72b75b",
   "metadata": {},
   "outputs": [
    {
     "ename": "SyntaxError",
     "evalue": "expected 'else' after 'if' expression (1525250406.py, line 1)",
     "output_type": "error",
     "traceback": [
      "\u001b[1;36m  Cell \u001b[1;32mIn[46], line 1\u001b[1;36m\u001b[0m\n\u001b[1;33m    greater=lambda n1,n2:n1 if n1>n2 if n2>n1 n2 else n1\u001b[0m\n\u001b[1;37m                         ^\u001b[0m\n\u001b[1;31mSyntaxError\u001b[0m\u001b[1;31m:\u001b[0m expected 'else' after 'if' expression\n"
     ]
    }
   ],
   "source": [
    "greater=lambda n1,n2:n1 if n1>n2 if n2>n1 n2 else n1\n",
    "greater(3,3)"
   ]
  },
  {
   "cell_type": "code",
   "execution_count": null,
   "id": "1364bb16",
   "metadata": {},
   "outputs": [],
   "source": [
    "# 3 variables"
   ]
  },
  {
   "cell_type": "code",
   "execution_count": 48,
   "id": "bdfa0a37",
   "metadata": {},
   "outputs": [
    {
     "data": {
      "text/plain": [
       "4"
      ]
     },
     "execution_count": 48,
     "metadata": {},
     "output_type": "execute_result"
    }
   ],
   "source": [
    "greater=lambda n1,n2,n3:n1 if n1>n2 and n1>n3 else n2 if n2>n1 and n2>n3 else n3\n",
    "greater(3,3,4)"
   ]
  },
  {
   "cell_type": "code",
   "execution_count": 49,
   "id": "8325c88c",
   "metadata": {},
   "outputs": [
    {
     "data": {
      "text/plain": [
       "5"
      ]
     },
     "execution_count": 49,
     "metadata": {},
     "output_type": "execute_result"
    }
   ],
   "source": [
    "greater=lambda n1,n2,n3:n1 if n1>n2 and n1>n3 else n2 if n2>n1 and n2>n3 else n3\n",
    "greater(5,3,4)"
   ]
  },
  {
   "cell_type": "code",
   "execution_count": 50,
   "id": "e2bdfb5f",
   "metadata": {},
   "outputs": [],
   "source": [
    "# map lambda"
   ]
  },
  {
   "cell_type": "code",
   "execution_count": 51,
   "id": "48bdb3ca",
   "metadata": {},
   "outputs": [
    {
     "name": "stdout",
     "output_type": "stream",
     "text": [
      "[1, 4, 9, 16, 25, 36, 49, 64, 81, 100]\n"
     ]
    }
   ],
   "source": [
    "num_list=list(range(1,11))\n",
    "sq_list=list(map(lambda x: x**2, num_list))\n",
    "print(sq_list)"
   ]
  },
  {
   "cell_type": "code",
   "execution_count": 53,
   "id": "75b2cceb",
   "metadata": {},
   "outputs": [
    {
     "name": "stdout",
     "output_type": "stream",
     "text": [
      "[2, 4, 6, 8, 10]\n"
     ]
    }
   ],
   "source": [
    "num_list=list(range(1,11))\n",
    "sq_list=list(filter(lambda x: x%2==0, num_list))\n",
    "print(sq_list)"
   ]
  },
  {
   "cell_type": "code",
   "execution_count": 54,
   "id": "19e61a65",
   "metadata": {},
   "outputs": [
    {
     "name": "stdout",
     "output_type": "stream",
     "text": [
      "[1, 3, 5, 7, 9]\n"
     ]
    }
   ],
   "source": [
    "num_list=list(range(1,11))\n",
    "sq_list=list(filter(lambda x: x%2==1, num_list))\n",
    "print(sq_list)"
   ]
  },
  {
   "cell_type": "code",
   "execution_count": 55,
   "id": "cfb06042",
   "metadata": {},
   "outputs": [
    {
     "name": "stdout",
     "output_type": "stream",
     "text": [
      "[1, 3, 5, 7, 9]\n"
     ]
    }
   ],
   "source": [
    "num_list=list(range(1,11))\n",
    "sq_list=list(filter(lambda x: x%2, num_list))\n",
    "print(sq_list)"
   ]
  },
  {
   "cell_type": "code",
   "execution_count": 56,
   "id": "ff3fd0d6",
   "metadata": {},
   "outputs": [],
   "source": [
    "# prime numbers"
   ]
  },
  {
   "cell_type": "code",
   "execution_count": 4,
   "id": "11969171",
   "metadata": {},
   "outputs": [
    {
     "name": "stdout",
     "output_type": "stream",
     "text": [
      "prime\n"
     ]
    }
   ],
   "source": [
    "def evencheck(nums):\n",
    "    even_list=[]\n",
    "    for i in range(2,nums):\n",
    "        if nums%i==0:\n",
    "            print(\"not prime\")\n",
    "            break\n",
    "    else:\n",
    "        print(\"prime\")\n",
    "evencheck(5)"
   ]
  },
  {
   "cell_type": "code",
   "execution_count": 5,
   "id": "26bcf161",
   "metadata": {},
   "outputs": [
    {
     "name": "stdout",
     "output_type": "stream",
     "text": [
      "not prime\n"
     ]
    }
   ],
   "source": [
    "evencheck(8)"
   ]
  },
  {
   "cell_type": "code",
   "execution_count": 57,
   "id": "92f988de",
   "metadata": {},
   "outputs": [],
   "source": [
    "# even without lambda"
   ]
  },
  {
   "cell_type": "code",
   "execution_count": 59,
   "id": "1afbd060",
   "metadata": {},
   "outputs": [
    {
     "name": "stdout",
     "output_type": "stream",
     "text": [
      "[2, 56, 64, 32]\n"
     ]
    }
   ],
   "source": [
    "def evencheck(nums):\n",
    "    even_list=[]\n",
    "    for i in nums:\n",
    "        if i%2==0:\n",
    "            even_list.append(i)\n",
    "    print(even_list)\n",
    "evencheck([3,5,2,56,23,21,64,32,11])"
   ]
  },
  {
   "cell_type": "code",
   "execution_count": 60,
   "id": "3a0a3da1",
   "metadata": {},
   "outputs": [],
   "source": [
    "# itertor"
   ]
  },
  {
   "cell_type": "code",
   "execution_count": 61,
   "id": "3980bc2f",
   "metadata": {},
   "outputs": [],
   "source": [
    "# map"
   ]
  },
  {
   "cell_type": "code",
   "execution_count": 63,
   "id": "1e68992c",
   "metadata": {},
   "outputs": [],
   "source": [
    "# temp celsius to fahrenheit"
   ]
  },
  {
   "cell_type": "code",
   "execution_count": 64,
   "id": "efbb5936",
   "metadata": {},
   "outputs": [],
   "source": [
    "# reduce"
   ]
  },
  {
   "cell_type": "code",
   "execution_count": 69,
   "id": "42ab35a5",
   "metadata": {},
   "outputs": [],
   "source": [
    "import functools\n",
    "# import  reduce from functools"
   ]
  },
  {
   "cell_type": "code",
   "execution_count": 68,
   "id": "af893619",
   "metadata": {},
   "outputs": [
    {
     "data": {
      "text/plain": [
       "55"
      ]
     },
     "execution_count": 68,
     "metadata": {},
     "output_type": "execute_result"
    }
   ],
   "source": [
    " functools.reduce(lambda x,y:x+y,num_list)"
   ]
  },
  {
   "cell_type": "code",
   "execution_count": null,
   "id": "92933720",
   "metadata": {},
   "outputs": [],
   "source": []
  },
  {
   "cell_type": "markdown",
   "id": "facfadc9",
   "metadata": {},
   "source": [
    "# python class & object"
   ]
  },
  {
   "cell_type": "code",
   "execution_count": null,
   "id": "0b1f2a24",
   "metadata": {},
   "outputs": [],
   "source": [
    "Classname firstletter is capital\n",
    "self is mandatory (list of all attributes)\n",
    "self.radius means radius  of current object\n"
   ]
  },
  {
   "cell_type": "code",
   "execution_count": 26,
   "id": "2257b308",
   "metadata": {},
   "outputs": [],
   "source": [
    "import matplotlib.pyplot as plt\n",
    "%matplotlib inline"
   ]
  },
  {
   "cell_type": "code",
   "execution_count": 35,
   "id": "858dca15",
   "metadata": {},
   "outputs": [
    {
     "name": "stdout",
     "output_type": "stream",
     "text": [
      "15\n"
     ]
    },
    {
     "data": {
      "image/png": "[encoded data removed]",
      "text/plain": [
       "<Figure size 640x480 with 1 Axes>"
      ]
     },
     "metadata": {},
     "output_type": "display_data"
    }
   ],
   "source": [
    "class Mycircle(object):\n",
    "    def __init__(self,radius=3,colorfill=\"brown\"):\n",
    "        self.radius=radius\n",
    "        self.colorfill=colorfill\n",
    "    def adds(self,val):\n",
    "        self.radius=self.radius+val\n",
    "        print(self.radius)\n",
    "    def drawCircle(self):\n",
    "        plt.gca().add_patch(plt.Circle((2,2),radius=self.radius, fc=self.colorfill))\n",
    "        plt.axis('scaled')\n",
    "        plt.show()\n",
    "ob1= Mycircle(10,'red')\n",
    "ob1.adds(5)\n",
    "\n",
    "ob1.radius\n",
    "ob1.colorfill\n",
    "\n",
    "ob1.drawCircle()"
   ]
  },
  {
   "cell_type": "code",
   "execution_count": 12,
   "id": "73091b66",
   "metadata": {},
   "outputs": [
    {
     "name": "stdout",
     "output_type": "stream",
     "text": [
      "15\n"
     ]
    }
   ],
   "source": [
    "ob1.adds(7)"
   ]
  },
  {
   "cell_type": "code",
   "execution_count": 13,
   "id": "d70f8c0e",
   "metadata": {},
   "outputs": [
    {
     "name": "stdout",
     "output_type": "stream",
     "text": [
      "17\n"
     ]
    }
   ],
   "source": [
    "ob1.adds(2)"
   ]
  },
  {
   "cell_type": "code",
   "execution_count": 14,
   "id": "c5169720",
   "metadata": {},
   "outputs": [],
   "source": [
    "# keeps on adding the value to radius"
   ]
  },
  {
   "cell_type": "code",
   "execution_count": 15,
   "id": "a80160a9",
   "metadata": {},
   "outputs": [],
   "source": []
  },
  {
   "cell_type": "code",
   "execution_count": 29,
   "id": "c88d9543",
   "metadata": {},
   "outputs": [],
   "source": [
    "class Circle(object):\n",
    "    \n",
    "    # Constructor\n",
    "    def __init__(self, radius=3, color='blue'): #this is called a constructer.to make constructer we must use the keyword \"__init__\"\n",
    "        self.radius = radius  # in our constructor we are setting the instance variables or attributes.\n",
    "        self.color = color \n",
    "    \n",
    "    # Method\n",
    "    def add_radius(self, r): # 2\n",
    "        self.radius = self.radius + r # 2+3 = 5\n",
    "        return (self.radius)\n",
    "    \n",
    "    # Method\n",
    "    def drawCircle(self):\n",
    "        plt.gca().add_patch(plt.Circle((0, 0), radius=self.radius, fc=self.color))\n",
    "        plt.axis('scaled')\n",
    "        plt.show()"
   ]
  },
  {
   "cell_type": "code",
   "execution_count": 31,
   "id": "49835822",
   "metadata": {},
   "outputs": [
    {
     "data": {
      "image/png": "[encoded data removed]",
      "text/plain": [
       "<Figure size 640x480 with 1 Axes>"
      ]
     },
     "metadata": {},
     "output_type": "display_data"
    }
   ],
   "source": [
    "ob2=Circle(3,'green')\n",
    "ob2.drawCircle()"
   ]
  },
  {
   "cell_type": "code",
   "execution_count": 47,
   "id": "f487a4b6",
   "metadata": {},
   "outputs": [],
   "source": [
    "class Rect(object):\n",
    "    \n",
    "    # Constructor\n",
    "    def __init__(self, len, bre,colorfill): #this is called a constructer.to make constructer we must use the keyword \"__init__\"\n",
    "        self.bre = bre  # in our constructor we are setting the instance variables or attributes.\n",
    "        self.len=len\n",
    "        self.colorfill = colorfill \n",
    "    \n",
    "    # Method to add l and b to length\n",
    "    def add_radius(self, len,bre): # 2\n",
    "        self.len = self.len + self.bre # 2+3 = 5\n",
    "        return (self.len)\n",
    "    \n",
    "    # Method\n",
    "    def drawRect(self):\n",
    "        plt.gca().add_patch(plt.Rectangle((2, 2),self.len, self.bre, fc=self.colorfill))\n",
    "        plt.axis('scaled')\n",
    "        plt.show()"
   ]
  },
  {
   "cell_type": "code",
   "execution_count": 48,
   "id": "82a1103a",
   "metadata": {},
   "outputs": [
    {
     "data": {
      "image/png": "[encoded data removed]",
      "text/plain": [
       "<Figure size 640x480 with 1 Axes>"
      ]
     },
     "metadata": {},
     "output_type": "display_data"
    }
   ],
   "source": [
    "obRect= Rect(4,2,'blue')\n",
    "obRect.drawRect()"
   ]
  },
  {
   "cell_type": "code",
   "execution_count": 50,
   "id": "260fa0cc",
   "metadata": {},
   "outputs": [
    {
     "data": {
      "image/png": "[encoded data removed]",
      "text/plain": [
       "<Figure size 640x480 with 1 Axes>"
      ]
     },
     "metadata": {},
     "output_type": "display_data"
    }
   ],
   "source": [
    "ob2Rect= Rect(2,4,'yellow')\n",
    "ob2Rect.drawRect()"
   ]
  },
  {
   "cell_type": "code",
   "execution_count": 54,
   "id": "0f11f99c",
   "metadata": {},
   "outputs": [],
   "source": [
    "#square"
   ]
  },
  {
   "cell_type": "code",
   "execution_count": 53,
   "id": "d9efe808",
   "metadata": {},
   "outputs": [
    {
     "data": {
      "image/png": "[encoded data removed]",
      "text/plain": [
       "<Figure size 640x480 with 1 Axes>"
      ]
     },
     "metadata": {},
     "output_type": "display_data"
    }
   ],
   "source": [
    "ob2Rect= Rect(3,3,'green')\n",
    "ob2Rect.drawRect()"
   ]
  },
  {
   "cell_type": "code",
   "execution_count": 55,
   "id": "165204a7",
   "metadata": {},
   "outputs": [],
   "source": [
    "# regular expression"
   ]
  },
  {
   "cell_type": "code",
   "execution_count": 56,
   "id": "b6fd218b",
   "metadata": {},
   "outputs": [],
   "source": [
    "import re"
   ]
  },
  {
   "cell_type": "code",
   "execution_count": 58,
   "id": "61f23a1e",
   "metadata": {},
   "outputs": [
    {
     "name": "stdout",
     "output_type": "stream",
     "text": [
      "[]\n"
     ]
    }
   ],
   "source": [
    "str=\"Hello, I'm Raksha\"\n",
    "x=re.findall(\"ai\",str)\n",
    "print(x)"
   ]
  },
  {
   "cell_type": "code",
   "execution_count": 62,
   "id": "be63c7e7",
   "metadata": {},
   "outputs": [
    {
     "name": "stdout",
     "output_type": "stream",
     "text": [
      "['Hell']\n"
     ]
    }
   ],
   "source": [
    "y=re.findall(\"Hell\",str)\n",
    "print(y)"
   ]
  },
  {
   "cell_type": "code",
   "execution_count": null,
   "id": "ac39b65a",
   "metadata": {},
   "outputs": [],
   "source": [
    "# whitespace \\s\n",
    "# 3 is the index of first space\n",
    "# 4 is ?"
   ]
  },
  {
   "cell_type": "code",
   "execution_count": 64,
   "id": "d81ef49b",
   "metadata": {},
   "outputs": [
    {
     "name": "stdout",
     "output_type": "stream",
     "text": [
      "<re.Match object; span=(3, 4), match=' '>\n"
     ]
    }
   ],
   "source": [
    "str2=\"all that glitters is not gold\"\n",
    "z=re.search(\"\\s\",str2)\n",
    "print(z)"
   ]
  },
  {
   "cell_type": "code",
   "execution_count": 68,
   "id": "f6d05817",
   "metadata": {},
   "outputs": [
    {
     "name": "stdout",
     "output_type": "stream",
     "text": [
      "The first white-space character is located in position: <re.Match object; span=(6, 7), match=' '>\n"
     ]
    }
   ],
   "source": [
    "#Search for the first white-space character in the string:\n",
    "txt1 = \"Thanyou rain in Spain and no rain in Rome\"\n",
    "x = re.search(\"\\s\", txt1)\n",
    "\n",
    "print(\"The first white-space character is located in position:\", x)"
   ]
  },
  {
   "cell_type": "code",
   "execution_count": 69,
   "id": "eee7370a",
   "metadata": {},
   "outputs": [
    {
     "name": "stdout",
     "output_type": "stream",
     "text": [
      "None\n"
     ]
    }
   ],
   "source": [
    "z=re.search(\"\\r\",str2)\n",
    "print(z)"
   ]
  },
  {
   "cell_type": "code",
   "execution_count": 70,
   "id": "f6602686",
   "metadata": {},
   "outputs": [],
   "source": [
    "# split"
   ]
  },
  {
   "cell_type": "code",
   "execution_count": 71,
   "id": "8a4d59ac",
   "metadata": {},
   "outputs": [
    {
     "data": {
      "text/plain": [
       "['all', 'that', 'glitters', 'is', 'not', 'gold']"
      ]
     },
     "execution_count": 71,
     "metadata": {},
     "output_type": "execute_result"
    }
   ],
   "source": [
    "re.split(' ',str2)"
   ]
  },
  {
   "cell_type": "code",
   "execution_count": 72,
   "id": "d11a2f40",
   "metadata": {},
   "outputs": [
    {
     "data": {
      "text/plain": [
       "['', 'll th', 't glitters is not gold']"
      ]
     },
     "execution_count": 72,
     "metadata": {},
     "output_type": "execute_result"
    }
   ],
   "source": [
    "re.split('a',str2)"
   ]
  },
  {
   "cell_type": "code",
   "execution_count": 73,
   "id": "f79f3fec",
   "metadata": {},
   "outputs": [
    {
     "data": {
      "text/plain": [
       "['', 'll th', 't glitters is not gold']"
      ]
     },
     "execution_count": 73,
     "metadata": {},
     "output_type": "execute_result"
    }
   ],
   "source": [
    "re.split('a',str2,2)"
   ]
  },
  {
   "cell_type": "code",
   "execution_count": 74,
   "id": "31834653",
   "metadata": {},
   "outputs": [
    {
     "data": {
      "text/plain": [
       "['', 'll that glitters is not gold']"
      ]
     },
     "execution_count": 74,
     "metadata": {},
     "output_type": "execute_result"
    }
   ],
   "source": [
    "re.split('a',str2,1)"
   ]
  },
  {
   "cell_type": "code",
   "execution_count": 75,
   "id": "442359af",
   "metadata": {},
   "outputs": [
    {
     "data": {
      "text/plain": [
       "['', 'll th', 't glitters is not gold']"
      ]
     },
     "execution_count": 75,
     "metadata": {},
     "output_type": "execute_result"
    }
   ],
   "source": [
    "re.split('a',str2,3)"
   ]
  },
  {
   "cell_type": "code",
   "execution_count": 76,
   "id": "e5b4dbf1",
   "metadata": {},
   "outputs": [
    {
     "data": {
      "text/plain": [
       "['', 'll th', 't glitters is not gold']"
      ]
     },
     "execution_count": 76,
     "metadata": {},
     "output_type": "execute_result"
    }
   ],
   "source": [
    "re.split('a',str2,4)"
   ]
  },
  {
   "cell_type": "code",
   "execution_count": 77,
   "id": "f437b8d0",
   "metadata": {},
   "outputs": [],
   "source": [
    "# replace"
   ]
  },
  {
   "cell_type": "code",
   "execution_count": 80,
   "id": "70b436d4",
   "metadata": {},
   "outputs": [
    {
     "data": {
      "text/plain": [
       "'all that glitters is not diamond'"
      ]
     },
     "execution_count": 80,
     "metadata": {},
     "output_type": "execute_result"
    }
   ],
   "source": [
    "re.sub(\"gold\",\"diamond\",str2)"
   ]
  },
  {
   "cell_type": "code",
   "execution_count": 81,
   "id": "4e131724",
   "metadata": {},
   "outputs": [
    {
     "data": {
      "text/plain": [
       "'all that glitters is not gold'"
      ]
     },
     "execution_count": 81,
     "metadata": {},
     "output_type": "execute_result"
    }
   ],
   "source": [
    "re.sub(\"golds\",\"diamond\",str2)"
   ]
  },
  {
   "cell_type": "code",
   "execution_count": 83,
   "id": "2b383521",
   "metadata": {},
   "outputs": [
    {
     "data": {
      "text/plain": [
       "'diamond is diamond, gold is not diamond, diamond is not gold'"
      ]
     },
     "execution_count": 83,
     "metadata": {},
     "output_type": "execute_result"
    }
   ],
   "source": [
    "# 2 occurrences\n",
    "st=\"gold is gold, gold is not diamond, diamond is not gold\"\n",
    "re.sub(\"gold\",\"diamond\",st,2)"
   ]
  },
  {
   "cell_type": "code",
   "execution_count": 84,
   "id": "a03b02ac",
   "metadata": {},
   "outputs": [
    {
     "data": {
      "text/plain": [
       "'diamond is diamond, diamond is not diamond, diamond is not diamond'"
      ]
     },
     "execution_count": 84,
     "metadata": {},
     "output_type": "execute_result"
    }
   ],
   "source": [
    "re.sub(\"gold\",\"diamond\",st,5)"
   ]
  },
  {
   "cell_type": "code",
   "execution_count": 85,
   "id": "4a4008de",
   "metadata": {},
   "outputs": [],
   "source": [
    "# match"
   ]
  },
  {
   "cell_type": "code",
   "execution_count": 88,
   "id": "9cfc8405",
   "metadata": {},
   "outputs": [
    {
     "data": {
      "text/plain": [
       "<re.Match object; span=(0, 3), match='all'>"
      ]
     },
     "execution_count": 88,
     "metadata": {},
     "output_type": "execute_result"
    }
   ],
   "source": [
    "re.match(\"all\",str2)"
   ]
  },
  {
   "cell_type": "code",
   "execution_count": 90,
   "id": "74a24a52",
   "metadata": {},
   "outputs": [],
   "source": [
    "re.match('the',str2)"
   ]
  },
  {
   "cell_type": "code",
   "execution_count": 86,
   "id": "767e752d",
   "metadata": {},
   "outputs": [],
   "source": [
    "# match - searches only beiginning of the string\n",
    "# search - searches eveyrwhere in string"
   ]
  },
  {
   "cell_type": "code",
   "execution_count": 87,
   "id": "708eb568",
   "metadata": {},
   "outputs": [],
   "source": [
    "# all days of week"
   ]
  },
  {
   "cell_type": "code",
   "execution_count": null,
   "id": "82b1cced",
   "metadata": {},
   "outputs": [],
   "source": []
  }
 ],
 "metadata": {
  "kernelspec": {
   "display_name": "Python 3 (ipykernel)",
   "language": "python",
   "name": "python3"
  },
  "language_info": {
   "codemirror_mode": {
    "name": "ipython",
    "version": 3
   },
   "file_extension": ".py",
   "mimetype": "text/x-python",
   "name": "python",
   "nbconvert_exporter": "python",
   "pygments_lexer": "ipython3",
   "version": "3.10.9"
  }
 },
 "nbformat": 4,
 "nbformat_minor": 5
}
